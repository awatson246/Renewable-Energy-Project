{
 "cells": [
  {
   "cell_type": "markdown",
   "metadata": {},
   "source": [
    "# Project Journal"
   ]
  },
  {
   "cell_type": "markdown",
   "metadata": {
    "vscode": {
     "languageId": "plaintext"
    }
   },
   "source": [
    "Name: Erin Widener\n",
    "\n",
    "Research Question: In considering 3 different energy production sources (total fossil fuel production, nuclear electric power production, total renewable energy production) and 1 energy import variable (primary energy imports), can at least one of these sources of energy \"inputs\" accurately predict total primary energy consumption?  \n",
    "\n",
    "Variables: Response = Total Primary Energy Consumption (Y)\n",
    "           Predictor(s) = Total Fossil Fuel Production (B1, X1), Nuclear Electric Power Production (B2, X2), Total Renewable Energy Production (B3, X3), Primary Energy Imputs (B4, X4)\n",
    "\n",
    "Hypothesis: Is there at least one predictor useful in predicting total primary energy consumption? \n",
    "\n",
    "Ho: B1 = B2 = B3 = B4 = 0 \n",
    "Ha: At least one Bj ≠ 0 (j= 1-4) "
   ]
  },
  {
   "cell_type": "markdown",
   "metadata": {},
   "source": [
    "## Data Prep & EDA"
   ]
  },
  {
   "cell_type": "markdown",
   "metadata": {},
   "source": [
    "### Data Cleaning Summary\n",
    "\n",
    "**Summary of data cleaning process:**\n",
    "1. Step 1: Set wd and install/load packages\n",
    "2. Step 2: Import data\n",
    "3. Step 3: Asses the structure of the data\n",
    "4. Step 4: Build dataframe with relevant variables\n",
    "\n",
    "**Issues Encountered and Resolutions:**\n",
    "Some minor loading issues with some packages (ALSM) and extracting relevant variables from dataset renaming them to analysis friendly terms like \"Fossil\" or \"Renewable\"\n"
   ]
  },
  {
   "cell_type": "code",
   "execution_count": null,
   "metadata": {
    "vscode": {
     "languageId": "r"
    }
   },
   "outputs": [],
   "source": [
    "##Step 1 - set working directory and install/load packages (installation code deleted to show clearly the packeges loaded from library)\n",
    "setwd(\"C:/Users/Hunte/OneDrive - purdue.edu/STAT 512/Final Project\")\n",
    "library(vroom)\n",
    "library(tidyverse)\n",
    "library(IRkernel)\n",
    "library(ALSM)\n",
    "library(car)\n",
    "library(fmsb)\n",
    "library(GGally)\n",
    "library(lmridge)\n",
    "library(lmtest)\n",
    "library(MASS)\n",
    "library(glmnet) \n",
    "library(boot) \n",
    "library(caret)"
   ]
  },
  {
   "cell_type": "code",
   "execution_count": null,
   "metadata": {
    "vscode": {
     "languageId": "r"
    }
   },
   "outputs": [],
   "source": [
    "##Step 2 - Import dataset\n",
    "dataset <- read.csv(\"World Energy Overview.csv\")\n",
    "matrix.data <- as.matrix(dataset)"
   ]
  },
  {
   "cell_type": "code",
   "execution_count": null,
   "metadata": {
    "vscode": {
     "languageId": "r"
    }
   },
   "outputs": [],
   "source": [
    "##Step 3 - Asses the structure of the data\n",
    "str(dataset)\n",
    "str(matrix.data)"
   ]
  },
  {
   "cell_type": "code",
   "execution_count": null,
   "metadata": {
    "vscode": {
     "languageId": "r"
    }
   },
   "outputs": [],
   "source": [
    "#Step 4 Building dataframe with relevant variables\n",
    "Y <- dataset$Total.Primary.Energy.Consumption \n",
    "X1 <- dataset$Total.Fossil.Fuels.Production\n",
    "X2 <- dataset$Nuclear.Electric.Power.Production\n",
    "X3 <- dataset$Total.Renewable.Energy.Production \n",
    "X4 <- dataset$Primary.Energy.Imports\n",
    "\n",
    "predictor.response.data <- data.frame(\"Consumption\"= Y, \"Fossil\" = X1, \n",
    "                                                 \"Nuclear\" = X2, \n",
    "                                                 \"Renewable\" = X3, \n",
    "                                                 \"Imports\" = X4)\n",
    "head(predictor.response.data)"
   ]
  },
  {
   "cell_type": "markdown",
   "metadata": {},
   "source": [
    "### Summary Statistics"
   ]
  },
  {
   "cell_type": "code",
   "execution_count": null,
   "metadata": {
    "vscode": {
     "languageId": "r"
    }
   },
   "outputs": [],
   "source": [
    "#summary statistics \n",
    "mean(Y)\n",
    "sd(Y)\n",
    "mean(X1)\n",
    "sd(X1)\n",
    "mean(X2)\n",
    "sd(X2)\n",
    "mean(X3)\n",
    "sd(X3)\n",
    "mean(X4)\n",
    "sd(X4)"
   ]
  },
  {
   "cell_type": "markdown",
   "metadata": {},
   "source": [
    "### Exploratory Data Analysis Findings\n",
    "\n",
    "The main finding of this analysis was that the scale of each variable is quite different. This may make remedial measures such as log transformations have a risk of overfitting or showing as more powerful than they really are. The main thing I will be looking for are if the relationship of each predictor in the model in relation to the response variable are preserved and how these relationships explain whether or not they can be considered a useful predictor for overall energy consumption. "
   ]
  },
  {
   "cell_type": "markdown",
   "metadata": {},
   "source": [
    "***\n",
    "## Model Building"
   ]
  },
  {
   "cell_type": "markdown",
   "metadata": {},
   "source": [
    "### Model Equation\n",
    "\n",
    "**Equation:** \n",
    "\n",
    "$$Y = \\beta_0 +  \\beta_1X_1 + \\beta_2X_2 + \\beta_3X_3 + \\beta_4X_4 + \\epsilon   "
   ]
  },
  {
   "cell_type": "markdown",
   "metadata": {},
   "source": [
    "Where, \n",
    "Y= Total.Primary.Energy.Consumption → Y \n",
    "    B1= Total.Fossil.Fuel.Production → X1 \n",
    "    B2= Nuclear.Electric.Power.Production → X2 \n",
    "    B3= Total.Renewable.Energy.Production → X3\n",
    "    B4= Primary.Energy.Imports → X4"
   ]
  },
  {
   "cell_type": "markdown",
   "metadata": {},
   "source": [
    "### Model Fitting"
   ]
  },
  {
   "cell_type": "code",
   "execution_count": null,
   "metadata": {
    "vscode": {
     "languageId": "r"
    }
   },
   "outputs": [],
   "source": [
    "##MLR model\n",
    "mlr.mod <- lm(Consumption ~ Fossil + Nuclear + Renewable + Imports, predictor.response.data)"
   ]
  },
  {
   "cell_type": "markdown",
   "metadata": {},
   "source": [
    "### Multicollinearity"
   ]
  },
  {
   "cell_type": "code",
   "execution_count": null,
   "metadata": {
    "vscode": {
     "languageId": "r"
    }
   },
   "outputs": [],
   "source": [
    "#Pairwise scatter plot & multicolinearity\n",
    "ggpairs(predictor.response.data)\n",
    "VIF(lm(Fossil ~ Nuclear + Renewable + Imports, data= predictor.response.data))\n",
    "VIF(lm(Nuclear ~ Fossil + Renewable + Imports, data= predictor.response.data))\n",
    "VIF(lm(Renewable ~ Fossil + Nuclear + Imports, data= predictor.response.data))\n",
    "VIF(lm(Imports ~ Fossil + Nuclear + Renewable, data= predictor.response.data))\n",
    "VIF(lm(Fossil ~ Renewable, data= predictor.response.data))\n",
    "VIF(lm(Nuclear ~ Imports, data= predictor.response.data))"
   ]
  },
  {
   "cell_type": "markdown",
   "metadata": {},
   "source": [
    "### Model Summary and Diagonostics"
   ]
  },
  {
   "cell_type": "code",
   "execution_count": null,
   "metadata": {
    "vscode": {
     "languageId": "r"
    }
   },
   "outputs": [],
   "source": [
    "# Summary & confidence intervals\n",
    "summary(mlr.mod)\n",
    "confint(mlr.mod, level=0.95)\n",
    "\n",
    "#Anova (type I & II)\n",
    "anova(mlr.mod)\n",
    "Anova(mlr.mod, type = 2)\n",
    "\n",
    "# Diagnostics: Residual Plots, Normality, etc.\n",
    "plot(mlr.mod)\n",
    "\n",
    "#Cooks distance \n",
    "cooksd <- cooks.distance(mlr.mod)\n",
    "plot(cooksd, type = \"h\", main = \"Cook's Distance\", ylab = \"Cook's Distance\")\n",
    "abline(h = 4 / length(cooksd), col = \"red\")  # threshold for influential points"
   ]
  },
  {
   "cell_type": "code",
   "execution_count": null,
   "metadata": {
    "vscode": {
     "languageId": "r"
    }
   },
   "outputs": [],
   "source": [
    "##Individual SLR models\n",
    "#Fossil\n",
    "fossil.mod <- lm(Consumption ~ Fossil, predictor.response.data)\n",
    "summary(fossil.mod)\n",
    "ggplot(predictor.response.data, aes(x= Fossil, y= Consumption)) +\n",
    "  geom_point() + \n",
    "  geom_smooth(method = \"lm\", color = \"orange\") + \n",
    "  theme_bw()\n",
    "\n",
    "#Nuclear\n",
    "nuclear.mod <- lm(Consumption ~ Nuclear, predictor.response.data)\n",
    "summary(nuclear.mod)\n",
    "ggplot(predictor.response.data, aes(x= Nuclear, y= Consumption)) +\n",
    "  geom_point() + \n",
    "  geom_smooth(method = \"lm\", color = \"blue\") + \n",
    "  theme_bw()\n",
    "\n",
    "#Renewable\n",
    "renewable.mod <- lm(Consumption ~ Renewable, predictor.response.data)\n",
    "summary(renewable.mod)\n",
    "ggplot(predictor.response.data, aes(x= Renewable, y= Consumption)) +\n",
    "  geom_point() + \n",
    "  geom_smooth(method = \"lm\", color = \"green\") + \n",
    "  theme_bw()\n",
    "\n",
    "#Imports\n",
    "imports.mod <- lm(Consumption ~ Imports, predictor.response.data)\n",
    "summary(imports.mod)\n",
    "ggplot(predictor.response.data, aes(x= Imports, y= Consumption)) +\n",
    "  geom_point() + \n",
    "  geom_smooth(method = \"lm\", color = \"purple\") + \n",
    "  theme_bw()"
   ]
  },
  {
   "cell_type": "code",
   "execution_count": null,
   "metadata": {
    "vscode": {
     "languageId": "r"
    }
   },
   "outputs": [],
   "source": [
    "#Partial regression plots (component + residual) \n",
    "crPlots(mlr.mod)"
   ]
  },
  {
   "cell_type": "markdown",
   "metadata": {},
   "source": [
    "***\n",
    "## Model Evaluation & Validation"
   ]
  },
  {
   "cell_type": "markdown",
   "metadata": {},
   "source": [
    "### Documentation of Model Adjustments"
   ]
  },
  {
   "cell_type": "code",
   "execution_count": null,
   "metadata": {
    "vscode": {
     "languageId": "r"
    }
   },
   "outputs": [],
   "source": [
    "##MLR model effects on renewables (the problem child)\n",
    "fossil.renew <- lm(Consumption ~ Fossil + Renewable, predictor.response.data)\n",
    "summary(fossil.renew)\n",
    "confint(fossil.renew)\n",
    "Anova(fossil.renew, type= 2)\n",
    "\n",
    "nuclear.renew <- lm(Consumption ~ Nuclear + Renewable, predictor.response.data)\n",
    "summary(nuclear.renew)\n",
    "confint(nuclear.renew)\n",
    "Anova(nuclear.renew, type= 2)\n",
    "\n",
    "imports.renew <- lm(Consumption ~ Imports + Renewable, predictor.response.data)\n",
    "summary(imports.renew)\n",
    "confint(nuclear.renew)\n",
    "Anova(imports.renew, type= 2)"
   ]
  },
  {
   "cell_type": "code",
   "execution_count": null,
   "metadata": {
    "vscode": {
     "languageId": "r"
    }
   },
   "outputs": [],
   "source": [
    "##log transformation \n",
    "ylog.mod = lm(log(Consumption)~Fossil+Nuclear+Renewable+Imports, \n",
    "              data = predictor.response.data)\n",
    "summary(ylog.mod)\n",
    "plot(ylog.mod)"
   ]
  },
  {
   "cell_type": "code",
   "execution_count": null,
   "metadata": {
    "vscode": {
     "languageId": "r"
    }
   },
   "outputs": [],
   "source": [
    "##WLS \n",
    "wts1 <- 1/fitted(lm(abs(residuals(mlr.mod)) ~ Fossil+Nuclear+Renewable+Imports,\n",
    "                    predictor.response.data))^2\n",
    "wls.mod = lm(Consumption ~ Fossil+Nuclear+Renewable+Imports, weight=wts1, \n",
    "             predictor.response.data)\n",
    "summary(wls.mod)\n",
    "confint(wls.mod)\n",
    "plot(wls.mod)\n",
    "bptest(mlr.mod)\n",
    "bptest(wls.mod)"
   ]
  },
  {
   "cell_type": "code",
   "execution_count": null,
   "metadata": {
    "vscode": {
     "languageId": "r"
    }
   },
   "outputs": [],
   "source": [
    "##Bootstrapping\n",
    "set.seed(400)\n",
    "mlr = function(predictor.response.data, indices) {\n",
    "  mlr_boot_data = predictor.response.data[indices, ]\n",
    "  mlr_fit = lm(Consumption~Fossil+Nuclear+Renewable+Imports, data= mlr_boot_data)\n",
    "  coefficients(mlr_fit)\n",
    "}\n",
    "mlr_boot = boot(data= predictor.response.data, statistic = mlr, R=100)\n",
    "mlr_boot\n",
    "boot.ci(mlr_boot, index= 2, type = \"perc\")\n",
    "boot.ci(mlr_boot, index= 3, type = \"perc\")\n",
    "boot.ci(mlr_boot, index= 4, type = \"perc\")\n",
    "boot.ci(mlr_boot, index= 5, type = \"perc\")"
   ]
  },
  {
   "cell_type": "code",
   "execution_count": null,
   "metadata": {
    "vscode": {
     "languageId": "r"
    }
   },
   "outputs": [],
   "source": [
    "##Model selection with AIC \n",
    "aic = AIC(mlr.mod)\n",
    "aic.wls = AIC(wls.mod)\n",
    "aic.log = AIC(ylog.mod)\n",
    "cat(aic)\n",
    "cat(aic.wls)\n",
    "cat(aic.log)"
   ]
  },
  {
   "cell_type": "markdown",
   "metadata": {},
   "source": [
    "Summary of iterative process:\n",
    "1. First I did a log transformation on the response variable (Consumption)\n",
    "2. Then I did a WLS model to see its effect on model performance and fit of data\n",
    "3. Then I did a boostrap resampling method \n",
    "4. Finally I compared AIC scores to pick the model that best balences goodness of fit and complexity\n",
    "\n",
    "Final Model Equation: \n",
    "$$Y = \\beta_0 +  \\beta_1X_1 + \\beta_2X_2 + \\beta_3X_3 + \\beta_4X_4 + \\epsilon  "
   ]
  },
  {
   "cell_type": "markdown",
   "metadata": {},
   "source": [
    "\n",
    "Where, \n",
    "Y= Total.Primary.Energy.Consumption → Y \n",
    "    B1= Total.Fossil.Fuel.Production → X1 \n",
    "    B2= Nuclear.Electric.Power.Production → X2 \n",
    "    B3= Total.Renewable.Energy.Production → X3\n",
    "    B4= Primary.Energy.Imports → X4\n"
   ]
  },
  {
   "cell_type": "markdown",
   "metadata": {},
   "source": [
    "I ended up going with the WLS model because the relationships between the predictor and response variables are preserved such as T-test p-values and direction and magnitude of coeffiecients. The weighted model also sligtly increased the R-squared value and AIC metrics show ΔAIC=6, so there is moderate evidence that the WLS model is better than the original using this method. In addition, the original structure of the model including the same response and predictor values was preserved so there is no substantial change to the model equation. \n",
    "\n",
    "From here, I will cross validate the WLS model using a k-fold method."
   ]
  },
  {
   "cell_type": "markdown",
   "metadata": {},
   "source": [
    "### Model Evaluation"
   ]
  },
  {
   "cell_type": "markdown",
   "metadata": {},
   "source": [
    "### Validation Findings"
   ]
  },
  {
   "cell_type": "code",
   "execution_count": null,
   "metadata": {
    "vscode": {
     "languageId": "r"
    }
   },
   "outputs": [],
   "source": [
    "#cross-cross validation of WLS with K-fold where K=10\n",
    "#method 1\n",
    "#Define the training control\n",
    "train_control <- trainControl(method = \"cv\", number = 10)  # 10-fold CV\n",
    "#Train the model\n",
    "trained.model <- train(Consumption ~ Fossil+Nuclear+Renewable+Imports,\n",
    "                       weights= wts1, \n",
    "                       predictor.response.data, \n",
    "                       method = \"lm\", trControl = train_control)\n",
    "#Print the model summary\n",
    "print(trained.model)\n",
    "summary(trained.model)"
   ]
  },
  {
   "cell_type": "code",
   "execution_count": null,
   "metadata": {
    "vscode": {
     "languageId": "r"
    }
   },
   "outputs": [],
   "source": [
    "#Save datafram as CSV file\n",
    "write.csv(predictor.response.data, \"model_data.csv\")"
   ]
  }
 ],
 "metadata": {
  "kernelspec": {
   "display_name": "R",
   "language": "R",
   "name": "ir"
  },
  "language_info": {
   "name": "R",
   "version": "3.11.9"
  }
 },
 "nbformat": 4,
 "nbformat_minor": 2
}
