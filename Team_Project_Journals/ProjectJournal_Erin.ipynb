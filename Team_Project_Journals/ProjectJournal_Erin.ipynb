{
 "cells": [
  {
   "cell_type": "markdown",
   "metadata": {},
   "source": [
    "# Project Journal"
   ]
  },
  {
   "cell_type": "markdown",
   "metadata": {
    "vscode": {
     "languageId": "plaintext"
    }
   },
   "source": [
    "Name: Erin Widener\n",
    "\n",
    "Research Question: In considering 3 different energy production sources (total fossil fuel production, nuclear electric power production, total renewable energy production) and 1 energy import variable (primary energy imports), can at least one of these sources of energy \"inputs\" accurately predict total primary energy consumption?  \n",
    "\n",
    "Variables: Response = Total Primary Energy Consumption (Y)\n",
    "           Predictor(s) = Total Fossil Fuel Production (B1, X1), Nuclear Electric Power Production (B2, X2), Total Renewable Energy Production (B3, X3), Primary Energy Imputs (B4, X4)\n",
    "\n",
    "Hypothesis: Is there at least one predictor useful in predicting total primary energy consumption? \n",
    "\n",
    "Ho: B1 = B2 = B3 = B4 = 0 \n",
    "Ha: At least one Bj ≠ 0 (j= 1-4) "
   ]
  },
  {
   "cell_type": "markdown",
   "metadata": {},
   "source": [
    "## Data Prep & EDA\n",
    "**Dates:** November 1 - November 7\n",
    "\n",
    "**Meeting Date:** November 7"
   ]
  },
  {
   "cell_type": "markdown",
   "metadata": {},
   "source": [
    "### Data Cleaning Summary\n",
    "\n",
    "**Summary of data cleaning process:**\n",
    "1. Step 1: Set wd and install/load packages\n",
    "2. Step 2: Import data\n",
    "3. Step 3: Asses the structure of the data\n",
    "4. Step 4: Build dataframe with relevant variables\n",
    "\n",
    "**Issues Encountered and Resolutions:**\n",
    "Some minor loading issues with some packages (ALSM) and extracting relevant variables from dataset\n"
   ]
  },
  {
   "cell_type": "code",
   "execution_count": null,
   "metadata": {
    "vscode": {
     "languageId": "r"
    }
   },
   "outputs": [
    {
     "ename": "",
     "evalue": "",
     "output_type": "error",
     "traceback": [
      "\u001b[1;31mFailed to start the Kernel. \n",
      "\u001b[1;31mThe kernel 'R' was not started as it is located in an insecure location 'c:\\ProgramData\\jupyter\\kernels\\ir\\kernel.json'.  \n",
      "\u001b[1;31mClick <a href='https://aka.ms/JupyterTrustedKernelPaths'>here</a> for further details, optionally update the setting <a href='command:workbench.action.openSettings?[\"jupyter.kernels.trusted\"]'>jupyter.kernels.trusted</a> to trust the kernel."
     ]
    }
   ],
   "source": [
    "##Step 1\n",
    "#setwd(\"C:/Users/Hunte/OneDrive - purdue.edu/STAT 512/Final Project\")\n",
    "#install.packages(\"vroom\")\n",
    "#install.packages(\"tidyverse\")\n",
    "#install.packages(\"IRkernel\")\n",
    "#install.packages(\"ALSM\")\n",
    "#install.packages(\"car\")\n",
    "#install.packages(\"fmsb\")\n",
    "#install.packages(\"GGally\")\n",
    "library(vroom)\n",
    "library(tidyverse)\n",
    "library(IRkernel)\n",
    "library(ALSM)\n",
    "library(car)\n",
    "library(fmsb)\n",
    "library(GGally)"
   ]
  },
  {
   "cell_type": "code",
   "execution_count": null,
   "metadata": {
    "vscode": {
     "languageId": "r"
    }
   },
   "outputs": [
    {
     "ename": "",
     "evalue": "",
     "output_type": "error",
     "traceback": [
      "\u001b[1;31mFailed to start the Kernel. \n",
      "\u001b[1;31mThe kernel 'R' was not started as it is located in an insecure location 'c:\\ProgramData\\jupyter\\kernels\\ir\\kernel.json'.  \n",
      "\u001b[1;31mClick <a href='https://aka.ms/JupyterTrustedKernelPaths'>here</a> for further details, optionally update the setting <a href='command:workbench.action.openSettings?[\"jupyter.kernels.trusted\"]'>jupyter.kernels.trusted</a> to trust the kernel."
     ]
    }
   ],
   "source": [
    "\n",
    "##Step 2\n",
    "dataset <- read.csv(\"World Energy Overview.csv\")\n",
    "matrix.data <- as.matrix(dataset)\n"
   ]
  },
  {
   "cell_type": "code",
   "execution_count": null,
   "metadata": {
    "vscode": {
     "languageId": "r"
    }
   },
   "outputs": [],
   "source": [
    "##Step 3\n",
    "str(dataset)\n",
    "str(matrix.data)"
   ]
  },
  {
   "cell_type": "code",
   "execution_count": null,
   "metadata": {
    "vscode": {
     "languageId": "r"
    }
   },
   "outputs": [],
   "source": [
    "#Step 4 \n",
    "Y <- dataset$Total.Primary.Energy.Consumption \n",
    "X1 <- dataset$Total.Fossil.Fuels.Production\n",
    "X2 <- dataset$Nuclear.Electric.Power.Production\n",
    "X3 <- dataset$Total.Renewable.Energy.Production \n",
    "X4 <- dataset$Primary.Energy.Imports\n",
    "\n",
    "predictor.response.data <- data.frame(\"Consumption\"= Y, \"Fossil\" = X1, \n",
    "                                                 \"Nuclear\" = X2, \n",
    "                                                 \"Renewable\" = X3, \n",
    "                                                 \"Imports\" = X4)\n",
    "head(predictor.response.data)"
   ]
  },
  {
   "cell_type": "markdown",
   "metadata": {},
   "source": [
    "### Exploratory Data Analysis Findings\n",
    "**Key Visualizations:** \n",
    "\n",
    "\n"
   ]
  },
  {
   "cell_type": "markdown",
   "metadata": {},
   "source": [
    "### Summary Statistics"
   ]
  },
  {
   "cell_type": "code",
   "execution_count": null,
   "metadata": {
    "vscode": {
     "languageId": "r"
    }
   },
   "outputs": [],
   "source": [
    "# Add your summary statisics here"
   ]
  },
  {
   "cell_type": "markdown",
   "metadata": {},
   "source": [
    "***\n",
    "## Model Building\n",
    "**Dates:** November 8 - November 14\n",
    "\n",
    "**Meeting Date:** November 14"
   ]
  },
  {
   "cell_type": "markdown",
   "metadata": {},
   "source": [
    "### Model Equation\n",
    "\n",
    "**Equation:** \n",
    "[Write out the model equation here based on your selected predictors]\n",
    "\n",
    "Note: you can write equations as follows: \n",
    "$$Y = \\beta_0 +  \\beta_1X_1 + \\beta_2X_2 + \\epsilon"
   ]
  },
  {
   "cell_type": "markdown",
   "metadata": {},
   "source": [
    "### Model Fitting"
   ]
  },
  {
   "cell_type": "code",
   "execution_count": null,
   "metadata": {
    "vscode": {
     "languageId": "r"
    }
   },
   "outputs": [],
   "source": [
    "# Model fitting code (e.g., lm() function)"
   ]
  },
  {
   "cell_type": "markdown",
   "metadata": {},
   "source": [
    "### Multicollinearity\n",
    "**Explanation of Multicollinearity:**\n",
    "[Briefly describe any collinearity included in the model] \n"
   ]
  },
  {
   "cell_type": "code",
   "execution_count": null,
   "metadata": {
    "vscode": {
     "languageId": "r"
    }
   },
   "outputs": [],
   "source": [
    "# Add any collineary code here"
   ]
  },
  {
   "cell_type": "markdown",
   "metadata": {},
   "source": [
    "### Interaction Terms\n",
    "**Explanation of Interaction Terms:**\n",
    "[Briefly describe any interaction terms included in the model]\n"
   ]
  },
  {
   "cell_type": "code",
   "execution_count": null,
   "metadata": {
    "vscode": {
     "languageId": "r"
    }
   },
   "outputs": [],
   "source": [
    "# Add any interaction plots here"
   ]
  },
  {
   "cell_type": "markdown",
   "metadata": {},
   "source": [
    "### Model Summary and Diagonostics"
   ]
  },
  {
   "cell_type": "code",
   "execution_count": null,
   "metadata": {
    "vscode": {
     "languageId": "r"
    }
   },
   "outputs": [],
   "source": [
    "# Model summary\n",
    "summary(model)\n",
    "\n",
    "# ANOVA table\n",
    "anova(model)\n",
    "\n",
    "# Diagnostics: Residual Plots, Normality, etc."
   ]
  },
  {
   "cell_type": "markdown",
   "metadata": {},
   "source": [
    "### Feature Selection Plan\n",
    "Describe strategies for reducing the model (if necessary) and rationale."
   ]
  },
  {
   "cell_type": "markdown",
   "metadata": {},
   "source": [
    "***\n",
    "## Model Evaluation & Validation\n",
    "**Dates:** November 15 - November 21\n",
    "\n",
    "**Meeting Date:** November 21"
   ]
  },
  {
   "cell_type": "markdown",
   "metadata": {},
   "source": [
    "### Documentation of Model Adjustments"
   ]
  },
  {
   "cell_type": "code",
   "execution_count": null,
   "metadata": {
    "vscode": {
     "languageId": "r"
    }
   },
   "outputs": [],
   "source": [
    "# Model adjustments made based on your feature selection plan\n",
    "# You can add as many code/markdown blocks as you need to show \n",
    "# the iterative thought process here as you go. "
   ]
  },
  {
   "cell_type": "markdown",
   "metadata": {},
   "source": [
    "Summary of iterative process:\n",
    "1. First I did this\n",
    "2. Then I did this because...\n",
    "3. Then I did this because...\n",
    "\n",
    "Final Model Equation: "
   ]
  },
  {
   "cell_type": "markdown",
   "metadata": {},
   "source": [
    "### Model Evaluation\n",
    "#### Significance Tests"
   ]
  },
  {
   "cell_type": "code",
   "execution_count": null,
   "metadata": {
    "vscode": {
     "languageId": "r"
    }
   },
   "outputs": [],
   "source": [
    "# Add your significance test code with outputs here"
   ]
  },
  {
   "cell_type": "markdown",
   "metadata": {},
   "source": [
    "#### Model Performance Metrics"
   ]
  },
  {
   "cell_type": "code",
   "execution_count": null,
   "metadata": {
    "vscode": {
     "languageId": "r"
    }
   },
   "outputs": [],
   "source": [
    "# Add your model performance code with outputs here"
   ]
  },
  {
   "cell_type": "markdown",
   "metadata": {},
   "source": [
    "### Validation Findings"
   ]
  },
  {
   "cell_type": "code",
   "execution_count": null,
   "metadata": {
    "vscode": {
     "languageId": "r"
    }
   },
   "outputs": [],
   "source": [
    "# Add any validation code here"
   ]
  },
  {
   "cell_type": "markdown",
   "metadata": {},
   "source": [
    "### Summary of Findings\n",
    "\n",
    "[Summarize your findings from the model evaluation and validation here. Don't forget to bring it back to your hypothesis and include your final model!]"
   ]
  },
  {
   "cell_type": "markdown",
   "metadata": {},
   "source": [
    "***\n",
    "Team Reminder: After this meeting, agree on a report/presentation format and make all of the needed documentation."
   ]
  },
  {
   "cell_type": "markdown",
   "metadata": {},
   "source": [
    "***\n",
    "## Report and Presentation\n",
    "**Dates:** November 22 - November 26\n",
    "\n",
    "**Meeting Date:** November 26, 4:30\n",
    "\n",
    "No code neccesary here (yay)! Use the space below to brainstorm which graphs you want to include in the report and how you want to tell the story of your model!"
   ]
  }
 ],
 "metadata": {
  "kernelspec": {
   "display_name": "R",
   "language": "R",
   "name": "ir"
  },
  "language_info": {
   "name": "R",
   "version": "3.11.9"
  }
 },
 "nbformat": 4,
 "nbformat_minor": 2
}
