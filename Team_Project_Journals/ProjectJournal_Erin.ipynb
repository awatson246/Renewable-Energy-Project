{
 "cells": [
  {
   "cell_type": "markdown",
   "metadata": {},
   "source": [
    "# Project Journal"
   ]
  },
  {
   "cell_type": "markdown",
   "metadata": {
    "vscode": {
     "languageId": "plaintext"
    }
   },
   "source": [
    "Name: Erin Widener\n",
    "\n",
    "Research Question: In considering 3 different energy production sources (total fossil fuel production, nuclear electric power production, total renewable energy production) and 1 energy import variable (primary energy imports), can at least one of these sources of energy \"inputs\" accurately predict total primary energy consumption?  \n",
    "\n",
    "Variables: Response = Total Primary Energy Consumption (Y)\n",
    "           Predictor(s) = Total Fossil Fuel Production (B1, X1), Nuclear Electric Power Production (B2, X2), Total Renewable Energy Production (B3, X3), Primary Energy Imputs (B4, X4)\n",
    "\n",
    "Hypothesis: Is there at least one predictor useful in predicting total primary energy consumption? \n",
    "\n",
    "Ho: B1 = B2 = B3 = B4 = 0 \n",
    "Ha: At least one Bj ≠ 0 (j= 1-4) "
   ]
  },
  {
   "cell_type": "markdown",
   "metadata": {},
   "source": [
    "## Data Prep & EDA\n",
    "**Dates:** November 1 - November 7\n",
    "\n",
    "**Meeting Date:** November 7"
   ]
  },
  {
   "cell_type": "markdown",
   "metadata": {},
   "source": [
    "### Data Cleaning Summary\n",
    "\n",
    "**Summary of data cleaning process:**\n",
    "1. Step 1: Set wd and install/load packages\n",
    "2. Step 2: Import data\n",
    "3. Step 3: Asses the structure of the data\n",
    "4. Step 4: Build dataframe with relevant variables\n",
    "\n",
    "**Issues Encountered and Resolutions:**\n",
    "Some minor loading issues with some packages (ALSM) and extracting relevant variables from dataset\n"
   ]
  },
  {
   "cell_type": "code",
   "execution_count": null,
   "metadata": {
    "vscode": {
     "languageId": "r"
    }
   },
   "outputs": [],
   "source": [
    "##Step 1\n",
    "setwd(\"C:/Users/Hunte/OneDrive - purdue.edu/STAT 512/Final Project\")\n",
    "library(vroom)\n",
    "library(tidyverse)\n",
    "library(IRkernel)\n",
    "library(ALSM)\n",
    "library(car)\n",
    "library(fmsb)\n",
    "library(GGally)\n",
    "library(lmridge)\n",
    "library(lmtest)\n",
    "library(MASS)\n",
    "library(glmnet) \n",
    "library(boot) \n",
    "library(caret)"
   ]
  },
  {
   "cell_type": "code",
   "execution_count": null,
   "metadata": {
    "vscode": {
     "languageId": "r"
    }
   },
   "outputs": [],
   "source": [
    "\n",
    "##Step 2\n",
    "dataset <- read.csv(\"World Energy Overview.csv\")\n",
    "matrix.data <- as.matrix(dataset)\n"
   ]
  },
  {
   "cell_type": "code",
   "execution_count": null,
   "metadata": {
    "vscode": {
     "languageId": "r"
    }
   },
   "outputs": [],
   "source": [
    "##Step 3\n",
    "str(dataset)\n",
    "str(matrix.data)"
   ]
  },
  {
   "cell_type": "code",
   "execution_count": null,
   "metadata": {
    "vscode": {
     "languageId": "r"
    }
   },
   "outputs": [],
   "source": [
    "#Step 4 \n",
    "Y <- dataset$Total.Primary.Energy.Consumption \n",
    "X1 <- dataset$Total.Fossil.Fuels.Production\n",
    "X2 <- dataset$Nuclear.Electric.Power.Production\n",
    "X3 <- dataset$Total.Renewable.Energy.Production \n",
    "X4 <- dataset$Primary.Energy.Imports\n",
    "\n",
    "predictor.response.data <- data.frame(\"Consumption\"= Y, \"Fossil\" = X1, \n",
    "                                                 \"Nuclear\" = X2, \n",
    "                                                 \"Renewable\" = X3, \n",
    "                                                 \"Imports\" = X4)\n",
    "head(predictor.response.data)"
   ]
  },
  {
   "cell_type": "markdown",
   "metadata": {},
   "source": [
    "### Exploratory Data Analysis Findings\n",
    "**Key Visualizations:** \n",
    "\n",
    "\n"
   ]
  },
  {
   "cell_type": "markdown",
   "metadata": {},
   "source": [
    "### Summary Statistics"
   ]
  },
  {
   "cell_type": "code",
   "execution_count": null,
   "metadata": {
    "vscode": {
     "languageId": "r"
    }
   },
   "outputs": [],
   "source": [
    "#summary statistics \n",
    "mean(Y)\n",
    "sd(Y)\n",
    "mean(X1)\n",
    "sd(X1)\n",
    "mean(X2)\n",
    "sd(X2)\n",
    "mean(X3)\n",
    "sd(X3)\n",
    "mean(X4)\n",
    "sd(X4)"
   ]
  },
  {
   "cell_type": "markdown",
   "metadata": {},
   "source": [
    "***\n",
    "## Model Building\n",
    "**Dates:** November 8 - November 14\n",
    "\n",
    "**Meeting Date:** November 14"
   ]
  },
  {
   "cell_type": "markdown",
   "metadata": {},
   "source": [
    "### Model Equation\n",
    "\n",
    "**Equation:** \n",
    "[Write out the model equation here based on your selected predictors]\n",
    "\n",
    "Note: you can write equations as follows: \n",
    "$$Y = \\beta_0 +  \\beta_1X_1 + \\beta_2X_2 + \\beta_3X_3 + \\beta_4X_4 + \\epsilon\n",
    "\n",
    "Where, \n",
    "Y= Total.Primary.Energy.Consumption → Y \n",
    "B1= Total.Fossil.Fuel.Production → X1 \n",
    "B2= Nuclear.Electric.Power.Production → X2 \n",
    "B3= Total.Renewable.Energy.Production → X3\n",
    "B4= Primary.Energy.Imports → X4\n",
    "\n"
   ]
  },
  {
   "cell_type": "markdown",
   "metadata": {},
   "source": [
    "### Model Fitting"
   ]
  },
  {
   "cell_type": "code",
   "execution_count": null,
   "metadata": {
    "vscode": {
     "languageId": "r"
    }
   },
   "outputs": [],
   "source": [
    "##MLR model\n",
    "mlr.mod <- lm(Consumption ~ Fossil + Nuclear + Renewable + Imports, predictor.response.data)"
   ]
  },
  {
   "cell_type": "markdown",
   "metadata": {},
   "source": [
    "### Multicollinearity\n",
    "**Explanation of Multicollinearity:**\n",
    "[Briefly describe any collinearity included in the model] \n"
   ]
  },
  {
   "cell_type": "code",
   "execution_count": null,
   "metadata": {
    "vscode": {
     "languageId": "r"
    }
   },
   "outputs": [],
   "source": [
    "#Pairwise scatter plot & multicolinearity\n",
    "ggpairs(predictor.response.data)\n",
    "VIF(lm(X1 ~ X2 + X3 + X4))\n",
    "VIF(lm(X2 ~ X1 + X3 + X4))\n",
    "VIF(lm(X3 ~ X1 + X2 + X4))\n",
    "VIF(lm(X4 ~ X1 + X2 + X3))\n",
    "VIF(lm(X1 ~ X3))\n",
    "VIF(lm(X3 ~ X1))\n",
    "VIF(lm(X2 ~ X4))\n",
    "VIF(lm(X4 ~ X2))"
   ]
  },
  {
   "cell_type": "markdown",
   "metadata": {},
   "source": [
    "### Interaction Terms\n",
    "**Explanation of Interaction Terms:**\n",
    "[Briefly describe any interaction terms included in the model]\n"
   ]
  },
  {
   "cell_type": "code",
   "execution_count": null,
   "metadata": {
    "vscode": {
     "languageId": "r"
    }
   },
   "outputs": [],
   "source": [
    "# Add any interaction plots here"
   ]
  },
  {
   "cell_type": "markdown",
   "metadata": {},
   "source": [
    "### Model Summary and Diagonostics"
   ]
  },
  {
   "cell_type": "code",
   "execution_count": null,
   "metadata": {
    "vscode": {
     "languageId": "r"
    }
   },
   "outputs": [],
   "source": [
    "# Summary & confidence intervals\n",
    "summary(mlr.mod)\n",
    "confint(mlr.mod, level=0.95)\n",
    "\n",
    "#Anova (type I & II)\n",
    "anova(mlr.mod)\n",
    "Anova(mlr.mod, type = 2)\n",
    "\n",
    "# Diagnostics: Residual Plots, Normality, etc.\n",
    "plot(mlr.mod)\n",
    "\n",
    "#Cooks distance \n",
    "cooksd <- cooks.distance(mlr.mod)\n",
    "plot(cooksd, type = \"h\", main = \"Cook's Distance\", ylab = \"Cook's Distance\")\n",
    "abline(h = 4 / length(cooksd), col = \"red\")  # threshold for influential points"
   ]
  },
  {
   "cell_type": "code",
   "execution_count": null,
   "metadata": {
    "vscode": {
     "languageId": "r"
    }
   },
   "outputs": [],
   "source": [
    "##Individual SLR models\n",
    "#Fossil\n",
    "fossil.mod <- lm(Y ~ X1)\n",
    "summary(fossil.mod)\n",
    "ggplot(predictor.response.data, aes(x= Fossil, y= Consumption)) +\n",
    "  geom_point() + \n",
    "  geom_smooth(method = \"lm\", color = \"orange\") + \n",
    "  theme_bw()\n",
    "\n",
    "#Nuclear\n",
    "nuclear.mod <- lm(Y ~ X2)\n",
    "summary(nuclear.mod)\n",
    "ggplot(predictor.response.data, aes(x= Nuclear, y= Consumption)) +\n",
    "  geom_point() + \n",
    "  geom_smooth(method = \"lm\", color = \"blue\") + \n",
    "  theme_bw()\n",
    "\n",
    "#Renewable\n",
    "renewable.mod <- lm(Y ~ X3)\n",
    "summary(renewable.mod)\n",
    "ggplot(predictor.response.data, aes(x= Renewable, y= Consumption)) +\n",
    "  geom_point() + \n",
    "  geom_smooth(method = \"lm\", color = \"green\") + \n",
    "  theme_bw()\n",
    "\n",
    "#Imports\n",
    "imports.mod <- lm(Y ~ X4)\n",
    "summary(imports.mod)\n",
    "ggplot(predictor.response.data, aes(x= Imports, y= Consumption)) +\n",
    "  geom_point() + \n",
    "  geom_smooth(method = \"lm\", color = \"purple\") + \n",
    "  theme_bw()"
   ]
  },
  {
   "cell_type": "code",
   "execution_count": null,
   "metadata": {
    "vscode": {
     "languageId": "r"
    }
   },
   "outputs": [],
   "source": [
    "#Partial regression plots (component + residual) \n",
    "crPlots(mlr.mod)"
   ]
  },
  {
   "cell_type": "markdown",
   "metadata": {},
   "source": [
    "### Feature Selection Plan\n",
    "Describe strategies for reducing the model (if necessary) and rationale."
   ]
  },
  {
   "cell_type": "markdown",
   "metadata": {},
   "source": [
    "***\n",
    "## Model Evaluation & Validation\n",
    "**Dates:** November 15 - November 21\n",
    "\n",
    "**Meeting Date:** November 21"
   ]
  },
  {
   "cell_type": "markdown",
   "metadata": {},
   "source": [
    "### Documentation of Model Adjustments"
   ]
  },
  {
   "cell_type": "code",
   "execution_count": null,
   "metadata": {
    "vscode": {
     "languageId": "r"
    }
   },
   "outputs": [],
   "source": [
    "##MLR model effects on renewables (the problem child)\n",
    "fossil.renew <- lm(Y ~ Fossil + Renewable, predictor.response.data)\n",
    "summary(fossil.renew)\n",
    "confint(fossil.renew)\n",
    "Anova(fossil.renew, type= 2)\n",
    "\n",
    "nuclear.renew <- lm(Y ~ Nuclear + Renewable, predictor.response.data)\n",
    "summary(nuclear.renew)\n",
    "confint(nuclear.renew)\n",
    "Anova(nuclear.renew, type= 2)\n",
    "\n",
    "imports.renew <- lm(Y ~ Imports + Renewable, predictor.response.data)\n",
    "summary(imports.renew)\n",
    "confint(nuclear.renew)\n",
    "Anova(imports.renew, type= 2)"
   ]
  },
  {
   "cell_type": "code",
   "execution_count": null,
   "metadata": {
    "vscode": {
     "languageId": "r"
    }
   },
   "outputs": [],
   "source": [
    "##log transformation \n",
    "ylog.mod = lm(log(Consumption)~Fossil+Nuclear+Renewable+Imports, \n",
    "              data = predictor.response.data)\n",
    "summary(ylog.mod)\n",
    "plot(ylog.mod)"
   ]
  },
  {
   "cell_type": "code",
   "execution_count": null,
   "metadata": {
    "vscode": {
     "languageId": "r"
    }
   },
   "outputs": [],
   "source": [
    "##WLS \n",
    "wts1 <- 1/fitted(lm(abs(residuals(mlr.mod)) ~ Fossil+Nuclear+Renewable+Imports,\n",
    "                    predictor.response.data))^2\n",
    "wls.mod = lm(Consumption ~ Fossil+Nuclear+Renewable+Imports, weight=wts1, \n",
    "             predictor.response.data)\n",
    "summary(wls.mod)\n",
    "confint(wls.mod)\n",
    "plot(wls.mod)\n",
    "bptest(mlr.mod)\n",
    "bptest(wls.mod)"
   ]
  },
  {
   "cell_type": "code",
   "execution_count": null,
   "metadata": {
    "vscode": {
     "languageId": "r"
    }
   },
   "outputs": [],
   "source": [
    "##Bootstrapping\n",
    "set.seed(400)\n",
    "mlr = function(predictor.response.data, indices) {\n",
    "  mlr_boot_data = predictor.response.data[indices, ]\n",
    "  mlr_fit = lm(Consumption~Fossil+Nuclear+Renewable+Imports, data= mlr_boot_data)\n",
    "  coefficients(mlr_fit)\n",
    "}\n",
    "mlr_boot = boot(data= predictor.response.data, statistic = mlr, R=100)\n",
    "mlr_boot\n",
    "boot.ci(mlr_boot, index= 2, type = \"perc\")\n",
    "boot.ci(mlr_boot, index= 3, type = \"perc\")\n",
    "boot.ci(mlr_boot, index= 4, type = \"perc\")\n",
    "boot.ci(mlr_boot, index= 5, type = \"perc\")"
   ]
  },
  {
   "cell_type": "markdown",
   "metadata": {},
   "source": [
    "Summary of iterative process:\n",
    "1. First I did this\n",
    "2. Then I did this because...\n",
    "3. Then I did this because...\n",
    "\n",
    "Final Model Equation: "
   ]
  },
  {
   "cell_type": "markdown",
   "metadata": {},
   "source": [
    "### Model Evaluation\n",
    "#### Significance Tests"
   ]
  },
  {
   "cell_type": "code",
   "execution_count": null,
   "metadata": {
    "vscode": {
     "languageId": "r"
    }
   },
   "outputs": [],
   "source": [
    "# Add your significance test code with outputs here"
   ]
  },
  {
   "cell_type": "markdown",
   "metadata": {},
   "source": [
    "#### Model Performance Metrics"
   ]
  },
  {
   "cell_type": "code",
   "execution_count": null,
   "metadata": {
    "vscode": {
     "languageId": "r"
    }
   },
   "outputs": [],
   "source": [
    "##Model performance with AIC & BIC\n",
    "aic = AIC(mlr.mod)\n",
    "aic.wls = AIC(wls.mod)\n",
    "aic.log = AIC(ylog.mod)\n",
    "bic = BIC(mlr.mod)\n",
    "bic.wls = BIC(wls.mod)\n",
    "bic.log = BIC(ylog.mod)\n",
    "cat(aic)\n",
    "cat(aic.wls)\n",
    "cat(aic.log)\n",
    "cat(bic)\n",
    "cat(bic.wls)\n",
    "cat(bic.log)"
   ]
  },
  {
   "cell_type": "markdown",
   "metadata": {},
   "source": [
    "### Validation Findings"
   ]
  },
  {
   "cell_type": "code",
   "execution_count": null,
   "metadata": {
    "vscode": {
     "languageId": "r"
    }
   },
   "outputs": [],
   "source": [
    "##Cross-validation \n",
    "#method 1\n",
    "# Define the training control\n",
    "train_control <- trainControl(method = \"cv\", number = 10)  # 10-fold CV\n",
    "# Train the model\n",
    "trained.model <- train(Consumption~Fossil+Nuclear+Renewable+Imports, \n",
    "                       data = predictor.response.data, \n",
    "                       method = \"lm\", trControl = train_control)\n",
    "#Print the model summary\n",
    "print(trained.model)\n",
    "summary(trained.model)\n",
    "\n",
    "#method 2\n",
    "set.seed(400)\n",
    "folds = sample(rep(1:10, length.out= nrow(predictor.response.data)))\n",
    "errors = c()\n",
    "for(i in 1:10) {\n",
    "  test_indices = which(folds== i)\n",
    "  train_data = predictor.response.data[-test_indices, ]\n",
    "  test_data = predictor.response.data[test_indices, ]\n",
    "  mod = lm(Consumption~Fossil+Nuclear+Renewable+Imports, data= train_data)\n",
    "  predictions = predict(mod, newdata= test_data)\n",
    "  rmse = sqrt(mean((predictions - test_data$Consumption)^2))\n",
    "  errors = c(errors, rmse)\n",
    "}\n",
    "mean_rmse = mean(errors)\n",
    "print(mean_rmse)"
   ]
  },
  {
   "cell_type": "markdown",
   "metadata": {},
   "source": [
    "### Summary of Findings\n",
    "\n",
    "[Summarize your findings from the model evaluation and validation here. Don't forget to bring it back to your hypothesis and include your final model!]"
   ]
  },
  {
   "cell_type": "markdown",
   "metadata": {},
   "source": [
    "***\n",
    "Team Reminder: After this meeting, agree on a report/presentation format and make all of the needed documentation."
   ]
  },
  {
   "cell_type": "markdown",
   "metadata": {},
   "source": [
    "***\n",
    "## Report and Presentation\n",
    "**Dates:** November 22 - November 26\n",
    "\n",
    "**Meeting Date:** November 26, 4:30\n",
    "\n",
    "No code neccesary here (yay)! Use the space below to brainstorm which graphs you want to include in the report and how you want to tell the story of your model!"
   ]
  }
 ],
 "metadata": {
  "kernelspec": {
   "display_name": "R",
   "language": "R",
   "name": "ir"
  },
  "language_info": {
   "name": "R",
   "version": "3.11.9"
  }
 },
 "nbformat": 4,
 "nbformat_minor": 2
}
