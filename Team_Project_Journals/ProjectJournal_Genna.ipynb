{
 "cells": [
  {
   "cell_type": "markdown",
   "metadata": {},
   "source": [
    "# Project Journal"
   ]
  },
  {
   "cell_type": "markdown",
   "metadata": {
    "vscode": {
     "languageId": "plaintext"
    }
   },
   "source": [
    "**Name:** Genna Yavarasi\n",
    "\n",
    "**Research Question:** How do interactions between sectoral differences (commercial, electric power, industrial, residential, and transportation) and temporal factors (year and month) influence trends in total renewable energy consumption?\n",
    "\n",
    "**Variables:**  \n",
    "$Y$: Total Renewable Energy  \n",
    "$X_1$: Year  \n",
    "$X_2$: Month  \n",
    "$X_3$: Sector \n"
   ]
  },
  {
   "cell_type": "markdown",
   "metadata": {},
   "source": [
    "## Data Prep & EDA\n",
    "**Dates:** November 1 - November 7\n",
    "\n",
    "**Meeting Date:** November 7"
   ]
  },
  {
   "cell_type": "markdown",
   "metadata": {},
   "source": [
    "### Data Cleaning Summary\n",
    "\n",
    "**Summary of data cleaning process:**\n",
    "1. Install and import libraries\n",
    "2. Import dataset\n",
    "3. Check for missing values\n",
    "4. Create a reduced dataset that contains the important features: Year, Month, and Sector\n",
    "\n",
    "**Issues Encountered and Resolutions:** Had issues running R code; had to add the Jupyter kernel to the list of trusted kernels in order to run the R code properly."
   ]
  },
  {
   "cell_type": "code",
   "execution_count": 24,
   "metadata": {
    "vscode": {
     "languageId": "r"
    }
   },
   "outputs": [
    {
     "name": "stderr",
     "output_type": "stream",
     "text": [
      "Warning message:\n",
      "\"package 'car' is in use and will not be installed\"\n",
      "Warning message:\n",
      "\"package 'corrplot' is in use and will not be installed\"\n",
      "Warning message:\n",
      "\"package 'dplyr' is in use and will not be installed\"\n",
      "Warning message:\n",
      "\"package 'ggplot2' is in use and will not be installed\"\n",
      "Warning message:\n",
      "\"package 'GGally' is in use and will not be installed\"\n",
      "Warning message:\n",
      "\"package 'reshape2' is in use and will not be installed\"\n",
      "Warning message:\n",
      "\"package 'zoo' is in use and will not be installed\"\n"
     ]
    }
   ],
   "source": [
    "# Step 1a: Install necessary libraries\n",
    "install.packages(\"car\")\n",
    "install.packages(\"corrplot\")\n",
    "install.packages(\"dplyr\")\n",
    "install.packages(\"ggplot2\")\n",
    "install.packages(\"GGally\")\n",
    "install.packages(\"reshape2\")\n",
    "install.packages(\"zoo\")\n",
    "\n",
    "# Step 1b: Import necessary libraries\n",
    "library(car)\n",
    "library(corrplot)\n",
    "library(dplyr)\n",
    "library(ggplot2)\n",
    "library(GGally)\n",
    "library(lmtest)\n",
    "library(reshape2)"
   ]
  },
  {
   "cell_type": "code",
   "execution_count": 45,
   "metadata": {
    "vscode": {
     "languageId": "r"
    }
   },
   "outputs": [],
   "source": [
    "# Step 2: Import the data set\n",
    "data <- read.csv(\"C:\\\\Users\\\\gyava\\\\Renewable-Energy-Project\\\\USRenewableEnergyConsumption.csv\")"
   ]
  },
  {
   "cell_type": "code",
   "execution_count": 26,
   "metadata": {
    "vscode": {
     "languageId": "r"
    }
   },
   "outputs": [
    {
     "name": "stdout",
     "output_type": "stream",
     "text": [
      "                              Year                              Month \n",
      "                                 0                                  0 \n",
      "                            Sector                Hydroelectric.Power \n",
      "                                 0                                  0 \n",
      "                 Geothermal.Energy                       Solar.Energy \n",
      "                                 0                                  0 \n",
      "                       Wind.Energy                        Wood.Energy \n",
      "                                 0                                  0 \n",
      "                      Waste.Energy Fuel.Ethanol..Excluding.Denaturant \n",
      "                                 0                                  0 \n",
      "    Biomass.Losses.and.Co.products                     Biomass.Energy \n",
      "                                 0                                  0 \n",
      "            Total.Renewable.Energy              Renewable.Diesel.Fuel \n",
      "                                 0                                  0 \n",
      "                    Other.Biofuels   Conventional.Hydroelectric.Power \n",
      "                                 0                                  0 \n",
      "                         Biodiesel \n",
      "                                 0 \n"
     ]
    }
   ],
   "source": [
    "# Step 3: Check for missing values\n",
    "missing_values <- colSums(is.na(data))\n",
    "\n",
    "# Verify the count for missing values in each column is 0\n",
    "print(missing_values)"
   ]
  },
  {
   "cell_type": "code",
   "execution_count": 46,
   "metadata": {
    "vscode": {
     "languageId": "r"
    }
   },
   "outputs": [],
   "source": [
    "# Step 4: Generate a reduced dataset with only the relevant featres\n",
    "reduced_data <- data %>%\n",
    "    select(Month = Month,\n",
    "           Year = Year,\n",
    "           Sector = Sector,\n",
    "           Total.Renewable.Energy = Total.Renewable.Energy)"
   ]
  },
  {
   "cell_type": "markdown",
   "metadata": {},
   "source": [
    "### Exploratory Data Analysis Findings\n",
    "**Key Visualizations:** "
   ]
  },
  {
   "cell_type": "code",
   "execution_count": null,
   "metadata": {
    "vscode": {
     "languageId": "r"
    }
   },
   "outputs": [
    {
     "name": "stdout",
     "output_type": "stream",
     "text": [
      "                               Year        Month Total.Renewable.Energy\n",
      "Year                    1.000000000 -0.004569854            0.219211783\n",
      "Month                  -0.004569854  1.000000000           -0.007371176\n",
      "Total.Renewable.Energy  0.219211783 -0.007371176            1.000000000\n"
     ]
    }
   ],
   "source": [
    "# Correlation Matrix:\n",
    "correlation_matrix <- cor(reduced_data %>% select(Year, Month, Total.Renewable.Energy))\n",
    "print(correlation_matrix)"
   ]
  },
  {
   "cell_type": "markdown",
   "metadata": {},
   "source": [
    "Looking at the correlation matrix, none of the relationships between Month, Year, and the Total Renewable Energy have high correlations, indicating that there are no multicollinearity issue. This reduces the chances of skewed and non-precise estimation coefficents within our dataset and suggests that the p-values will be trustworthly in identigying independent and statistically significant variables."
   ]
  },
  {
   "cell_type": "code",
   "execution_count": 29,
   "metadata": {
    "vscode": {
     "languageId": "r"
    }
   },
   "outputs": [
    {
     "data": {
      "image/png": "[encoded data removed]",
      "text/plain": [
       "plot without title"
      ]
     },
     "metadata": {
      "image/png": {
       "height": 420,
       "width": 420
      }
     },
     "output_type": "display_data"
    }
   ],
   "source": [
    "# Boxplot for Total Renewable Energy by Sector\n",
    "ggplot(reduced_data, aes(x = Sector, y = Total.Renewable.Energy)) +\n",
    "  geom_boxplot() +\n",
    "  labs(title = \"Total Renewable Energy by Sector\")"
   ]
  },
  {
   "cell_type": "markdown",
   "metadata": {},
   "source": [
    "Within the different types of sectors, there is a variety of skews and data distributions that are demonstrateed through the different shaped box plots in the graph above. \n",
    "\n",
    "Commercial: very compact, which suggests the data is all relatively close together. The median of the commercial sector is one of the lowest when comparing all of the sectors, and has one of the smallest ranges, and maximum values.\n",
    "\n",
    "Electrical Power: normally skewed and has long whiskers, indicating a wide variety in the type of data that is seen. The median is relatively high but the data seems evenly spread within the middle 50% of the data. The upper whisker indicates that there may be multiple outliers within this sector.\n",
    "\n",
    "Industrial: one of the more normal looking box plots, indicating that the data is evenly distributed throughout the range that is displayed by the graph. The median is the highest median value observed among the sectors, and the range of the data is on the larger side in comparison to sectors like the residential, transportation, and commercial sectors. \n",
    "\n",
    "Residential: normally skewed, more condensed and evenly spread throughout it's range. In the middle in terms of the range, no obvious outliers from the whiskers. Average appears in the middle of the data, which supports the idea that the data is more evenly distributed than other sectors.\n",
    "\n",
    "Transportation: not much information is provided from the graph above, maybe suggesting that the dataset within the transportation sector is not as developed as other sectors, cannot make out the IQR, average, or if it is skewed negatively or positively."
   ]
  },
  {
   "cell_type": "code",
   "execution_count": 30,
   "metadata": {
    "vscode": {
     "languageId": "r"
    }
   },
   "outputs": [
    {
     "data": {
      "image/png": "[encoded data removed]",
      "text/plain": [
       "plot without title"
      ]
     },
     "metadata": {
      "image/png": {
       "height": 420,
       "width": 420
      }
     },
     "output_type": "display_data"
    }
   ],
   "source": [
    "# Line plot for the Total Renewable Energy by sector throughout time\n",
    "ggplot(reduced_data, aes(x = as.Date(paste(Year, Month, \"01\", sep = \"-\")), y = Total.Renewable.Energy, color = Sector)) +\n",
    "  geom_line() +\n",
    "  labs(title = \"Total Renewable Energy Consumption Over Time\", x = \"Date\", y = \"Energy Consumption\")"
   ]
  },
  {
   "cell_type": "markdown",
   "metadata": {},
   "source": [
    "The given line graph demonstrates the energy consumption by sector over the years that are recorded in the dataset. By analyzing the graph, it is possbile to draw several conclusions about the energy consumption levels and how they contribute to the total energy consumption throughout time.\n",
    "\n",
    "First and foremost, it is clear to see that the electric power and industrial sectors contribute the most to the total energy consumption. Transportation contributes the least amount to the total energy consumption, and the only spike we really see in the transportation sector is in the late 1980s.\n",
    "\n",
    "The residential sector is the only sector that has seen a significant and noticable decrease in its contribution to the total renewable energy. After seeing a spike in the 1980-1990s, the level of energy consumption has seen a relative decrease and leveled off in the 2010s and 2020s. When analyzing the residential sector in comparison to the industrial, there is a negative correlation, specifically after 2010. "
   ]
  },
  {
   "cell_type": "code",
   "execution_count": 44,
   "metadata": {
    "vscode": {
     "languageId": "r"
    }
   },
   "outputs": [
    {
     "name": "stderr",
     "output_type": "stream",
     "text": [
      "Warning message in cor(x, y):\n",
      "\"the standard deviation is zero\"\n",
      "Warning message in cor(x, y):\n",
      "\"the standard deviation is zero\"\n",
      "\u001b[1m\u001b[22m`stat_bin()` using `bins = 30`. Pick better value with `binwidth`.\n",
      "\u001b[1m\u001b[22m`stat_bin()` using `bins = 30`. Pick better value with `binwidth`.\n",
      "\u001b[1m\u001b[22m`stat_bin()` using `bins = 30`. Pick better value with `binwidth`.\n"
     ]
    },
    {
     "data": {
      "image/png": "[encoded data removed]",
      "text/plain": [
       "plot without title"
      ]
     },
     "metadata": {
      "image/png": {
       "height": 420,
       "width": 420
      }
     },
     "output_type": "display_data"
    }
   ],
   "source": [
    "# Pair plot of the Total Renewable Energy by year, month, and the different sectors\n",
    "ggpairs(reduced_data, columns = c(\"Total.Renewable.Energy\", \"Year\", \"Month\", \"Sector\"),\n",
    "  aes(color = Sector, alpha = 0.5))"
   ]
  },
  {
   "cell_type": "markdown",
   "metadata": {},
   "source": [
    "Observations on the Distribution of Data:\n",
    "- The distribution of Total.Renewable.Energy is highly right skewed, indicating that most values are low and the dataset contains some extreme outliers\n",
    "- The data covers all years included in the dataset and months uniformly, showing no apparent biases towards specific months and years. This idea is supported by the lack of missing values run earlier in our analysis\n",
    "- A bar plot shows that some sectors have more data points than others, indicating that some sectors do not have data that goes as far back in time as others (i.e., new energy sources became more relevant during different points in time)\n",
    "\n",
    "Observations on Data Trends:\n",
    "- There is a positive correlation between the electrical power and industrial sector, which shows that these two sectors have contributed to the total renewable energy\n",
    "- Total.Renewable.Energy shows the strongest positive correlation with Year for the electrical power and industrial sector\n",
    "- The residential sector has a small but negative correlation with Year, which indicates a declining trend in the contribution of the residential sector towards the Total Renewable Energy\n",
    "\n",
    "\n"
   ]
  },
  {
   "cell_type": "code",
   "execution_count": 32,
   "metadata": {
    "vscode": {
     "languageId": "r"
    }
   },
   "outputs": [
    {
     "data": {
      "image/png": "[encoded data removed]",
      "text/plain": [
       "plot without title"
      ]
     },
     "metadata": {
      "image/png": {
       "height": 420,
       "width": 420
      }
     },
     "output_type": "display_data"
    }
   ],
   "source": [
    "# Stacked area chart to visualize cumulative contribution of different renewable sources\n",
    "ggplot(reduced_data, aes(x = as.Date(paste(Year, Month, \"01\", sep=\"-\")), y = Total.Renewable.Energy, fill = factor(Sector))) +\n",
    "    geom_area() +\n",
    "    labs(title=\"Cumulative Renewable Energy Consumption by Source and Sector\", x=\"Date\", y=\"Total Renewable Energy\")"
   ]
  },
  {
   "cell_type": "markdown",
   "metadata": {},
   "source": [
    "The stacked area chart illustrates the cumulative renewable energy consumption across various sectors over time, revealing significant growth from the early 1980s to current. The Electric Power sector is the dominant contributor, accounting for the largest share of renewable energy use, with a steep increase particularly evident from the mid-1990s to today. The Industrial sector follows as the second-largest contributor, displaying steady growth over the years, while the Residential sector maintains a smaller but consistent share. \n",
    "\n",
    "In contrast, the Commercial and Transportation sectors contribute minimally, with little apparent growth or variability. \n",
    "\n",
    "The overall upward trend in renewable energy consumption suggests a growing reliance on renewables, driven by factors such as technological advancements, policy changes, or shifting economic priorities. Despite periodic dips, the data underscores the increasing integration of renewable energy, particularly in the Electric Power and Industrial sectors, while highlighting opportunities to expand its adoption in underperforming areas like Transportation and Commercial."
   ]
  },
  {
   "cell_type": "markdown",
   "metadata": {},
   "source": [
    "### Summary Statistics"
   ]
  },
  {
   "cell_type": "code",
   "execution_count": 33,
   "metadata": {
    "vscode": {
     "languageId": "r"
    }
   },
   "outputs": [
    {
     "data": {
      "text/plain": [
       "      Year          Month           Sector          Hydroelectric.Power\n",
       " Min.   :1973   Min.   : 1.000   Length:3065        Min.   :-0.0020    \n",
       " 1st Qu.:1985   1st Qu.: 3.000   Class :character   1st Qu.: 0.0000    \n",
       " Median :1998   Median : 6.000   Mode  :character   Median : 0.0000    \n",
       " Mean   :1998   Mean   : 6.491                      Mean   : 0.1698    \n",
       " 3rd Qu.:2011   3rd Qu.: 9.000                      3rd Qu.: 0.0360    \n",
       " Max.   :2024   Max.   :12.000                      Max.   : 2.0470    \n",
       " Geothermal.Energy  Solar.Energy     Wind.Energy       Wood.Energy     \n",
       " Min.   :0.000     Min.   : 0.000   Min.   :  0.000   Min.   :  0.000  \n",
       " 1st Qu.:0.000     1st Qu.: 0.000   1st Qu.:  0.000   1st Qu.:  0.483  \n",
       " Median :0.357     Median : 0.004   Median :  0.000   Median : 12.062  \n",
       " Mean   :1.146     Mean   : 2.015   Mean   :  4.282   Mean   : 36.644  \n",
       " 3rd Qu.:1.673     3rd Qu.: 0.774   3rd Qu.:  0.001   3rd Qu.: 51.808  \n",
       " Max.   :5.951     Max.   :64.040   Max.   :157.409   Max.   :183.628  \n",
       "  Waste.Energy    Fuel.Ethanol..Excluding.Denaturant\n",
       " Min.   : 0.000   Min.   :  0.000                   \n",
       " 1st Qu.: 0.000   1st Qu.:  0.000                   \n",
       " Median : 0.108   Median :  0.007                   \n",
       " Mean   : 5.820   Mean   :  6.977                   \n",
       " 3rd Qu.:12.764   3rd Qu.:  1.283                   \n",
       " Max.   :32.875   Max.   :104.420                   \n",
       " Biomass.Losses.and.Co.products Biomass.Energy    Total.Renewable.Energy\n",
       " Min.   : 0.000                 Min.   :  0.000   Min.   :  0.00        \n",
       " 1st Qu.: 0.000                 1st Qu.:  0.258   1st Qu.:  2.07        \n",
       " Median : 0.000                 Median :  9.716   Median : 50.98        \n",
       " Mean   : 4.835                 Mean   : 46.286   Mean   : 70.87        \n",
       " 3rd Qu.: 0.000                 3rd Qu.: 89.359   3rd Qu.:126.98        \n",
       " Max.   :75.373                 Max.   :233.200   Max.   :308.18        \n",
       " Renewable.Diesel.Fuel Other.Biofuels    Conventional.Hydroelectric.Power\n",
       " Min.   : 0.0000       Min.   :0.00000   Min.   :  0.00                  \n",
       " 1st Qu.: 0.0000       1st Qu.:0.00000   1st Qu.:  0.00                  \n",
       " Median : 0.0000       Median :0.00000   Median :  0.00                  \n",
       " Mean   : 0.4289       Mean   :0.03175   Mean   : 15.76                  \n",
       " 3rd Qu.: 0.0000       3rd Qu.:0.00000   3rd Qu.:  0.00                  \n",
       " Max.   :38.3440       Max.   :4.10100   Max.   :117.45                  \n",
       "   Biodiesel      \n",
       " Min.   : 0.0000  \n",
       " 1st Qu.: 0.0000  \n",
       " Median : 0.0000  \n",
       " Mean   : 0.9537  \n",
       " 3rd Qu.: 0.0000  \n",
       " Max.   :27.8710  "
      ]
     },
     "metadata": {},
     "output_type": "display_data"
    }
   ],
   "source": [
    "# Obtain a summary of the entire dataset\n",
    "summary(data)"
   ]
  },
  {
   "cell_type": "code",
   "execution_count": 34,
   "metadata": {
    "vscode": {
     "languageId": "r"
    }
   },
   "outputs": [
    {
     "data": {
      "text/html": [
       "<table class=\"dataframe\">\n",
       "<caption>A tibble: 5 × 6</caption>\n",
       "<thead>\n",
       "\t<tr><th scope=col>Sector</th><th scope=col>mean_energy</th><th scope=col>sd_energy</th><th scope=col>median_energy</th><th scope=col>min_energy</th><th scope=col>max_energy</th></tr>\n",
       "\t<tr><th scope=col>&lt;chr&gt;</th><th scope=col>&lt;dbl&gt;</th><th scope=col>&lt;dbl&gt;</th><th scope=col>&lt;dbl&gt;</th><th scope=col>&lt;dbl&gt;</th><th scope=col>&lt;dbl&gt;</th></tr>\n",
       "</thead>\n",
       "<tbody>\n",
       "\t<tr><td>Commerical    </td><td>  8.98775</td><td> 6.116287</td><td>  9.651</td><td> 0.515</td><td> 24.945</td></tr>\n",
       "\t<tr><td>Electric Power</td><td>132.56947</td><td>55.735937</td><td>118.269</td><td>53.152</td><td>308.175</td></tr>\n",
       "\t<tr><td>Industrial    </td><td>159.82539</td><td>33.115005</td><td>160.159</td><td>82.471</td><td>234.425</td></tr>\n",
       "\t<tr><td>Residential   </td><td> 52.97843</td><td>14.564641</td><td> 50.984</td><td>27.164</td><td> 85.781</td></tr>\n",
       "\t<tr><td>Transportation</td><td>  0.00000</td><td> 0.000000</td><td>  0.000</td><td> 0.000</td><td>  0.000</td></tr>\n",
       "</tbody>\n",
       "</table>\n"
      ],
      "text/latex": [
       "A tibble: 5 × 6\n",
       "\\begin{tabular}{llllll}\n",
       " Sector & mean\\_energy & sd\\_energy & median\\_energy & min\\_energy & max\\_energy\\\\\n",
       " <chr> & <dbl> & <dbl> & <dbl> & <dbl> & <dbl>\\\\\n",
       "\\hline\n",
       "\t Commerical     &   8.98775 &  6.116287 &   9.651 &  0.515 &  24.945\\\\\n",
       "\t Electric Power & 132.56947 & 55.735937 & 118.269 & 53.152 & 308.175\\\\\n",
       "\t Industrial     & 159.82539 & 33.115005 & 160.159 & 82.471 & 234.425\\\\\n",
       "\t Residential    &  52.97843 & 14.564641 &  50.984 & 27.164 &  85.781\\\\\n",
       "\t Transportation &   0.00000 &  0.000000 &   0.000 &  0.000 &   0.000\\\\\n",
       "\\end{tabular}\n"
      ],
      "text/markdown": [
       "\n",
       "A tibble: 5 × 6\n",
       "\n",
       "| Sector &lt;chr&gt; | mean_energy &lt;dbl&gt; | sd_energy &lt;dbl&gt; | median_energy &lt;dbl&gt; | min_energy &lt;dbl&gt; | max_energy &lt;dbl&gt; |\n",
       "|---|---|---|---|---|---|\n",
       "| Commerical     |   8.98775 |  6.116287 |   9.651 |  0.515 |  24.945 |\n",
       "| Electric Power | 132.56947 | 55.735937 | 118.269 | 53.152 | 308.175 |\n",
       "| Industrial     | 159.82539 | 33.115005 | 160.159 | 82.471 | 234.425 |\n",
       "| Residential    |  52.97843 | 14.564641 |  50.984 | 27.164 |  85.781 |\n",
       "| Transportation |   0.00000 |  0.000000 |   0.000 |  0.000 |   0.000 |\n",
       "\n"
      ],
      "text/plain": [
       "  Sector         mean_energy sd_energy median_energy min_energy max_energy\n",
       "1 Commerical       8.98775    6.116287   9.651        0.515      24.945   \n",
       "2 Electric Power 132.56947   55.735937 118.269       53.152     308.175   \n",
       "3 Industrial     159.82539   33.115005 160.159       82.471     234.425   \n",
       "4 Residential     52.97843   14.564641  50.984       27.164      85.781   \n",
       "5 Transportation   0.00000    0.000000   0.000        0.000       0.000   "
      ]
     },
     "metadata": {},
     "output_type": "display_data"
    }
   ],
   "source": [
    "# Obtain a summary of the data based on the sector\n",
    "data %>%\n",
    "    group_by(Sector) %>%\n",
    "    summarize(mean_energy = mean(Total.Renewable.Energy, na.rm = TRUE),\n",
    "              sd_energy = sd(Total.Renewable.Energy, na.rm = TRUE),\n",
    "              median_energy = median(Total.Renewable.Energy, na.rm = TRUE),\n",
    "              min_energy = min(Total.Renewable.Energy, na.rm = TRUE),\n",
    "              max_energy = max(Total.Renewable.Energy, na.rm = TRUE))"
   ]
  },
  {
   "cell_type": "markdown",
   "metadata": {},
   "source": [
    "***\n",
    "## Model Building\n",
    "**Dates:** November 8 - November 14\n",
    "\n",
    "**Meeting Date:** November 14"
   ]
  },
  {
   "cell_type": "markdown",
   "metadata": {},
   "source": [
    "### Model Equation\n",
    "\n",
    "**Equation:** \n",
    "$$Y = \\beta_0 +  \\beta_1X_1 + \\beta_2X_2 + + \\beta_3X_3 + \\epsilon"
   ]
  },
  {
   "cell_type": "markdown",
   "metadata": {},
   "source": [
    "### Model Fitting"
   ]
  },
  {
   "cell_type": "code",
   "execution_count": 35,
   "metadata": {
    "vscode": {
     "languageId": "r"
    }
   },
   "outputs": [
    {
     "data": {
      "text/plain": [
       "\n",
       "Call:\n",
       "lm(formula = data$Total.Renewable.Energy ~ data$Year + data$Month + \n",
       "    data$Sector)\n",
       "\n",
       "Residuals:\n",
       "    Min      1Q  Median      3Q     Max \n",
       "-65.442 -16.377  -2.533  12.766 150.059 \n",
       "\n",
       "Coefficients:\n",
       "                            Estimate Std. Error t value Pr(>|t|)    \n",
       "(Intercept)               -2.104e+03  6.227e+01 -33.796  < 2e-16 ***\n",
       "data$Year                  1.058e+00  3.116e-02  33.964  < 2e-16 ***\n",
       "data$Month                -1.312e-01  1.329e-01  -0.987    0.324    \n",
       "data$SectorElectric Power  1.236e+02  1.453e+00  85.069  < 2e-16 ***\n",
       "data$SectorIndustrial      1.508e+02  1.453e+00 103.831  < 2e-16 ***\n",
       "data$SectorResidential     4.399e+01  1.453e+00  30.282  < 2e-16 ***\n",
       "data$SectorTransportation -8.988e+00  1.453e+00  -6.187 6.95e-10 ***\n",
       "---\n",
       "Signif. codes:  0 '***' 0.001 '**' 0.01 '*' 0.05 '.' 0.1 ' ' 1\n",
       "\n",
       "Residual standard error: 25.43 on 3058 degrees of freedom\n",
       "Multiple R-squared:  0.8726,\tAdjusted R-squared:  0.8724 \n",
       "F-statistic:  3492 on 6 and 3058 DF,  p-value: < 2.2e-16\n"
      ]
     },
     "metadata": {},
     "output_type": "display_data"
    }
   ],
   "source": [
    "# Model fitting code (e.g., lm() function)\n",
    "model <- lm(data$Total.Renewable.Energy ~ data$Year + data$Month + data$Sector)\n",
    "summary(model)"
   ]
  },
  {
   "cell_type": "markdown",
   "metadata": {},
   "source": [
    "### Multicollinearity"
   ]
  },
  {
   "cell_type": "code",
   "execution_count": 36,
   "metadata": {
    "vscode": {
     "languageId": "r"
    }
   },
   "outputs": [
    {
     "name": "stdout",
     "output_type": "stream",
     "text": [
      "                GVIF Df GVIF^(1/(2*Df))\n",
      "data$Year   1.000021  1         1.00001\n",
      "data$Month  1.000021  1         1.00001\n",
      "data$Sector 1.000000  4         1.00000\n"
     ]
    }
   ],
   "source": [
    "vif_model <- vif(model)\n",
    "print(vif_model)"
   ]
  },
  {
   "cell_type": "markdown",
   "metadata": {},
   "source": [
    "**Explanation of Multicollinearity:**\n",
    "A VIF value between 5 and 10 indicates possible multicollinearity issues. \n",
    "\n",
    "From the VIF output, all variables have low multicollinearity in the regression model since all values are below the 5-10 threshold. Additionallly, all of the values of the generalized variance inflation factor are close to 1, which indicates negligiel multicollinearity. \n",
    "\n",
    "Due to the fact that the predictors do not exhibit multicollinearity problems, they can confidently be included in the regression model without concerns of over-inflating the standard errors."
   ]
  },
  {
   "cell_type": "markdown",
   "metadata": {},
   "source": [
    "### Interaction Terms\n"
   ]
  },
  {
   "cell_type": "code",
   "execution_count": 40,
   "metadata": {
    "vscode": {
     "languageId": "r"
    }
   },
   "outputs": [
    {
     "data": {
      "text/plain": [
       "\n",
       "Call:\n",
       "lm(formula = Total.Renewable.Energy ~ Year * Month * Sector, \n",
       "    data = reduced_data)\n",
       "\n",
       "Residuals:\n",
       "    Min      1Q  Median      3Q     Max \n",
       "-62.122  -4.172   0.000   4.437  94.429 \n",
       "\n",
       "Coefficients:\n",
       "                                  Estimate Std. Error t value Pr(>|t|)    \n",
       "(Intercept)                     -7.685e+02  1.891e+02  -4.064 4.94e-05 ***\n",
       "Year                             3.891e-01  9.463e-02   4.111 4.04e-05 ***\n",
       "Month                           -7.865e-01  2.576e+01  -0.031  0.97564    \n",
       "SectorElectric Power            -5.872e+03  2.674e+02 -21.957  < 2e-16 ***\n",
       "SectorIndustrial                -2.664e+03  2.674e+02  -9.961  < 2e-16 ***\n",
       "SectorResidential                1.221e+03  2.674e+02   4.565 5.18e-06 ***\n",
       "SectorTransportation             7.685e+02  2.674e+02   2.874  0.00408 ** \n",
       "Year:Month                       4.052e-04  1.289e-02   0.031  0.97492    \n",
       "Year:SectorElectric Power        3.006e+00  1.338e-01  22.460  < 2e-16 ***\n",
       "Year:SectorIndustrial            1.406e+00  1.338e-01  10.508  < 2e-16 ***\n",
       "Year:SectorResidential          -5.894e-01  1.338e-01  -4.404 1.10e-05 ***\n",
       "Year:SectorTransportation       -3.891e-01  1.338e-01  -2.907  0.00367 ** \n",
       "Month:SectorElectric Power       4.097e+01  3.642e+01   1.125  0.26080    \n",
       "Month:SectorIndustrial          -1.102e+01  3.642e+01  -0.303  0.76217    \n",
       "Month:SectorResidential         -2.986e-01  3.642e+01  -0.008  0.99346    \n",
       "Month:SectorTransportation       7.865e-01  3.642e+01   0.022  0.98278    \n",
       "Year:Month:SectorElectric Power -2.130e-02  1.823e-02  -1.169  0.24260    \n",
       "Year:Month:SectorIndustrial      5.888e-03  1.823e-02   0.323  0.74672    \n",
       "Year:Month:SectorResidential     2.061e-04  1.823e-02   0.011  0.99098    \n",
       "Year:Month:SectorTransportation -4.052e-04  1.823e-02  -0.022  0.98227    \n",
       "---\n",
       "Signif. codes:  0 '***' 0.001 '**' 0.01 '*' 0.05 '.' 0.1 ' ' 1\n",
       "\n",
       "Residual standard error: 16.31 on 3045 degrees of freedom\n",
       "Multiple R-squared:  0.9479,\tAdjusted R-squared:  0.9475 \n",
       "F-statistic:  2914 on 19 and 3045 DF,  p-value: < 2.2e-16\n"
      ]
     },
     "metadata": {},
     "output_type": "display_data"
    }
   ],
   "source": [
    "interaction_model <- lm(Total.Renewable.Energy ~ Year * Month * Sector, data = reduced_data)\n",
    "summary(interaction_model)"
   ]
  },
  {
   "cell_type": "code",
   "execution_count": 43,
   "metadata": {
    "vscode": {
     "languageId": "r"
    }
   },
   "outputs": [
    {
     "name": "stderr",
     "output_type": "stream",
     "text": [
      "there are higher-order terms (interactions) in this model\n",
      "consider setting type = 'predictor'; see ?vif\n",
      "\n"
     ]
    },
    {
     "data": {
      "text/html": [
       "<table class=\"dataframe\">\n",
       "<caption>A matrix: 7 × 3 of type dbl</caption>\n",
       "<thead>\n",
       "\t<tr><th></th><th scope=col>GVIF</th><th scope=col>Df</th><th scope=col>GVIF^(1/(2*Df))</th></tr>\n",
       "</thead>\n",
       "<tbody>\n",
       "\t<tr><th scope=row>Year</th><td>2.244257e+01</td><td>1</td><td>  4.737359</td></tr>\n",
       "\t<tr><th scope=row>Month</th><td>9.135014e+04</td><td>1</td><td>302.241863</td></tr>\n",
       "\t<tr><th scope=row>Sector</th><td>4.617175e+19</td><td>4</td><td>287.109157</td></tr>\n",
       "\t<tr><th scope=row>Year:Month</th><td>9.135605e+04</td><td>1</td><td>302.251632</td></tr>\n",
       "\t<tr><th scope=row>Year:Sector</th><td>4.616208e+19</td><td>4</td><td>287.101640</td></tr>\n",
       "\t<tr><th scope=row>Month:Sector</th><td>8.813176e+19</td><td>4</td><td>311.273073</td></tr>\n",
       "\t<tr><th scope=row>Year:Month:Sector</th><td>8.810131e+19</td><td>4</td><td>311.259627</td></tr>\n",
       "</tbody>\n",
       "</table>\n"
      ],
      "text/latex": [
       "A matrix: 7 × 3 of type dbl\n",
       "\\begin{tabular}{r|lll}\n",
       "  & GVIF & Df & GVIF\\textasciicircum{}(1/(2*Df))\\\\\n",
       "\\hline\n",
       "\tYear & 2.244257e+01 & 1 &   4.737359\\\\\n",
       "\tMonth & 9.135014e+04 & 1 & 302.241863\\\\\n",
       "\tSector & 4.617175e+19 & 4 & 287.109157\\\\\n",
       "\tYear:Month & 9.135605e+04 & 1 & 302.251632\\\\\n",
       "\tYear:Sector & 4.616208e+19 & 4 & 287.101640\\\\\n",
       "\tMonth:Sector & 8.813176e+19 & 4 & 311.273073\\\\\n",
       "\tYear:Month:Sector & 8.810131e+19 & 4 & 311.259627\\\\\n",
       "\\end{tabular}\n"
      ],
      "text/markdown": [
       "\n",
       "A matrix: 7 × 3 of type dbl\n",
       "\n",
       "| <!--/--> | GVIF | Df | GVIF^(1/(2*Df)) |\n",
       "|---|---|---|---|\n",
       "| Year | 2.244257e+01 | 1 |   4.737359 |\n",
       "| Month | 9.135014e+04 | 1 | 302.241863 |\n",
       "| Sector | 4.617175e+19 | 4 | 287.109157 |\n",
       "| Year:Month | 9.135605e+04 | 1 | 302.251632 |\n",
       "| Year:Sector | 4.616208e+19 | 4 | 287.101640 |\n",
       "| Month:Sector | 8.813176e+19 | 4 | 311.273073 |\n",
       "| Year:Month:Sector | 8.810131e+19 | 4 | 311.259627 |\n",
       "\n"
      ],
      "text/plain": [
       "                  GVIF         Df GVIF^(1/(2*Df))\n",
       "Year              2.244257e+01 1    4.737359     \n",
       "Month             9.135014e+04 1  302.241863     \n",
       "Sector            4.617175e+19 4  287.109157     \n",
       "Year:Month        9.135605e+04 1  302.251632     \n",
       "Year:Sector       4.616208e+19 4  287.101640     \n",
       "Month:Sector      8.813176e+19 4  311.273073     \n",
       "Year:Month:Sector 8.810131e+19 4  311.259627     "
      ]
     },
     "metadata": {},
     "output_type": "display_data"
    }
   ],
   "source": [
    "vif(interaction_model)"
   ]
  },
  {
   "cell_type": "markdown",
   "metadata": {},
   "source": [
    "**Explanation of Interaction Terms:**\n",
    "The Year interaction stands out as statisticall significant and meaningful, and highlights sector-specific trends over time. However, looking at the Year, Month, and the three-way interaction terms, they do not provie strong explanatory power, as indicated by their low significance and high multicollinearity in the model. \n",
    "\n",
    "Significant positive coefficients for sectors like Electric Power and Industrial indicate that these sectors show a strong increasing trend in renewable energy consumption over time. In contrast, sectors like Residential and Transportation have smaller (and even negative) coefficients, indicating weaker or declining year-over-year trends in these sectors.\n",
    "\n",
    "The analysis of the Year and Month, and it's affects on the total renewalbe energy by sector capturing complex, sector-specific temporal dynamics. Although this interaction is included in the model, the high variance inflation factor (VIF) values suggest significant multicollinearity, making it difficult to interpret this interaction reliably.\n"
   ]
  },
  {
   "cell_type": "markdown",
   "metadata": {},
   "source": [
    "### Model Summary and Diagonostics"
   ]
  },
  {
   "cell_type": "code",
   "execution_count": 37,
   "metadata": {
    "vscode": {
     "languageId": "r"
    }
   },
   "outputs": [
    {
     "data": {
      "text/plain": [
       "\n",
       "Call:\n",
       "lm(formula = data$Total.Renewable.Energy ~ data$Year + data$Month + \n",
       "    data$Sector)\n",
       "\n",
       "Residuals:\n",
       "    Min      1Q  Median      3Q     Max \n",
       "-65.442 -16.377  -2.533  12.766 150.059 \n",
       "\n",
       "Coefficients:\n",
       "                            Estimate Std. Error t value Pr(>|t|)    \n",
       "(Intercept)               -2.104e+03  6.227e+01 -33.796  < 2e-16 ***\n",
       "data$Year                  1.058e+00  3.116e-02  33.964  < 2e-16 ***\n",
       "data$Month                -1.312e-01  1.329e-01  -0.987    0.324    \n",
       "data$SectorElectric Power  1.236e+02  1.453e+00  85.069  < 2e-16 ***\n",
       "data$SectorIndustrial      1.508e+02  1.453e+00 103.831  < 2e-16 ***\n",
       "data$SectorResidential     4.399e+01  1.453e+00  30.282  < 2e-16 ***\n",
       "data$SectorTransportation -8.988e+00  1.453e+00  -6.187 6.95e-10 ***\n",
       "---\n",
       "Signif. codes:  0 '***' 0.001 '**' 0.01 '*' 0.05 '.' 0.1 ' ' 1\n",
       "\n",
       "Residual standard error: 25.43 on 3058 degrees of freedom\n",
       "Multiple R-squared:  0.8726,\tAdjusted R-squared:  0.8724 \n",
       "F-statistic:  3492 on 6 and 3058 DF,  p-value: < 2.2e-16\n"
      ]
     },
     "metadata": {},
     "output_type": "display_data"
    }
   ],
   "source": [
    "# Model summary\n",
    "summary(model)"
   ]
  },
  {
   "cell_type": "code",
   "execution_count": 38,
   "metadata": {
    "vscode": {
     "languageId": "r"
    }
   },
   "outputs": [
    {
     "data": {
      "text/html": [
       "<table class=\"dataframe\">\n",
       "<caption>A anova: 4 × 5</caption>\n",
       "<thead>\n",
       "\t<tr><th></th><th scope=col>Df</th><th scope=col>Sum Sq</th><th scope=col>Mean Sq</th><th scope=col>F value</th><th scope=col>Pr(&gt;F)</th></tr>\n",
       "\t<tr><th></th><th scope=col>&lt;int&gt;</th><th scope=col>&lt;dbl&gt;</th><th scope=col>&lt;dbl&gt;</th><th scope=col>&lt;dbl&gt;</th><th scope=col>&lt;dbl&gt;</th></tr>\n",
       "</thead>\n",
       "<tbody>\n",
       "\t<tr><th scope=row>data$Year</th><td>   1</td><td>7.463615e+05</td><td> 746361.4853</td><td>1153.8667952</td><td>7.114965e-215</td></tr>\n",
       "\t<tr><th scope=row>data$Month</th><td>   1</td><td>6.301283e+02</td><td>    630.1283</td><td>   0.9741715</td><td> 3.237201e-01</td></tr>\n",
       "\t<tr><th scope=row>data$Sector</th><td>   4</td><td>1.280677e+07</td><td>3201693.4820</td><td>4949.7835434</td><td> 0.000000e+00</td></tr>\n",
       "\t<tr><th scope=row>Residuals</th><td>3058</td><td>1.978022e+06</td><td>    646.8350</td><td>          NA</td><td>           NA</td></tr>\n",
       "</tbody>\n",
       "</table>\n"
      ],
      "text/latex": [
       "A anova: 4 × 5\n",
       "\\begin{tabular}{r|lllll}\n",
       "  & Df & Sum Sq & Mean Sq & F value & Pr(>F)\\\\\n",
       "  & <int> & <dbl> & <dbl> & <dbl> & <dbl>\\\\\n",
       "\\hline\n",
       "\tdata\\$Year &    1 & 7.463615e+05 &  746361.4853 & 1153.8667952 & 7.114965e-215\\\\\n",
       "\tdata\\$Month &    1 & 6.301283e+02 &     630.1283 &    0.9741715 &  3.237201e-01\\\\\n",
       "\tdata\\$Sector &    4 & 1.280677e+07 & 3201693.4820 & 4949.7835434 &  0.000000e+00\\\\\n",
       "\tResiduals & 3058 & 1.978022e+06 &     646.8350 &           NA &            NA\\\\\n",
       "\\end{tabular}\n"
      ],
      "text/markdown": [
       "\n",
       "A anova: 4 × 5\n",
       "\n",
       "| <!--/--> | Df &lt;int&gt; | Sum Sq &lt;dbl&gt; | Mean Sq &lt;dbl&gt; | F value &lt;dbl&gt; | Pr(&gt;F) &lt;dbl&gt; |\n",
       "|---|---|---|---|---|---|\n",
       "| data$Year |    1 | 7.463615e+05 |  746361.4853 | 1153.8667952 | 7.114965e-215 |\n",
       "| data$Month |    1 | 6.301283e+02 |     630.1283 |    0.9741715 |  3.237201e-01 |\n",
       "| data$Sector |    4 | 1.280677e+07 | 3201693.4820 | 4949.7835434 |  0.000000e+00 |\n",
       "| Residuals | 3058 | 1.978022e+06 |     646.8350 |           NA |            NA |\n",
       "\n"
      ],
      "text/plain": [
       "            Df   Sum Sq       Mean Sq      F value      Pr(>F)       \n",
       "data$Year      1 7.463615e+05  746361.4853 1153.8667952 7.114965e-215\n",
       "data$Month     1 6.301283e+02     630.1283    0.9741715  3.237201e-01\n",
       "data$Sector    4 1.280677e+07 3201693.4820 4949.7835434  0.000000e+00\n",
       "Residuals   3058 1.978022e+06     646.8350           NA            NA"
      ]
     },
     "metadata": {},
     "output_type": "display_data"
    }
   ],
   "source": [
    "anova(model)"
   ]
  },
  {
   "cell_type": "code",
   "execution_count": 39,
   "metadata": {
    "vscode": {
     "languageId": "r"
    }
   },
   "outputs": [
    {
     "data": {
      "text/plain": [
       " lag Autocorrelation D-W Statistic p-value\n",
       "   1       0.1513485      1.696749       0\n",
       " Alternative hypothesis: rho != 0"
      ]
     },
     "metadata": {},
     "output_type": "display_data"
    }
   ],
   "source": [
    "durbinWatsonTest(model)"
   ]
  },
  {
   "cell_type": "markdown",
   "metadata": {},
   "source": [
    "### Feature Selection Plan\n",
    "Describe strategies for reducing the model (if necessary) and rationale."
   ]
  },
  {
   "cell_type": "markdown",
   "metadata": {},
   "source": [
    "***\n",
    "## Model Evaluation & Validation\n",
    "**Dates:** November 15 - November 21\n",
    "\n",
    "**Meeting Date:** November 21"
   ]
  },
  {
   "cell_type": "markdown",
   "metadata": {},
   "source": [
    "### Documentation of Model Adjustments"
   ]
  },
  {
   "cell_type": "code",
   "execution_count": null,
   "metadata": {
    "vscode": {
     "languageId": "r"
    }
   },
   "outputs": [],
   "source": [
    "# Model adjustments made based on your feature selection plan\n",
    "# You can add as many code/markdown blocks as you need to show \n",
    "# the iterative thought process here as you go. "
   ]
  },
  {
   "cell_type": "markdown",
   "metadata": {},
   "source": [
    "Summary of iterative process:\n",
    "1. First I did this\n",
    "2. Then I did this because...\n",
    "3. Then I did this because...\n",
    "\n",
    "Final Model Equation: "
   ]
  },
  {
   "cell_type": "markdown",
   "metadata": {},
   "source": [
    "### Model Evaluation\n",
    "#### Significance Tests"
   ]
  },
  {
   "cell_type": "code",
   "execution_count": null,
   "metadata": {
    "vscode": {
     "languageId": "r"
    }
   },
   "outputs": [],
   "source": [
    "# Add your significance test code with outputs here"
   ]
  },
  {
   "cell_type": "markdown",
   "metadata": {},
   "source": [
    "#### Model Performance Metrics"
   ]
  },
  {
   "cell_type": "code",
   "execution_count": null,
   "metadata": {
    "vscode": {
     "languageId": "r"
    }
   },
   "outputs": [],
   "source": [
    "# Add your model performance code with outputs here"
   ]
  },
  {
   "cell_type": "markdown",
   "metadata": {},
   "source": [
    "### Validation Findings"
   ]
  },
  {
   "cell_type": "code",
   "execution_count": null,
   "metadata": {
    "vscode": {
     "languageId": "r"
    }
   },
   "outputs": [],
   "source": [
    "# Add any validation code here"
   ]
  },
  {
   "cell_type": "markdown",
   "metadata": {},
   "source": [
    "### Summary of Findings\n",
    "\n",
    "[Summarize your findings from the model evaluation and validation here. Don't forget to bring it back to your hypothesis and include your final model!]"
   ]
  },
  {
   "cell_type": "markdown",
   "metadata": {},
   "source": [
    "***\n",
    "Team Reminder: After this meeting, agree on a report/presentation format and make all of the needed documentation."
   ]
  },
  {
   "cell_type": "markdown",
   "metadata": {},
   "source": [
    "***\n",
    "## Report and Presentation\n",
    "**Dates:** November 22 - November 26\n",
    "\n",
    "**Meeting Date:** November 26, 4:30\n",
    "\n",
    "No code neccesary here (yay)! Use the space below to brainstorm which graphs you want to include in the report and how you want to tell the story of your model!"
   ]
  }
 ],
 "metadata": {
  "kernelspec": {
   "display_name": "R",
   "language": "R",
   "name": "ir"
  },
  "language_info": {
   "codemirror_mode": "r",
   "file_extension": ".r",
   "mimetype": "text/x-r-source",
   "name": "R",
   "pygments_lexer": "r",
   "version": "4.4.1"
  }
 },
 "nbformat": 4,
 "nbformat_minor": 2
}
