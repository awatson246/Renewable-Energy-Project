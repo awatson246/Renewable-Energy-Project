{
 "cells": [
  {
   "cell_type": "markdown",
   "metadata": {},
   "source": [
    "# Project Journal"
   ]
  },
  {
   "cell_type": "markdown",
   "metadata": {
    "vscode": {
     "languageId": "plaintext"
    }
   },
   "source": [
    "**Name:** Adriana Watson\n",
    "\n",
    "**Research Question:** The Energy Policy Act of 2005 (EPAct) included legislation intended to promote the use of solar, wind, geothermal, hydroelectric, biomass, and biofuel energy consumption. Can the changes in renewable energy consumption after the implementation of EPAct be explained by the individual contributions of solar, wind, geothermal, hydroelectric, biomass, and biofuel consumption?\n",
    "\n",
    "**Variables:**\n",
    "$$Y: Total Renewable Energy \\newline\n",
    "X_1: Solar Energy \\newline\n",
    "X_2: Wind Energy \\newline\n",
    "X_3: Geothermal Energy \\newline\n",
    "X_4: Hydroelectric Power \\newline\n",
    "X_5: Biomass Energy Consumption \\newline\n",
    "X_6: Other Biofuels \\newline\n",
    "X_7: After\\_EPAct \\newline\n",
    "X_8: EPAct\\_Time "
   ]
  },
  {
   "cell_type": "markdown",
   "metadata": {},
   "source": [
    "## Data Prep & EDA"
   ]
  },
  {
   "cell_type": "markdown",
   "metadata": {},
   "source": [
    "### Data Cleaning Summary\n",
    "\n",
    "**Summary of data cleaning process:**\n",
    "1. Load libraries\n",
    "2. Import the dataset\n",
    "3. Check for and fill missing values\n",
    "4. Create new variables (```After_EPAct``` and ```EPAct_Time```)\n",
    "5. Transform variables to align with analysis goal\n",
    "\n",
    "**Issues Encountered and Resolutions:**\n",
    "Only minor syntax issues and forgetting to install libraries. \n",
    "#### 1. Load libraries\n"
   ]
  },
  {
   "cell_type": "code",
   "execution_count": 1,
   "metadata": {
    "vscode": {
     "languageId": "r"
    }
   },
   "outputs": [],
   "source": [
    "#install.packages(\"lubridate\")\n",
    "#install.packages(\"corrplot\")\n",
    "#install.packages(\"GGally\")\n",
    "#install.packages(\"knitr\")\n",
    "#install.packages(\"olsrr\")\n",
    "#install.packages(\"reshape2\")\n",
    "#install.packages(\"boot\")\n",
    "#install.packages(\"MASS\")\n",
    "#install.packages(\"lmtest\")\n",
    "#install.packages(\"sandwich\")\n",
    "#install.packages(\"caret\")\n",
    "#install.packages(\"tidyr\")\n",
    "#install.packages(\"broom\")\n",
    "#install.packages(\"tibble\")"
   ]
  },
  {
   "cell_type": "code",
   "execution_count": 2,
   "metadata": {
    "vscode": {
     "languageId": "r"
    }
   },
   "outputs": [
    {
     "name": "stderr",
     "output_type": "stream",
     "text": [
      "Loading required package: ggplot2\n",
      "\n",
      "Registered S3 method overwritten by 'GGally':\n",
      "  method from   \n",
      "  +.gg   ggplot2\n",
      "\n",
      "\n",
      "Attaching package: 'dplyr'\n",
      "\n",
      "\n",
      "The following objects are masked from 'package:stats':\n",
      "\n",
      "    filter, lag\n",
      "\n",
      "\n",
      "The following objects are masked from 'package:base':\n",
      "\n",
      "    intersect, setdiff, setequal, union\n",
      "\n",
      "\n",
      "\n",
      "Attaching package: 'lubridate'\n",
      "\n",
      "\n",
      "The following objects are masked from 'package:base':\n",
      "\n",
      "    date, intersect, setdiff, union\n",
      "\n",
      "\n",
      "corrplot 0.95 loaded\n",
      "\n",
      "Loading required package: carData\n",
      "\n",
      "\n",
      "Attaching package: 'car'\n",
      "\n",
      "\n",
      "The following object is masked from 'package:dplyr':\n",
      "\n",
      "    recode\n",
      "\n",
      "\n",
      "Warning message:\n",
      "\"package 'olsrr' was built under R version 4.4.2\"\n",
      "\n",
      "Attaching package: 'olsrr'\n",
      "\n",
      "\n",
      "The following object is masked from 'package:datasets':\n",
      "\n",
      "    rivers\n",
      "\n",
      "\n",
      "Warning message:\n",
      "\"package 'reshape2' was built under R version 4.4.2\"\n",
      "\n",
      "Attaching package: 'reshape2'\n",
      "\n",
      "\n",
      "The following object is masked from 'package:tidyr':\n",
      "\n",
      "    smiths\n",
      "\n",
      "\n",
      "Warning message:\n",
      "\"package 'boot' was built under R version 4.4.2\"\n",
      "\n",
      "Attaching package: 'boot'\n",
      "\n",
      "\n",
      "The following object is masked from 'package:car':\n",
      "\n",
      "    logit\n",
      "\n",
      "\n",
      "Warning message:\n",
      "\"package 'MASS' was built under R version 4.4.2\"\n",
      "\n",
      "Attaching package: 'MASS'\n",
      "\n",
      "\n",
      "The following object is masked from 'package:olsrr':\n",
      "\n",
      "    cement\n",
      "\n",
      "\n",
      "The following object is masked from 'package:dplyr':\n",
      "\n",
      "    select\n",
      "\n",
      "\n",
      "Loading required package: zoo\n",
      "\n",
      "\n",
      "Attaching package: 'zoo'\n",
      "\n",
      "\n",
      "The following objects are masked from 'package:base':\n",
      "\n",
      "    as.Date, as.Date.numeric\n",
      "\n",
      "\n",
      "Warning message:\n",
      "\"package 'sandwich' was built under R version 4.4.2\"\n",
      "Warning message:\n",
      "\"package 'caret' was built under R version 4.4.2\"\n",
      "Loading required package: lattice\n",
      "\n",
      "\n",
      "Attaching package: 'lattice'\n",
      "\n",
      "\n",
      "The following object is masked from 'package:boot':\n",
      "\n",
      "    melanoma\n",
      "\n",
      "\n",
      "Warning message:\n",
      "\"package 'broom' was built under R version 4.4.2\"\n"
     ]
    }
   ],
   "source": [
    "library(GGally)      # Matrix of plots\n",
    "library(dplyr)      # For data manipulation\n",
    "library(tidyr)      # For pivot_longer\n",
    "library(ggplot2)    # For data visualization\n",
    "library(lubridate)  # For date handling\n",
    "library(corrplot)   # For correlation plots\n",
    "library(knitr)\n",
    "library(tidyr)\n",
    "library(car)\n",
    "library(olsrr)\n",
    "library(reshape2)\n",
    "library(boot)\n",
    "library(MASS)\n",
    "library(lmtest)\n",
    "library(sandwich)\n",
    "library(caret)\n",
    "library(broom)\n",
    "library(tibble)"
   ]
  },
  {
   "cell_type": "markdown",
   "metadata": {},
   "source": [
    "#### 2. Import the dataset"
   ]
  },
  {
   "cell_type": "code",
   "execution_count": 3,
   "metadata": {
    "vscode": {
     "languageId": "r"
    }
   },
   "outputs": [],
   "source": [
    "data <- read.csv(\"../USRenewableEnergyConsumption.csv\")"
   ]
  },
  {
   "cell_type": "markdown",
   "metadata": {},
   "source": [
    "#### 3. Check for and fill missing values"
   ]
  },
  {
   "cell_type": "code",
   "execution_count": 4,
   "metadata": {
    "vscode": {
     "languageId": "r"
    }
   },
   "outputs": [
    {
     "name": "stdout",
     "output_type": "stream",
     "text": [
      "                              Year                              Month \n",
      "                                 0                                  0 \n",
      "                            Sector                Hydroelectric.Power \n",
      "                                 0                                  0 \n",
      "                 Geothermal.Energy                       Solar.Energy \n",
      "                                 0                                  0 \n",
      "                       Wind.Energy                        Wood.Energy \n",
      "                                 0                                  0 \n",
      "                      Waste.Energy Fuel.Ethanol..Excluding.Denaturant \n",
      "                                 0                                  0 \n",
      "    Biomass.Losses.and.Co.products                     Biomass.Energy \n",
      "                                 0                                  0 \n",
      "            Total.Renewable.Energy              Renewable.Diesel.Fuel \n",
      "                                 0                                  0 \n",
      "                    Other.Biofuels   Conventional.Hydroelectric.Power \n",
      "                                 0                                  0 \n",
      "                         Biodiesel \n",
      "                                 0 \n"
     ]
    }
   ],
   "source": [
    "missing_values <- colSums(is.na(data))\n",
    "print(missing_values)  # Print the count of missing values in each column"
   ]
  },
  {
   "cell_type": "markdown",
   "metadata": {},
   "source": [
    "#### 4. Create EPAct variables"
   ]
  },
  {
   "cell_type": "code",
   "execution_count": 5,
   "metadata": {
    "vscode": {
     "languageId": "r"
    }
   },
   "outputs": [],
   "source": [
    "data <- data %>%\n",
    "  mutate(After_EPAct = ifelse((Year > 2005) | (Year == 2005 & Month >= 8), 1, 0),  # Binary variable\n",
    "         EPAct_Time = ifelse(Year < 2005, \n",
    "                             -((2005 - Year) * 12 + (Month - 8)),  # Negative values before EPAct\n",
    "                             (Year - 2005) * 12 + (Month - 8))  # Zero in Aug 2005, positive afterward\n",
    "  )"
   ]
  },
  {
   "cell_type": "markdown",
   "metadata": {},
   "source": [
    "#### 5. Transform dataset to allign with analysis goals"
   ]
  },
  {
   "cell_type": "code",
   "execution_count": 6,
   "metadata": {
    "vscode": {
     "languageId": "r"
    }
   },
   "outputs": [],
   "source": [
    "# Select Relevant Columns\n",
    "data <- data %>%\n",
    "  dplyr::select(Month,                                            # Month\n",
    "         Year,                                             # Year\n",
    "         Total_Renewable_Energy = Total.Renewable.Energy,  # Y\n",
    "         Solar_Energy = Solar.Energy,                      # X_1\n",
    "         Wind_Energy = Wind.Energy,                        # X_2\n",
    "         Geothermal_Energy = Geothermal.Energy,            # X_3\n",
    "         Hydroelectric_Power = Hydroelectric.Power,        # X_4\n",
    "         Biomass_Energy_Consumption = Biomass.Energy,      # X_5\n",
    "         Other_Biofuels = Other.Biofuels,                  # X_6\n",
    "         After_EPAct,                                      # X_7\n",
    "         EPAct_Time)                                       # X_8"
   ]
  },
  {
   "cell_type": "code",
   "execution_count": 7,
   "metadata": {
    "vscode": {
     "languageId": "r"
    }
   },
   "outputs": [
    {
     "data": {
      "text/html": [
       "<table class=\"dataframe\">\n",
       "<caption>A data.frame: 6 × 11</caption>\n",
       "<thead>\n",
       "\t<tr><th></th><th scope=col>Month</th><th scope=col>Year</th><th scope=col>Total_Renewable_Energy</th><th scope=col>Solar_Energy</th><th scope=col>Wind_Energy</th><th scope=col>Geothermal_Energy</th><th scope=col>Hydroelectric_Power</th><th scope=col>Biomass_Energy_Consumption</th><th scope=col>Other_Biofuels</th><th scope=col>After_EPAct</th><th scope=col>EPAct_Time</th></tr>\n",
       "\t<tr><th></th><th scope=col>&lt;int&gt;</th><th scope=col>&lt;int&gt;</th><th scope=col>&lt;dbl&gt;</th><th scope=col>&lt;dbl&gt;</th><th scope=col>&lt;dbl&gt;</th><th scope=col>&lt;dbl&gt;</th><th scope=col>&lt;dbl&gt;</th><th scope=col>&lt;dbl&gt;</th><th scope=col>&lt;dbl&gt;</th><th scope=col>&lt;dbl&gt;</th><th scope=col>&lt;dbl&gt;</th></tr>\n",
       "</thead>\n",
       "<tbody>\n",
       "\t<tr><th scope=row>1</th><td>1</td><td>1973</td><td> 0.570</td><td>0</td><td>0</td><td>0.00</td><td>0.00</td><td> 0.570</td><td>0</td><td>0</td><td>-377</td></tr>\n",
       "\t<tr><th scope=row>2</th><td>1</td><td>1973</td><td>89.223</td><td>0</td><td>0</td><td>0.49</td><td>0.00</td><td> 0.211</td><td>0</td><td>0</td><td>-377</td></tr>\n",
       "\t<tr><th scope=row>3</th><td>1</td><td>1973</td><td>99.973</td><td>0</td><td>0</td><td>0.00</td><td>1.04</td><td>98.933</td><td>0</td><td>0</td><td>-377</td></tr>\n",
       "\t<tr><th scope=row>4</th><td>1</td><td>1973</td><td>30.074</td><td>0</td><td>0</td><td>0.00</td><td>0.00</td><td> 0.000</td><td>0</td><td>0</td><td>-377</td></tr>\n",
       "\t<tr><th scope=row>5</th><td>1</td><td>1973</td><td> 0.000</td><td>0</td><td>0</td><td>0.00</td><td>0.00</td><td> 0.000</td><td>0</td><td>0</td><td>-377</td></tr>\n",
       "\t<tr><th scope=row>6</th><td>2</td><td>1973</td><td> 0.515</td><td>0</td><td>0</td><td>0.00</td><td>0.00</td><td> 0.515</td><td>0</td><td>0</td><td>-378</td></tr>\n",
       "</tbody>\n",
       "</table>\n"
      ],
      "text/latex": [
       "A data.frame: 6 × 11\n",
       "\\begin{tabular}{r|lllllllllll}\n",
       "  & Month & Year & Total\\_Renewable\\_Energy & Solar\\_Energy & Wind\\_Energy & Geothermal\\_Energy & Hydroelectric\\_Power & Biomass\\_Energy\\_Consumption & Other\\_Biofuels & After\\_EPAct & EPAct\\_Time\\\\\n",
       "  & <int> & <int> & <dbl> & <dbl> & <dbl> & <dbl> & <dbl> & <dbl> & <dbl> & <dbl> & <dbl>\\\\\n",
       "\\hline\n",
       "\t1 & 1 & 1973 &  0.570 & 0 & 0 & 0.00 & 0.00 &  0.570 & 0 & 0 & -377\\\\\n",
       "\t2 & 1 & 1973 & 89.223 & 0 & 0 & 0.49 & 0.00 &  0.211 & 0 & 0 & -377\\\\\n",
       "\t3 & 1 & 1973 & 99.973 & 0 & 0 & 0.00 & 1.04 & 98.933 & 0 & 0 & -377\\\\\n",
       "\t4 & 1 & 1973 & 30.074 & 0 & 0 & 0.00 & 0.00 &  0.000 & 0 & 0 & -377\\\\\n",
       "\t5 & 1 & 1973 &  0.000 & 0 & 0 & 0.00 & 0.00 &  0.000 & 0 & 0 & -377\\\\\n",
       "\t6 & 2 & 1973 &  0.515 & 0 & 0 & 0.00 & 0.00 &  0.515 & 0 & 0 & -378\\\\\n",
       "\\end{tabular}\n"
      ],
      "text/markdown": [
       "\n",
       "A data.frame: 6 × 11\n",
       "\n",
       "| <!--/--> | Month &lt;int&gt; | Year &lt;int&gt; | Total_Renewable_Energy &lt;dbl&gt; | Solar_Energy &lt;dbl&gt; | Wind_Energy &lt;dbl&gt; | Geothermal_Energy &lt;dbl&gt; | Hydroelectric_Power &lt;dbl&gt; | Biomass_Energy_Consumption &lt;dbl&gt; | Other_Biofuels &lt;dbl&gt; | After_EPAct &lt;dbl&gt; | EPAct_Time &lt;dbl&gt; |\n",
       "|---|---|---|---|---|---|---|---|---|---|---|---|\n",
       "| 1 | 1 | 1973 |  0.570 | 0 | 0 | 0.00 | 0.00 |  0.570 | 0 | 0 | -377 |\n",
       "| 2 | 1 | 1973 | 89.223 | 0 | 0 | 0.49 | 0.00 |  0.211 | 0 | 0 | -377 |\n",
       "| 3 | 1 | 1973 | 99.973 | 0 | 0 | 0.00 | 1.04 | 98.933 | 0 | 0 | -377 |\n",
       "| 4 | 1 | 1973 | 30.074 | 0 | 0 | 0.00 | 0.00 |  0.000 | 0 | 0 | -377 |\n",
       "| 5 | 1 | 1973 |  0.000 | 0 | 0 | 0.00 | 0.00 |  0.000 | 0 | 0 | -377 |\n",
       "| 6 | 2 | 1973 |  0.515 | 0 | 0 | 0.00 | 0.00 |  0.515 | 0 | 0 | -378 |\n",
       "\n"
      ],
      "text/plain": [
       "  Month Year Total_Renewable_Energy Solar_Energy Wind_Energy Geothermal_Energy\n",
       "1 1     1973  0.570                 0            0           0.00             \n",
       "2 1     1973 89.223                 0            0           0.49             \n",
       "3 1     1973 99.973                 0            0           0.00             \n",
       "4 1     1973 30.074                 0            0           0.00             \n",
       "5 1     1973  0.000                 0            0           0.00             \n",
       "6 2     1973  0.515                 0            0           0.00             \n",
       "  Hydroelectric_Power Biomass_Energy_Consumption Other_Biofuels After_EPAct\n",
       "1 0.00                 0.570                     0              0          \n",
       "2 0.00                 0.211                     0              0          \n",
       "3 1.04                98.933                     0              0          \n",
       "4 0.00                 0.000                     0              0          \n",
       "5 0.00                 0.000                     0              0          \n",
       "6 0.00                 0.515                     0              0          \n",
       "  EPAct_Time\n",
       "1 -377      \n",
       "2 -377      \n",
       "3 -377      \n",
       "4 -377      \n",
       "5 -377      \n",
       "6 -378      "
      ]
     },
     "metadata": {},
     "output_type": "display_data"
    }
   ],
   "source": [
    "head(data)"
   ]
  },
  {
   "cell_type": "markdown",
   "metadata": {},
   "source": [
    "### Exploratory Data Analysis Findings\n",
    "**Visualizations:**\n",
    "1. Correlation Matrix\n",
    "2. Time Series x Total Renewable Energy Plot\n",
    "3. Box Plot Before & After EPAct\n",
    "4. Independent Variable x Total Renewable Energy Scatter Plots\n",
    "5. Summary Statistics\n",
    "\n",
    "**Key Observations:** \n",
    "* Based on the correlation matrix, significant correlations are: \n",
    "    * Total Renewable Energy & Biomass Energy Consumption\n",
    "    * Solar Energy & Wind Energy\n",
    "    * Wind Energy & Geothermal Energy\n",
    "* The time series plot points to a steady increase in total renewable energy consumption after EPAct\n",
    "* The histogram indicates that the mean energy consumption before and after EPAct was the same, but the range of values grew after EPAct"
   ]
  },
  {
   "cell_type": "markdown",
   "metadata": {},
   "source": [
    "#### 1. Correlation Matrix"
   ]
  },
  {
   "cell_type": "code",
   "execution_count": 8,
   "metadata": {
    "vscode": {
     "languageId": "r"
    }
   },
   "outputs": [
    {
     "name": "stdout",
     "output_type": "stream",
     "text": [
      "[1] \"Significant Correlations (|correlation| > 0.5):\"\n",
      "                   Variable1              Variable2 Correlation\n",
      "1        Hydroelectric_Power Total_Renewable_Energy   0.5011969\n",
      "2 Biomass_Energy_Consumption Total_Renewable_Energy   0.6108683\n",
      "3                Wind_Energy           Solar_Energy   0.7443091\n",
      "4          Geothermal_Energy            Wind_Energy   0.5055562\n",
      "5 Biomass_Energy_Consumption    Hydroelectric_Power   0.7199216\n"
     ]
    },
    {
     "data": {
      "image/png": "[encoded data removed]",
      "text/plain": [
       "Plot with title \"\""
      ]
     },
     "metadata": {
      "image/png": {
       "height": 420,
       "width": 420
      }
     },
     "output_type": "display_data"
    }
   ],
   "source": [
    "# Select only numeric variables, excluding 'After_EPAct' since it's binary\n",
    "numeric_data <- data %>%\n",
    "  dplyr::select(Total_Renewable_Energy, Solar_Energy, Wind_Energy, Geothermal_Energy,\n",
    "         Hydroelectric_Power, Biomass_Energy_Consumption, Other_Biofuels, EPAct_Time)\n",
    "\n",
    "# Calculate the correlation matrix with complete observations only\n",
    "correlation_matrix <- cor(numeric_data, use = \"complete.obs\")\n",
    "\n",
    "# Extract significant correlations (absolute value > 0.5)\n",
    "significant_correlations <- correlation_matrix[abs(correlation_matrix) > 0.5 & lower.tri(correlation_matrix, diag = FALSE)]\n",
    "significant_pairs <- which(abs(correlation_matrix) > 0.5 & lower.tri(correlation_matrix, diag = FALSE), arr.ind = TRUE)\n",
    "significant_correlations <- data.frame(\n",
    "  Variable1 = rownames(correlation_matrix)[significant_pairs[,1]],\n",
    "  Variable2 = colnames(correlation_matrix)[significant_pairs[,2]],\n",
    "  Correlation = significant_correlations\n",
    ")\n",
    "\n",
    "# Print the significant correlations\n",
    "print(\"Significant Correlations (|correlation| > 0.5):\")\n",
    "print(significant_correlations)\n",
    "\n",
    "# Plot the entire correlation matrix\n",
    "corrplot(\n",
    "  correlation_matrix,\n",
    "  method = \"circle\",\n",
    "  type = \"upper\",\n",
    "  col = colorRampPalette(c(\"skyblue\", \"white\", \"darkorange\"))(200),\n",
    "  tl.cex = 0.8,           # Text label size\n",
    "  tl.col = \"#0c0404\",       # Label color\n",
    "  cl.cex = 0.8            # Color legend size\n",
    ")"
   ]
  },
  {
   "cell_type": "markdown",
   "metadata": {},
   "source": [
    "#### 2. Time Series x Total Renewable Energy Plot"
   ]
  },
  {
   "cell_type": "code",
   "execution_count": 9,
   "metadata": {
    "vscode": {
     "languageId": "r"
    }
   },
   "outputs": [
    {
     "data": {
      "image/png": "[encoded data removed]",
      "text/plain": [
       "plot without title"
      ]
     },
     "metadata": {
      "image/png": {
       "height": 420,
       "width": 420
      }
     },
     "output_type": "display_data"
    }
   ],
   "source": [
    "# Create a 'Date' column for easier plotting\n",
    "data <- data %>%\n",
    "  mutate(Date = make_date(Year, Month))\n",
    "ggplot(data, aes(x = Date, y = Total_Renewable_Energy)) +\n",
    "  geom_line(color = \"blue\") +\n",
    "  geom_vline(xintercept = as.Date(\"2005-08-01\"), linetype = \"dashed\", color = \"red\") +\n",
    "  labs(title = \"Total Renewable Energy Over Time\", y = \"Total Renewable Energy\", x = \"Date\") +\n",
    "  theme_minimal()"
   ]
  },
  {
   "cell_type": "markdown",
   "metadata": {},
   "source": [
    "#### 3. Box Plot Before & After EPAct"
   ]
  },
  {
   "cell_type": "code",
   "execution_count": 10,
   "metadata": {
    "vscode": {
     "languageId": "r"
    }
   },
   "outputs": [
    {
     "data": {
      "image/png": "[encoded data removed]",
      "text/plain": [
       "plot without title"
      ]
     },
     "metadata": {
      "image/png": {
       "height": 420,
       "width": 420
      }
     },
     "output_type": "display_data"
    }
   ],
   "source": [
    "ggplot(data, aes(x = as.factor(After_EPAct), y = Total_Renewable_Energy)) +\n",
    "  geom_boxplot(fill = c(\"orange\", \"lightgreen\")) +\n",
    "  labs(title = \"Total Renewable Energy Before and After EPAct\", x = \"After EPAct (0 = Before, 1 = After)\", y = \"Total Renewable Energy\") +\n",
    "  theme_minimal()"
   ]
  },
  {
   "cell_type": "markdown",
   "metadata": {},
   "source": [
    "#### 4. Independent Variable x Total Renewable Energy Scatter Plots"
   ]
  },
  {
   "cell_type": "code",
   "execution_count": 11,
   "metadata": {
    "vscode": {
     "languageId": "r"
    }
   },
   "outputs": [],
   "source": [
    "independent_vars <- c(\"Solar_Energy\", \"Wind_Energy\", \"Geothermal_Energy\", \n",
    "                      \"Hydroelectric_Power\", \"Biomass_Energy_Consumption\", \"Other_Biofuels\", \"EPAct_Time\")"
   ]
  },
  {
   "cell_type": "code",
   "execution_count": 12,
   "metadata": {
    "vscode": {
     "languageId": "r"
    }
   },
   "outputs": [
    {
     "data": {
      "image/png": "[encoded data removed]",
      "text/plain": [
       "plot without title"
      ]
     },
     "metadata": {
      "image/png": {
       "height": 420,
       "width": 420
      }
     },
     "output_type": "display_data"
    }
   ],
   "source": [
    "renewable_data <- data %>% \n",
    "  dplyr::select(Total_Renewable_Energy, all_of(independent_vars))  # Select relevant columns\n",
    "\n",
    "ggpairs(\n",
    "  renewable_data, \n",
    "  title = \"Pair Plot of Renewable Energy Sources\",\n",
    "  upper = list(continuous = wrap(\"cor\", size = 3, color = \"black\")),   \n",
    "  lower = list(continuous = wrap(\"smooth\", alpha = 0.3, color = \"blue\")),\n",
    "  diag = list(continuous = wrap(\"densityDiag\", fill = \"grey\", color = \"black\"))\n",
    ") +\n",
    "  theme_minimal(base_size = 10) +                   \n",
    "  theme(\n",
    "    plot.title = element_text(hjust = 0.5, size = 12, face = \"bold\"),  \n",
    "    axis.text = element_text(size = 7),            \n",
    "    strip.text = element_text(size = 8),           \n",
    "    plot.margin = unit(c(1, 1, 1, 1), \"cm\")         \n",
    "  )\n"
   ]
  },
  {
   "cell_type": "markdown",
   "metadata": {},
   "source": [
    "#### 5. Summary Statistics"
   ]
  },
  {
   "cell_type": "code",
   "execution_count": 13,
   "metadata": {
    "vscode": {
     "languageId": "r"
    }
   },
   "outputs": [
    {
     "data": {
      "text/plain": [
       "\n",
       "\n",
       "Table: Summary Statistics for Key Variables\n",
       "\n",
       "|Statistic                       |  Value|\n",
       "|:-------------------------------|------:|\n",
       "|Total_Renewable_Energy_mean     |  70.87|\n",
       "|Total_Renewable_Energy_sd       |  71.20|\n",
       "|Solar_Energy_mean               |   2.02|\n",
       "|Solar_Energy_sd                 |   5.77|\n",
       "|Wind_Energy_mean                |   4.28|\n",
       "|Wind_Energy_sd                  |  18.12|\n",
       "|Geothermal_Energy_mean          |   1.15|\n",
       "|Geothermal_Energy_sd            |   1.55|\n",
       "|Hydroelectric_Power_mean        |   0.17|\n",
       "|Hydroelectric_Power_sd          |   0.37|\n",
       "|Biomass_Energy_Consumption_mean |  46.29|\n",
       "|Biomass_Energy_Consumption_sd   |  64.24|\n",
       "|Other_Biofuels_mean             |   0.03|\n",
       "|Other_Biofuels_sd               |   0.26|\n",
       "|EPAct_Time_mean                 | -83.12|\n",
       "|EPAct_Time_sd                   | 175.77|"
      ]
     },
     "metadata": {},
     "output_type": "display_data"
    }
   ],
   "source": [
    "# Calculate summary statistics for each numeric column in the dataset\n",
    "summary_stats <- data %>%\n",
    "  summarise(\n",
    "    Total_Renewable_Energy_mean = mean(Total_Renewable_Energy, na.rm = TRUE),\n",
    "    Total_Renewable_Energy_sd = sd(Total_Renewable_Energy, na.rm = TRUE),\n",
    "    Solar_Energy_mean = mean(Solar_Energy, na.rm = TRUE),\n",
    "    Solar_Energy_sd = sd(Solar_Energy, na.rm = TRUE),\n",
    "    Wind_Energy_mean = mean(Wind_Energy, na.rm = TRUE),\n",
    "    Wind_Energy_sd = sd(Wind_Energy, na.rm = TRUE),\n",
    "    Geothermal_Energy_mean = mean(Geothermal_Energy, na.rm = TRUE),\n",
    "    Geothermal_Energy_sd = sd(Geothermal_Energy, na.rm = TRUE),\n",
    "    Hydroelectric_Power_mean = mean(Hydroelectric_Power, na.rm = TRUE),\n",
    "    Hydroelectric_Power_sd = sd(Hydroelectric_Power, na.rm = TRUE),\n",
    "    Biomass_Energy_Consumption_mean = mean(Biomass_Energy_Consumption, na.rm = TRUE),\n",
    "    Biomass_Energy_Consumption_sd = sd(Biomass_Energy_Consumption, na.rm = TRUE),\n",
    "    Other_Biofuels_mean = mean(Other_Biofuels, na.rm = TRUE),\n",
    "    Other_Biofuels_sd = sd(Other_Biofuels, na.rm = TRUE),\n",
    "    EPAct_Time_mean = mean(EPAct_Time, na.rm = TRUE),\n",
    "    EPAct_Time_sd = sd(EPAct_Time, na.rm = TRUE)\n",
    "  ) %>%\n",
    "  pivot_longer(cols = everything(), \n",
    "               names_to = \"Statistic\", \n",
    "               values_to = \"Value\")  # Reshape for readability\n",
    "\n",
    "# Display the summary statistics as a formatted table\n",
    "kable(summary_stats, caption = \"Summary Statistics for Key Variables\", digits = 2)\n"
   ]
  },
  {
   "cell_type": "markdown",
   "metadata": {},
   "source": [
    "***\n",
    "## Model Building"
   ]
  },
  {
   "cell_type": "markdown",
   "metadata": {},
   "source": [
    "### Model Equation\n",
    "\n",
    "**Equation:** \n",
    "I am starting with two equations as follows (one uses ```After_EPAct```, one uses ```EPAct_Time```): \n",
    "$$Y = \\beta_0 +  \\beta_1X_1 + \\beta_2X_2 + \\beta_3X_3 + \\beta_4X_4 + \\beta_5X_5 + \\beta_6X_6 + \\beta_7X_7 + \\epsilon\n",
    "\\newline\n",
    "Y = \\beta_0 +  \\beta_1X_1 + \\beta_2X_2 + \\beta_3X_3 + \\beta_4X_4 + \\beta_5X_5 + \\beta_6X_6 + \\beta_8X_8 + \\epsilon"
   ]
  },
  {
   "cell_type": "markdown",
   "metadata": {},
   "source": [
    "### Model Fitting"
   ]
  },
  {
   "cell_type": "code",
   "execution_count": 14,
   "metadata": {
    "vscode": {
     "languageId": "r"
    }
   },
   "outputs": [
    {
     "data": {
      "text/plain": [
       "\n",
       "Call:\n",
       "lm(formula = Total_Renewable_Energy ~ Solar_Energy + Wind_Energy + \n",
       "    Geothermal_Energy + Hydroelectric_Power + Biomass_Energy_Consumption + \n",
       "    Other_Biofuels + After_EPAct, data = data)\n",
       "\n",
       "Residuals:\n",
       "    Min      1Q  Median      3Q     Max \n",
       "-84.160 -15.438  -6.326  18.574  74.512 \n",
       "\n",
       "Coefficients:\n",
       "                            Estimate Std. Error t value Pr(>|t|)    \n",
       "(Intercept)                 11.50011    0.82437  13.950  < 2e-16 ***\n",
       "Solar_Energy                 1.16132    0.14212   8.172 4.41e-16 ***\n",
       "Wind_Energy                  1.13642    0.04497  25.268  < 2e-16 ***\n",
       "Geothermal_Energy           21.79924    0.42113  51.763  < 2e-16 ***\n",
       "Hydroelectric_Power          9.75080    2.36716   4.119 3.90e-05 ***\n",
       "Biomass_Energy_Consumption   0.88852    0.01495  59.433  < 2e-16 ***\n",
       "Other_Biofuels             -43.70717    2.10377 -20.776  < 2e-16 ***\n",
       "After_EPAct                -39.26008    1.46009 -26.889  < 2e-16 ***\n",
       "---\n",
       "Signif. codes:  0 '***' 0.001 '**' 0.01 '*' 0.05 '.' 0.1 ' ' 1\n",
       "\n",
       "Residual standard error: 28.41 on 3057 degrees of freedom\n",
       "Multiple R-squared:  0.8412,\tAdjusted R-squared:  0.8408 \n",
       "F-statistic:  2313 on 7 and 3057 DF,  p-value: < 2.2e-16\n"
      ]
     },
     "metadata": {},
     "output_type": "display_data"
    },
    {
     "data": {
      "text/plain": [
       "\n",
       "Call:\n",
       "lm(formula = Total_Renewable_Energy ~ Solar_Energy + Wind_Energy + \n",
       "    Geothermal_Energy + Hydroelectric_Power + Biomass_Energy_Consumption + \n",
       "    Other_Biofuels + EPAct_Time, data = data)\n",
       "\n",
       "Residuals:\n",
       "    Min      1Q  Median      3Q     Max \n",
       "-80.441 -14.775  -3.359  16.965  73.777 \n",
       "\n",
       "Coefficients:\n",
       "                            Estimate Std. Error t value Pr(>|t|)    \n",
       "(Intercept)                -20.17943    1.14166 -17.675  < 2e-16 ***\n",
       "Solar_Energy                 1.97097    0.14057  14.021  < 2e-16 ***\n",
       "Wind_Energy                  0.94309    0.04339  21.737  < 2e-16 ***\n",
       "Geothermal_Energy           24.19133    0.41665  58.061  < 2e-16 ***\n",
       "Hydroelectric_Power          7.34168    2.19459   3.345 0.000832 ***\n",
       "Biomass_Energy_Consumption   0.94621    0.01436  65.876  < 2e-16 ***\n",
       "Other_Biofuels             -38.25633    2.00366 -19.093  < 2e-16 ***\n",
       "EPAct_Time                  -0.13813    0.00406 -34.022  < 2e-16 ***\n",
       "---\n",
       "Signif. codes:  0 '***' 0.001 '**' 0.01 '*' 0.05 '.' 0.1 ' ' 1\n",
       "\n",
       "Residual standard error: 26.9 on 3057 degrees of freedom\n",
       "Multiple R-squared:  0.8576,\tAdjusted R-squared:  0.8572 \n",
       "F-statistic:  2629 on 7 and 3057 DF,  p-value: < 2.2e-16\n"
      ]
     },
     "metadata": {},
     "output_type": "display_data"
    }
   ],
   "source": [
    "# Model with After_EPAct\n",
    "base_model_after <- lm(\n",
    "                        Total_Renewable_Energy ~ Solar_Energy + \n",
    "                        Wind_Energy + Geothermal_Energy + \n",
    "                       Hydroelectric_Power + \n",
    "                       Biomass_Energy_Consumption + \n",
    "                       Other_Biofuels + \n",
    "                       After_EPAct, \n",
    "                       data = data)\n",
    "\n",
    "# Model with EPAct_Time\n",
    "base_model_time <- lm(\n",
    "                        Total_Renewable_Energy ~ Solar_Energy + \n",
    "                        Wind_Energy + Geothermal_Energy + \n",
    "                        Hydroelectric_Power + \n",
    "                        Biomass_Energy_Consumption + \n",
    "                        Other_Biofuels + \n",
    "                        EPAct_Time, \n",
    "                        data = data)\n",
    "\n",
    "# Summaries to assess initial fit\n",
    "summary(base_model_after)\n",
    "summary(base_model_time)\n"
   ]
  },
  {
   "cell_type": "markdown",
   "metadata": {},
   "source": [
    "> Note: based on this inital run, ```EPACt_Time``` performs better (which makes sense since it's the more informative one). Both will still be asssesd in this section but only one will be used in the final model. "
   ]
  },
  {
   "cell_type": "markdown",
   "metadata": {},
   "source": [
    "### Multicollinearity"
   ]
  },
  {
   "cell_type": "code",
   "execution_count": 15,
   "metadata": {
    "vscode": {
     "languageId": "r"
    }
   },
   "outputs": [
    {
     "name": "stdout",
     "output_type": "stream",
     "text": [
      "\n",
      "VIF for Base Model with After_EPAct:\n",
      "              Solar_Energy                Wind_Energy \n",
      "                      2.56                       2.52 \n",
      "         Geothermal_Energy        Hydroelectric_Power \n",
      "                      1.62                       2.97 \n",
      "Biomass_Energy_Consumption             Other_Biofuels \n",
      "                      3.50                       1.12 \n",
      "               After_EPAct \n",
      "                      1.87 \n",
      "\n",
      "VIF for Base Model with EPAct_Time:\n",
      "              Solar_Energy                Wind_Energy \n",
      "                      2.79                       2.62 \n",
      "         Geothermal_Energy        Hydroelectric_Power \n",
      "                      1.77                       2.85 \n",
      "Biomass_Energy_Consumption             Other_Biofuels \n",
      "                      3.61                       1.13 \n",
      "                EPAct_Time \n",
      "                      2.16 \n"
     ]
    }
   ],
   "source": [
    "# VIF for the model with After_EPAct\n",
    "vif_base_after <- vif(base_model_after)\n",
    "cat(\"\\nVIF for Base Model with After_EPAct:\\n\")\n",
    "print(round(vif_base_after, 2))  # Rounding to 2 decimal places for easier reading\n",
    "\n",
    "# VIF for the model with EPAct_Time\n",
    "vif_base_time <- vif(base_model_time)\n",
    "cat(\"\\nVIF for Base Model with EPAct_Time:\\n\")\n",
    "print(round(vif_base_time, 2))  # Rounding to 2 decimal places for easier reading"
   ]
  },
  {
   "cell_type": "markdown",
   "metadata": {},
   "source": [
    ">**Explanation of Multicollinearity:**\n",
    "A VIF value > 5 generally indicates possible multicollinearity issues. As all values are below this, there are no intial signs of collinearity in either model and both models have comperable collinearity. "
   ]
  },
  {
   "cell_type": "markdown",
   "metadata": {},
   "source": [
    "### Interaction Terms\n"
   ]
  },
  {
   "cell_type": "code",
   "execution_count": 16,
   "metadata": {
    "vscode": {
     "languageId": "r"
    }
   },
   "outputs": [],
   "source": [
    "# Interaction Model with After_EPAct\n",
    "interaction_model_after <- lm(Total_Renewable_Energy ~ Solar_Energy * After_EPAct + \n",
    "                              Wind_Energy * After_EPAct + Geothermal_Energy * After_EPAct + \n",
    "                              Hydroelectric_Power * After_EPAct + Biomass_Energy_Consumption * After_EPAct + \n",
    "                              Other_Biofuels * After_EPAct, data = data)\n",
    "\n",
    "# Interaction Model with EPAct_Time\n",
    "interaction_model_time <- lm(Total_Renewable_Energy ~ Solar_Energy * EPAct_Time + \n",
    "                             Wind_Energy * EPAct_Time + Geothermal_Energy * EPAct_Time + \n",
    "                             Hydroelectric_Power * EPAct_Time + Biomass_Energy_Consumption * EPAct_Time + \n",
    "                             Other_Biofuels * EPAct_Time, data = data)\n"
   ]
  },
  {
   "cell_type": "code",
   "execution_count": 17,
   "metadata": {
    "vscode": {
     "languageId": "r"
    }
   },
   "outputs": [
    {
     "name": "stderr",
     "output_type": "stream",
     "text": [
      "GVIFs computed for predictors\n",
      "\n",
      "GVIFs computed for predictors\n",
      "\n"
     ]
    },
    {
     "name": "stdout",
     "output_type": "stream",
     "text": [
      "\n",
      "VIF for Interaction Model with After_EPAct:\n",
      "                             GVIF Df GVIF^(1/(2*Df))\n",
      "Solar_Energy                 0.00  3            0.00\n",
      "After_EPAct                  1.00 13            1.00\n",
      "Wind_Energy                  0.00  3            0.00\n",
      "Geothermal_Energy            0.00  3            0.00\n",
      "Hydroelectric_Power        128.23  3            2.25\n",
      "Biomass_Energy_Consumption   0.00  3            0.00\n",
      "Other_Biofuels               8.02  3            1.41\n"
     ]
    },
    {
     "name": "stderr",
     "output_type": "stream",
     "text": [
      "GVIFs computed for predictors\n",
      "\n",
      "GVIFs computed for predictors\n",
      "\n"
     ]
    },
    {
     "name": "stdout",
     "output_type": "stream",
     "text": [
      "\n",
      "VIF for Interaction Model with EPAct_Time:\n",
      "                            GVIF Df GVIF^(1/(2*Df))\n",
      "Solar_Energy               28.29  3            1.75\n",
      "EPAct_Time                  1.00 13            1.00\n",
      "Wind_Energy                30.03  3            1.76\n",
      "Geothermal_Energy          14.98  3            1.57\n",
      "Hydroelectric_Power        72.20  3            2.04\n",
      "Biomass_Energy_Consumption 67.30  3            2.02\n",
      "Other_Biofuels              6.64  3            1.37\n"
     ]
    }
   ],
   "source": [
    "# Filter out non-numeric columns from the VIF calculation\n",
    "vif_interaction_after_clean <- vif(interaction_model_after, type = \"predictor\")[sapply(vif(interaction_model_after, type = \"predictor\"), is.numeric)]\n",
    "cat(\"\\nVIF for Interaction Model with After_EPAct:\\n\")\n",
    "print(round(vif_interaction_after_clean, 2))  # Rounding to 2 decimal places for easier reading\n",
    "\n",
    "# Do the same for the interaction model with EPAct_Time\n",
    "vif_interaction_time_clean <- vif(interaction_model_time, type = \"predictor\")[sapply(vif(interaction_model_time, type = \"predictor\"), is.numeric)]\n",
    "cat(\"\\nVIF for Interaction Model with EPAct_Time:\\n\")\n",
    "print(round(vif_interaction_time_clean, 2))  # Rounding to 2 decimal places for easier reading\n"
   ]
  },
  {
   "cell_type": "markdown",
   "metadata": {},
   "source": [
    ">**Explanation of Interaction Terms:**\n",
    "The VIF analysis for both the ```After_EPAct``` and ```EPAct_Time``` models shows generally low multicollinearity among predictors, with some moderate inflation in ```Biomass_Energy_Consumption``` and ```Hydroelectric_Power```. In the interaction models, GVIF values increase, especially for ```Hydroelectric_Power```, indicating potential multicollinearity with added interaction terms. Notably, both ```After_EPAct``` and ```EPAct_Time``` significantly interact with renewable energy sources, suggesting these terms likely capture EPAct-related shifts in consumption patterns. Despite some elevated GVIFs, the interaction models still provide insight into the distinct influences of EPAct and renewable sources over time."
   ]
  },
  {
   "cell_type": "markdown",
   "metadata": {},
   "source": [
    "### Model Peformance with AIC and BIC"
   ]
  },
  {
   "cell_type": "code",
   "execution_count": 18,
   "metadata": {
    "vscode": {
     "languageId": "r"
    }
   },
   "outputs": [
    {
     "name": "stdout",
     "output_type": "stream",
     "text": [
      "AIC - Base Model with After_EPAct: 29222.55 \n",
      "BIC - Base Model with After_EPAct: 29276.8 \n",
      "AIC - Base Model with EPAct_Time: 28889.06 \n",
      "BIC - Base Model with EPAct_Time: 28943.31 \n",
      "\n",
      "AIC - Interaction Model with After_EPAct: 28312.76 \n",
      "BIC - Interaction Model with After_EPAct: 28397.15 \n",
      "AIC - Interaction Model with EPAct_Time: 27618.78 \n",
      "BIC - Interaction Model with EPAct_Time: 27709.2 \n"
     ]
    }
   ],
   "source": [
    "# AIC and BIC for Base Models\n",
    "aic_base_after <- AIC(base_model_after)\n",
    "bic_base_after <- BIC(base_model_after)\n",
    "aic_base_time <- AIC(base_model_time)\n",
    "bic_base_time <- BIC(base_model_time)\n",
    "\n",
    "# AIC and BIC for Interaction Models\n",
    "aic_interaction_after <- AIC(interaction_model_after)\n",
    "bic_interaction_after <- BIC(interaction_model_after)\n",
    "aic_interaction_time <- AIC(interaction_model_time)\n",
    "bic_interaction_time <- BIC(interaction_model_time)\n",
    "\n",
    "# Print results\n",
    "cat(\"AIC - Base Model with After_EPAct:\", aic_base_after, \"\\n\")\n",
    "cat(\"BIC - Base Model with After_EPAct:\", bic_base_after, \"\\n\")\n",
    "cat(\"AIC - Base Model with EPAct_Time:\", aic_base_time, \"\\n\")\n",
    "cat(\"BIC - Base Model with EPAct_Time:\", bic_base_time, \"\\n\\n\")\n",
    "\n",
    "cat(\"AIC - Interaction Model with After_EPAct:\", aic_interaction_after, \"\\n\")\n",
    "cat(\"BIC - Interaction Model with After_EPAct:\", bic_interaction_after, \"\\n\")\n",
    "cat(\"AIC - Interaction Model with EPAct_Time:\", aic_interaction_time, \"\\n\")\n",
    "cat(\"BIC - Interaction Model with EPAct_Time:\", bic_interaction_time, \"\\n\")\n"
   ]
  },
  {
   "cell_type": "markdown",
   "metadata": {},
   "source": [
    ">**Explanation of Model Performance:** \n",
    "The AIC and BIC results indicate that the ```EPAct_Time``` models (both base and interaction) are better fits for the data compared to the ```After_EPAct``` models, as they have lower AIC and BIC values. The interaction model with ```EPAct_Time``` has the lowest AIC (27618.78) and BIC (27709.2) among all models, suggesting that including interaction terms along with a time-based EPAct variable significantly improves model performance. This implies that ```EPAct_Time``` as a continuous variable, combined with interaction terms, better captures changes in renewable energy consumption post-EPAct."
   ]
  },
  {
   "cell_type": "markdown",
   "metadata": {},
   "source": [
    "### Model Summary and Diagonostics\n",
    "\n",
    "**Visualizations & outputs:**\n",
    "1. Model Summary\n",
    "2. ANOVA\n",
    "3. Residual Plot\n",
    "4. Q-Q Plot\n",
    "5. Cook's Distance Plot\n",
    "\n",
    "#### 1. Model Summary"
   ]
  },
  {
   "cell_type": "code",
   "execution_count": 19,
   "metadata": {
    "vscode": {
     "languageId": "r"
    }
   },
   "outputs": [
    {
     "data": {
      "text/plain": [
       "\n",
       "Call:\n",
       "lm(formula = Total_Renewable_Energy ~ Solar_Energy * EPAct_Time + \n",
       "    Wind_Energy * EPAct_Time + Geothermal_Energy * EPAct_Time + \n",
       "    Hydroelectric_Power * EPAct_Time + Biomass_Energy_Consumption * \n",
       "    EPAct_Time + Other_Biofuels * EPAct_Time, data = data)\n",
       "\n",
       "Residuals:\n",
       "    Min      1Q  Median      3Q     Max \n",
       "-77.690 -11.274   0.490   9.614  72.579 \n",
       "\n",
       "Coefficients:\n",
       "                                        Estimate Std. Error t value Pr(>|t|)\n",
       "(Intercept)                           -2.867e+01  1.183e+00 -24.248  < 2e-16\n",
       "Solar_Energy                           5.807e+00  2.249e-01  25.823  < 2e-16\n",
       "EPAct_Time                            -1.797e-01  4.901e-03 -36.671  < 2e-16\n",
       "Wind_Energy                            1.323e+00  1.451e-01   9.118  < 2e-16\n",
       "Geothermal_Energy                      2.471e+01  5.191e-01  47.592  < 2e-16\n",
       "Hydroelectric_Power                    3.377e+01  2.396e+00  14.091  < 2e-16\n",
       "Biomass_Energy_Consumption             9.606e-01  1.386e-02  69.303  < 2e-16\n",
       "Other_Biofuels                        -6.168e+02  2.872e+01 -21.478  < 2e-16\n",
       "Solar_Energy:EPAct_Time               -1.950e-02  1.160e-03 -16.804  < 2e-16\n",
       "EPAct_Time:Wind_Energy                -2.118e-03  8.506e-04  -2.490   0.0128\n",
       "EPAct_Time:Geothermal_Energy           4.535e-03  3.121e-03   1.453   0.1463\n",
       "EPAct_Time:Hydroelectric_Power         1.099e-01  1.476e-02   7.442 1.28e-13\n",
       "EPAct_Time:Biomass_Energy_Consumption  6.835e-04  8.267e-05   8.267  < 2e-16\n",
       "EPAct_Time:Other_Biofuels              2.752e+00  1.349e-01  20.410  < 2e-16\n",
       "                                         \n",
       "(Intercept)                           ***\n",
       "Solar_Energy                          ***\n",
       "EPAct_Time                            ***\n",
       "Wind_Energy                           ***\n",
       "Geothermal_Energy                     ***\n",
       "Hydroelectric_Power                   ***\n",
       "Biomass_Energy_Consumption            ***\n",
       "Other_Biofuels                        ***\n",
       "Solar_Energy:EPAct_Time               ***\n",
       "EPAct_Time:Wind_Energy                *  \n",
       "EPAct_Time:Geothermal_Energy             \n",
       "EPAct_Time:Hydroelectric_Power        ***\n",
       "EPAct_Time:Biomass_Energy_Consumption ***\n",
       "EPAct_Time:Other_Biofuels             ***\n",
       "---\n",
       "Signif. codes:  0 '***' 0.001 '**' 0.01 '*' 0.05 '.' 0.1 ' ' 1\n",
       "\n",
       "Residual standard error: 21.84 on 3051 degrees of freedom\n",
       "Multiple R-squared:  0.9063,\tAdjusted R-squared:  0.9059 \n",
       "F-statistic:  2269 on 13 and 3051 DF,  p-value: < 2.2e-16\n"
      ]
     },
     "metadata": {},
     "output_type": "display_data"
    }
   ],
   "source": [
    "summary(interaction_model_time)"
   ]
  },
  {
   "cell_type": "markdown",
   "metadata": {},
   "source": [
    "#### 2. ANOVA"
   ]
  },
  {
   "cell_type": "code",
   "execution_count": 20,
   "metadata": {
    "vscode": {
     "languageId": "r"
    }
   },
   "outputs": [
    {
     "data": {
      "text/html": [
       "<table class=\"dataframe\">\n",
       "<caption>A anova: 14 × 5</caption>\n",
       "<thead>\n",
       "\t<tr><th></th><th scope=col>Df</th><th scope=col>Sum Sq</th><th scope=col>Mean Sq</th><th scope=col>F value</th><th scope=col>Pr(&gt;F)</th></tr>\n",
       "\t<tr><th></th><th scope=col>&lt;int&gt;</th><th scope=col>&lt;dbl&gt;</th><th scope=col>&lt;dbl&gt;</th><th scope=col>&lt;dbl&gt;</th><th scope=col>&lt;dbl&gt;</th></tr>\n",
       "</thead>\n",
       "<tbody>\n",
       "\t<tr><th scope=row>Solar_Energy</th><td>   1</td><td>1620462.432</td><td>1620462.4319</td><td> 3395.773788</td><td> 0.000000e+00</td></tr>\n",
       "\t<tr><th scope=row>EPAct_Time</th><td>   1</td><td> 141980.051</td><td> 141980.0508</td><td>  297.527499</td><td> 1.086199e-63</td></tr>\n",
       "\t<tr><th scope=row>Wind_Energy</th><td>   1</td><td>2160265.203</td><td>2160265.2029</td><td> 4526.962062</td><td> 0.000000e+00</td></tr>\n",
       "\t<tr><th scope=row>Geothermal_Energy</th><td>   1</td><td> 378464.826</td><td> 378464.8262</td><td>  793.095175</td><td>2.600231e-155</td></tr>\n",
       "\t<tr><th scope=row>Hydroelectric_Power</th><td>   1</td><td>5835331.386</td><td>5835331.3861</td><td>12228.278161</td><td> 0.000000e+00</td></tr>\n",
       "\t<tr><th scope=row>Biomass_Energy_Consumption</th><td>   1</td><td>2919217.721</td><td>2919217.7205</td><td> 6117.391445</td><td> 0.000000e+00</td></tr>\n",
       "\t<tr><th scope=row>Other_Biofuels</th><td>   1</td><td> 263814.863</td><td> 263814.8628</td><td>  552.839472</td><td>1.725431e-112</td></tr>\n",
       "\t<tr><th scope=row>Solar_Energy:EPAct_Time</th><td>   1</td><td> 184021.530</td><td> 184021.5303</td><td>  385.627878</td><td> 6.025495e-81</td></tr>\n",
       "\t<tr><th scope=row>EPAct_Time:Wind_Energy</th><td>   1</td><td>   2349.656</td><td>   2349.6556</td><td>    4.923841</td><td> 2.656188e-02</td></tr>\n",
       "\t<tr><th scope=row>EPAct_Time:Geothermal_Energy</th><td>   1</td><td>   1745.505</td><td>   1745.5054</td><td>    3.657809</td><td> 5.590053e-02</td></tr>\n",
       "\t<tr><th scope=row>EPAct_Time:Hydroelectric_Power</th><td>   1</td><td> 354492.583</td><td> 354492.5835</td><td>  742.859939</td><td>1.384403e-146</td></tr>\n",
       "\t<tr><th scope=row>EPAct_Time:Biomass_Energy_Consumption</th><td>   1</td><td>  14910.716</td><td>  14910.7155</td><td>   31.246276</td><td> 2.473203e-08</td></tr>\n",
       "\t<tr><th scope=row>EPAct_Time:Other_Biofuels</th><td>   1</td><td> 198794.187</td><td> 198794.1873</td><td>  416.584845</td><td> 6.669021e-87</td></tr>\n",
       "\t<tr><th scope=row>Residuals</th><td>3051</td><td>1455936.463</td><td>    477.1998</td><td>          NA</td><td>           NA</td></tr>\n",
       "</tbody>\n",
       "</table>\n"
      ],
      "text/latex": [
       "A anova: 14 × 5\n",
       "\\begin{tabular}{r|lllll}\n",
       "  & Df & Sum Sq & Mean Sq & F value & Pr(>F)\\\\\n",
       "  & <int> & <dbl> & <dbl> & <dbl> & <dbl>\\\\\n",
       "\\hline\n",
       "\tSolar\\_Energy &    1 & 1620462.432 & 1620462.4319 &  3395.773788 &  0.000000e+00\\\\\n",
       "\tEPAct\\_Time &    1 &  141980.051 &  141980.0508 &   297.527499 &  1.086199e-63\\\\\n",
       "\tWind\\_Energy &    1 & 2160265.203 & 2160265.2029 &  4526.962062 &  0.000000e+00\\\\\n",
       "\tGeothermal\\_Energy &    1 &  378464.826 &  378464.8262 &   793.095175 & 2.600231e-155\\\\\n",
       "\tHydroelectric\\_Power &    1 & 5835331.386 & 5835331.3861 & 12228.278161 &  0.000000e+00\\\\\n",
       "\tBiomass\\_Energy\\_Consumption &    1 & 2919217.721 & 2919217.7205 &  6117.391445 &  0.000000e+00\\\\\n",
       "\tOther\\_Biofuels &    1 &  263814.863 &  263814.8628 &   552.839472 & 1.725431e-112\\\\\n",
       "\tSolar\\_Energy:EPAct\\_Time &    1 &  184021.530 &  184021.5303 &   385.627878 &  6.025495e-81\\\\\n",
       "\tEPAct\\_Time:Wind\\_Energy &    1 &    2349.656 &    2349.6556 &     4.923841 &  2.656188e-02\\\\\n",
       "\tEPAct\\_Time:Geothermal\\_Energy &    1 &    1745.505 &    1745.5054 &     3.657809 &  5.590053e-02\\\\\n",
       "\tEPAct\\_Time:Hydroelectric\\_Power &    1 &  354492.583 &  354492.5835 &   742.859939 & 1.384403e-146\\\\\n",
       "\tEPAct\\_Time:Biomass\\_Energy\\_Consumption &    1 &   14910.716 &   14910.7155 &    31.246276 &  2.473203e-08\\\\\n",
       "\tEPAct\\_Time:Other\\_Biofuels &    1 &  198794.187 &  198794.1873 &   416.584845 &  6.669021e-87\\\\\n",
       "\tResiduals & 3051 & 1455936.463 &     477.1998 &           NA &            NA\\\\\n",
       "\\end{tabular}\n"
      ],
      "text/markdown": [
       "\n",
       "A anova: 14 × 5\n",
       "\n",
       "| <!--/--> | Df &lt;int&gt; | Sum Sq &lt;dbl&gt; | Mean Sq &lt;dbl&gt; | F value &lt;dbl&gt; | Pr(&gt;F) &lt;dbl&gt; |\n",
       "|---|---|---|---|---|---|\n",
       "| Solar_Energy |    1 | 1620462.432 | 1620462.4319 |  3395.773788 |  0.000000e+00 |\n",
       "| EPAct_Time |    1 |  141980.051 |  141980.0508 |   297.527499 |  1.086199e-63 |\n",
       "| Wind_Energy |    1 | 2160265.203 | 2160265.2029 |  4526.962062 |  0.000000e+00 |\n",
       "| Geothermal_Energy |    1 |  378464.826 |  378464.8262 |   793.095175 | 2.600231e-155 |\n",
       "| Hydroelectric_Power |    1 | 5835331.386 | 5835331.3861 | 12228.278161 |  0.000000e+00 |\n",
       "| Biomass_Energy_Consumption |    1 | 2919217.721 | 2919217.7205 |  6117.391445 |  0.000000e+00 |\n",
       "| Other_Biofuels |    1 |  263814.863 |  263814.8628 |   552.839472 | 1.725431e-112 |\n",
       "| Solar_Energy:EPAct_Time |    1 |  184021.530 |  184021.5303 |   385.627878 |  6.025495e-81 |\n",
       "| EPAct_Time:Wind_Energy |    1 |    2349.656 |    2349.6556 |     4.923841 |  2.656188e-02 |\n",
       "| EPAct_Time:Geothermal_Energy |    1 |    1745.505 |    1745.5054 |     3.657809 |  5.590053e-02 |\n",
       "| EPAct_Time:Hydroelectric_Power |    1 |  354492.583 |  354492.5835 |   742.859939 | 1.384403e-146 |\n",
       "| EPAct_Time:Biomass_Energy_Consumption |    1 |   14910.716 |   14910.7155 |    31.246276 |  2.473203e-08 |\n",
       "| EPAct_Time:Other_Biofuels |    1 |  198794.187 |  198794.1873 |   416.584845 |  6.669021e-87 |\n",
       "| Residuals | 3051 | 1455936.463 |     477.1998 |           NA |            NA |\n",
       "\n"
      ],
      "text/plain": [
       "                                      Df   Sum Sq      Mean Sq     \n",
       "Solar_Energy                             1 1620462.432 1620462.4319\n",
       "EPAct_Time                               1  141980.051  141980.0508\n",
       "Wind_Energy                              1 2160265.203 2160265.2029\n",
       "Geothermal_Energy                        1  378464.826  378464.8262\n",
       "Hydroelectric_Power                      1 5835331.386 5835331.3861\n",
       "Biomass_Energy_Consumption               1 2919217.721 2919217.7205\n",
       "Other_Biofuels                           1  263814.863  263814.8628\n",
       "Solar_Energy:EPAct_Time                  1  184021.530  184021.5303\n",
       "EPAct_Time:Wind_Energy                   1    2349.656    2349.6556\n",
       "EPAct_Time:Geothermal_Energy             1    1745.505    1745.5054\n",
       "EPAct_Time:Hydroelectric_Power           1  354492.583  354492.5835\n",
       "EPAct_Time:Biomass_Energy_Consumption    1   14910.716   14910.7155\n",
       "EPAct_Time:Other_Biofuels                1  198794.187  198794.1873\n",
       "Residuals                             3051 1455936.463     477.1998\n",
       "                                      F value      Pr(>F)       \n",
       "Solar_Energy                           3395.773788  0.000000e+00\n",
       "EPAct_Time                              297.527499  1.086199e-63\n",
       "Wind_Energy                            4526.962062  0.000000e+00\n",
       "Geothermal_Energy                       793.095175 2.600231e-155\n",
       "Hydroelectric_Power                   12228.278161  0.000000e+00\n",
       "Biomass_Energy_Consumption             6117.391445  0.000000e+00\n",
       "Other_Biofuels                          552.839472 1.725431e-112\n",
       "Solar_Energy:EPAct_Time                 385.627878  6.025495e-81\n",
       "EPAct_Time:Wind_Energy                    4.923841  2.656188e-02\n",
       "EPAct_Time:Geothermal_Energy              3.657809  5.590053e-02\n",
       "EPAct_Time:Hydroelectric_Power          742.859939 1.384403e-146\n",
       "EPAct_Time:Biomass_Energy_Consumption    31.246276  2.473203e-08\n",
       "EPAct_Time:Other_Biofuels               416.584845  6.669021e-87\n",
       "Residuals                                       NA            NA"
      ]
     },
     "metadata": {},
     "output_type": "display_data"
    }
   ],
   "source": [
    "anova(interaction_model_time)"
   ]
  },
  {
   "cell_type": "markdown",
   "metadata": {},
   "source": [
    "#### 3. Residual Plot"
   ]
  },
  {
   "cell_type": "code",
   "execution_count": 21,
   "metadata": {
    "vscode": {
     "languageId": "r"
    }
   },
   "outputs": [
    {
     "name": "stderr",
     "output_type": "stream",
     "text": [
      "\u001b[1m\u001b[22m`geom_smooth()` using formula = 'y ~ x'\n"
     ]
    },
    {
     "data": {
      "image/png": "[encoded data removed]",
      "text/plain": [
       "plot without title"
      ]
     },
     "metadata": {
      "image/png": {
       "height": 420,
       "width": 420
      }
     },
     "output_type": "display_data"
    }
   ],
   "source": [
    "ggplot(data.frame(Fitted = fitted(interaction_model_time), Residuals = residuals(interaction_model_time)), aes(x = Fitted, y = Residuals)) +\n",
    "  geom_point() +\n",
    "  geom_smooth(method = \"loess\", se = FALSE, color = \"red\") +\n",
    "  labs(x = \"Fitted Values\", y = \"Residuals\", title = \"Residuals vs Fitted Values\") +\n",
    "  theme_minimal()"
   ]
  },
  {
   "cell_type": "markdown",
   "metadata": {},
   "source": [
    "#### 4. Q-Q Plot"
   ]
  },
  {
   "cell_type": "code",
   "execution_count": 22,
   "metadata": {
    "vscode": {
     "languageId": "r"
    }
   },
   "outputs": [
    {
     "data": {
      "image/png": "[encoded data removed]",
      "text/plain": [
       "Plot with title \"Normal Q-Q Plot\""
      ]
     },
     "metadata": {
      "image/png": {
       "height": 420,
       "width": 420
      }
     },
     "output_type": "display_data"
    }
   ],
   "source": [
    "# Q-Q Plot (to check for normality of residuals)\n",
    "qqnorm(residuals(interaction_model_time))\n",
    "qqline(residuals(interaction_model_time), col = \"red\")"
   ]
  },
  {
   "cell_type": "markdown",
   "metadata": {},
   "source": [
    "#### 5. Cook's Distance"
   ]
  },
  {
   "cell_type": "code",
   "execution_count": 23,
   "metadata": {
    "vscode": {
     "languageId": "r"
    }
   },
   "outputs": [
    {
     "data": {
      "image/png": "[encoded data removed]",
      "text/plain": [
       "Plot with title \"Cook's Distance\""
      ]
     },
     "metadata": {
      "image/png": {
       "height": 420,
       "width": 420
      }
     },
     "output_type": "display_data"
    }
   ],
   "source": [
    "cooksd <- cooks.distance(interaction_model_time)\n",
    "plot(cooksd, type = \"h\", main = \"Cook's Distance\", ylab = \"Cook's Distance\")\n",
    "abline(h = 4 / length(cooksd), col = \"red\")  # threshold for influential points"
   ]
  },
  {
   "cell_type": "markdown",
   "metadata": {},
   "source": [
    "### Feature Selection Plan\n",
    "1. Initial Significance: based on the summary and ANOVA, all model terms except for ```EPAct_Time:Geothermal_Energy``` are significant. Thus, all but this term will be kept.\n",
    "2. The residual analysis and Q-Q plot indicate that there is some abnormality in the first and fourth quartile of the data. Thus, certain predictors should be iteratively implemented and the plots should be remade to normalize these features. \n",
    "3. Because there's a clear spike of influential points around observation 3000, these datapoints need to be examined. They will then be removed or mitigated if they are found to be outliers. \n",
    "4. Assess feature importance using pearson correlation coefficients and update the model based on this.\n",
    "5. Cross-valdate and assess the performance of the final model. "
   ]
  },
  {
   "cell_type": "markdown",
   "metadata": {},
   "source": [
    "***\n",
    "## Model Evaluation & Validation"
   ]
  },
  {
   "cell_type": "markdown",
   "metadata": {},
   "source": [
    "### Model Adjustments\n",
    "\n",
    "**Process Steps:**\n",
    "1. Assesing Insignificant Factors\n",
    "2. Removing Outliers\n",
    "3. Addressing Multicollinearity \n",
    "    - Other_Biofuels\n",
    "    - Wind\n",
    "4. Addressing Residual Distribution\n",
    "    - Baseline Metrics\n",
    "    - Initial WLS Model\n",
    "    - Adjusted WLS model\n",
    "5. Summary of Process\n",
    "6. Final Model Equation\n",
    "    - Equation\n",
    "    - Coefficients\n",
    "\n",
    "#### 1. Assesing Insignificant Factors"
   ]
  },
  {
   "cell_type": "code",
   "execution_count": 24,
   "metadata": {
    "vscode": {
     "languageId": "r"
    }
   },
   "outputs": [],
   "source": [
    "# Interaction Model with EPAct_Time\n",
    "updated_model <- lm(\n",
    "                    Total_Renewable_Energy ~ Solar_Energy * EPAct_Time + \n",
    "                    Wind_Energy *  EPAct_Time + \n",
    "                    Hydroelectric_Power * EPAct_Time + \n",
    "                    Biomass_Energy_Consumption * EPAct_Time + \n",
    "                    Other_Biofuels * EPAct_Time, \n",
    "                    data = data)"
   ]
  },
  {
   "cell_type": "markdown",
   "metadata": {},
   "source": [
    "##### Model Summary"
   ]
  },
  {
   "cell_type": "code",
   "execution_count": 25,
   "metadata": {
    "vscode": {
     "languageId": "r"
    }
   },
   "outputs": [
    {
     "data": {
      "text/plain": [
       "\n",
       "Call:\n",
       "lm(formula = Total_Renewable_Energy ~ Solar_Energy * EPAct_Time + \n",
       "    Wind_Energy * EPAct_Time + Hydroelectric_Power * EPAct_Time + \n",
       "    Biomass_Energy_Consumption * EPAct_Time + Other_Biofuels * \n",
       "    EPAct_Time, data = data)\n",
       "\n",
       "Residuals:\n",
       "    Min      1Q  Median      3Q     Max \n",
       "-99.708 -23.469  -3.716  19.674 103.026 \n",
       "\n",
       "Coefficients:\n",
       "                                        Estimate Std. Error t value Pr(>|t|)\n",
       "(Intercept)                            7.797e+00  1.241e+00   6.284 3.78e-10\n",
       "Solar_Energy                           5.967e+00  3.350e-01  17.809  < 2e-16\n",
       "EPAct_Time                            -9.289e-02  5.296e-03 -17.540  < 2e-16\n",
       "Wind_Energy                            5.027e+00  1.563e-01  32.172  < 2e-16\n",
       "Hydroelectric_Power                    2.126e+01  3.577e+00   5.944 3.10e-09\n",
       "Biomass_Energy_Consumption             8.960e-01  1.974e-02  45.379  < 2e-16\n",
       "Other_Biofuels                        -7.996e+02  4.232e+01 -18.893  < 2e-16\n",
       "Solar_Energy:EPAct_Time               -9.405e-03  1.648e-03  -5.708 1.25e-08\n",
       "EPAct_Time:Wind_Energy                -2.143e-02  1.010e-03 -21.227  < 2e-16\n",
       "EPAct_Time:Hydroelectric_Power         2.453e-01  2.173e-02  11.292  < 2e-16\n",
       "EPAct_Time:Biomass_Energy_Consumption -5.988e-04  1.201e-04  -4.987 6.48e-07\n",
       "EPAct_Time:Other_Biofuels              3.602e+00  1.990e-01  18.102  < 2e-16\n",
       "                                         \n",
       "(Intercept)                           ***\n",
       "Solar_Energy                          ***\n",
       "EPAct_Time                            ***\n",
       "Wind_Energy                           ***\n",
       "Hydroelectric_Power                   ***\n",
       "Biomass_Energy_Consumption            ***\n",
       "Other_Biofuels                        ***\n",
       "Solar_Energy:EPAct_Time               ***\n",
       "EPAct_Time:Wind_Energy                ***\n",
       "EPAct_Time:Hydroelectric_Power        ***\n",
       "EPAct_Time:Biomass_Energy_Consumption ***\n",
       "EPAct_Time:Other_Biofuels             ***\n",
       "---\n",
       "Signif. codes:  0 '***' 0.001 '**' 0.01 '*' 0.05 '.' 0.1 ' ' 1\n",
       "\n",
       "Residual standard error: 32.8 on 3053 degrees of freedom\n",
       "Multiple R-squared:  0.7886,\tAdjusted R-squared:  0.7878 \n",
       "F-statistic:  1035 on 11 and 3053 DF,  p-value: < 2.2e-16\n"
      ]
     },
     "metadata": {},
     "output_type": "display_data"
    }
   ],
   "source": [
    "summary(updated_model)"
   ]
  },
  {
   "cell_type": "markdown",
   "metadata": {},
   "source": [
    "##### ANOVA Comparison"
   ]
  },
  {
   "cell_type": "code",
   "execution_count": 26,
   "metadata": {
    "vscode": {
     "languageId": "r"
    }
   },
   "outputs": [
    {
     "data": {
      "text/html": [
       "<table class=\"dataframe\">\n",
       "<caption>A anova: 2 × 6</caption>\n",
       "<thead>\n",
       "\t<tr><th></th><th scope=col>Res.Df</th><th scope=col>RSS</th><th scope=col>Df</th><th scope=col>Sum of Sq</th><th scope=col>F</th><th scope=col>Pr(&gt;F)</th></tr>\n",
       "\t<tr><th></th><th scope=col>&lt;dbl&gt;</th><th scope=col>&lt;dbl&gt;</th><th scope=col>&lt;dbl&gt;</th><th scope=col>&lt;dbl&gt;</th><th scope=col>&lt;dbl&gt;</th><th scope=col>&lt;dbl&gt;</th></tr>\n",
       "</thead>\n",
       "<tbody>\n",
       "\t<tr><th scope=row>1</th><td>3051</td><td>1455936</td><td>NA</td><td>      NA</td><td>      NA</td><td>NA</td></tr>\n",
       "\t<tr><th scope=row>2</th><td>3053</td><td>3283990</td><td>-2</td><td>-1828053</td><td>1915.396</td><td> 0</td></tr>\n",
       "</tbody>\n",
       "</table>\n"
      ],
      "text/latex": [
       "A anova: 2 × 6\n",
       "\\begin{tabular}{r|llllll}\n",
       "  & Res.Df & RSS & Df & Sum of Sq & F & Pr(>F)\\\\\n",
       "  & <dbl> & <dbl> & <dbl> & <dbl> & <dbl> & <dbl>\\\\\n",
       "\\hline\n",
       "\t1 & 3051 & 1455936 & NA &       NA &       NA & NA\\\\\n",
       "\t2 & 3053 & 3283990 & -2 & -1828053 & 1915.396 &  0\\\\\n",
       "\\end{tabular}\n"
      ],
      "text/markdown": [
       "\n",
       "A anova: 2 × 6\n",
       "\n",
       "| <!--/--> | Res.Df &lt;dbl&gt; | RSS &lt;dbl&gt; | Df &lt;dbl&gt; | Sum of Sq &lt;dbl&gt; | F &lt;dbl&gt; | Pr(&gt;F) &lt;dbl&gt; |\n",
       "|---|---|---|---|---|---|---|\n",
       "| 1 | 3051 | 1455936 | NA |       NA |       NA | NA |\n",
       "| 2 | 3053 | 3283990 | -2 | -1828053 | 1915.396 |  0 |\n",
       "\n"
      ],
      "text/plain": [
       "  Res.Df RSS     Df Sum of Sq F        Pr(>F)\n",
       "1 3051   1455936 NA       NA        NA NA    \n",
       "2 3053   3283990 -2 -1828053  1915.396  0    "
      ]
     },
     "metadata": {},
     "output_type": "display_data"
    }
   ],
   "source": [
    "anova(interaction_model_time, updated_model)"
   ]
  },
  {
   "cell_type": "markdown",
   "metadata": {},
   "source": [
    "##### AIC and BIC Comparison"
   ]
  },
  {
   "cell_type": "code",
   "execution_count": 27,
   "metadata": {
    "vscode": {
     "languageId": "r"
    }
   },
   "outputs": [
    {
     "name": "stdout",
     "output_type": "stream",
     "text": [
      "Original AIC: 27618.78 \n",
      "Original BIC: 27709.2 \n",
      "Updated AIC: 30107.88 \n",
      "Updated BIC: 30186.24 \n"
     ]
    }
   ],
   "source": [
    "AIC_original <- AIC(interaction_model_time)\n",
    "BIC_original <- BIC(interaction_model_time)\n",
    "AIC_updated <- AIC(updated_model)\n",
    "BIC_updated <- BIC(updated_model)\n",
    "\n",
    "cat(\"Original AIC:\", AIC_original, \"\\n\")\n",
    "cat(\"Original BIC:\", BIC_original, \"\\n\")\n",
    "cat(\"Updated AIC:\", AIC_updated, \"\\n\")\n",
    "cat(\"Updated BIC:\", BIC_updated, \"\\n\")"
   ]
  },
  {
   "cell_type": "markdown",
   "metadata": {},
   "source": [
    "##### Residual Plot"
   ]
  },
  {
   "cell_type": "code",
   "execution_count": 28,
   "metadata": {
    "vscode": {
     "languageId": "r"
    }
   },
   "outputs": [
    {
     "name": "stderr",
     "output_type": "stream",
     "text": [
      "\u001b[1m\u001b[22m`geom_smooth()` using formula = 'y ~ x'\n"
     ]
    },
    {
     "data": {
      "image/png": "[encoded data removed]",
      "text/plain": [
       "plot without title"
      ]
     },
     "metadata": {
      "image/png": {
       "height": 420,
       "width": 420
      }
     },
     "output_type": "display_data"
    }
   ],
   "source": [
    "ggplot(data.frame(Fitted = fitted(updated_model), Residuals = residuals(updated_model)), aes(x = Fitted, y = Residuals)) +\n",
    "  geom_point() +\n",
    "  geom_smooth(method = \"loess\", se = FALSE, color = \"red\") +\n",
    "  labs(x = \"Fitted Values\", y = \"Residuals\", title = \"Residuals vs Fitted Values\") +\n",
    "  theme_minimal()"
   ]
  },
  {
   "cell_type": "markdown",
   "metadata": {},
   "source": [
    "##### Q-Q Plot"
   ]
  },
  {
   "cell_type": "code",
   "execution_count": 29,
   "metadata": {
    "vscode": {
     "languageId": "r"
    }
   },
   "outputs": [
    {
     "data": {
      "image/png": "[encoded data removed]",
      "text/plain": [
       "Plot with title \"Normal Q-Q Plot\""
      ]
     },
     "metadata": {
      "image/png": {
       "height": 420,
       "width": 420
      }
     },
     "output_type": "display_data"
    }
   ],
   "source": [
    "# Q-Q Plot (to check for normality of residuals)\n",
    "qqnorm(residuals(updated_model))\n",
    "qqline(residuals(updated_model), col = \"red\")"
   ]
  },
  {
   "cell_type": "markdown",
   "metadata": {},
   "source": [
    ">**Dicussion of Changes:** \n",
    "While removing the ```EPAct_Time:Geothermal_Energy``` made sense when examining the lack of significance, this action clearly caused a decline in performance as indicated by:\n",
    "* Increased RSE\n",
    "* Decreased R^2\n",
    "* More unexplained variance (indicated by the F and p terms in teh ANOVA)\n",
    "* Increased AIC and BIC\n",
    "> However, the Q-Q Plot improved. This indicates that the value, does contribute to the precision, explained variance, and accuracy of the model, thus it will be added back in. "
   ]
  },
  {
   "cell_type": "markdown",
   "metadata": {},
   "source": [
    "##### Restore Model"
   ]
  },
  {
   "cell_type": "code",
   "execution_count": 30,
   "metadata": {
    "vscode": {
     "languageId": "r"
    }
   },
   "outputs": [],
   "source": [
    "restored_model <- lm(\n",
    "  Total_Renewable_Energy ~ Solar_Energy * EPAct_Time +\n",
    "    Wind_Energy * EPAct_Time +\n",
    "    Geothermal_Energy * EPAct_Time +\n",
    "    Hydroelectric_Power * EPAct_Time +\n",
    "    Biomass_Energy_Consumption * EPAct_Time +\n",
    "    Other_Biofuels * EPAct_Time,\n",
    "  data = data\n",
    ")"
   ]
  },
  {
   "cell_type": "markdown",
   "metadata": {},
   "source": [
    "#### 2. Removing Outliers"
   ]
  },
  {
   "cell_type": "code",
   "execution_count": 31,
   "metadata": {
    "vscode": {
     "languageId": "r"
    }
   },
   "outputs": [],
   "source": [
    "# Identify influential points (Cook's distance > 4/n)\n",
    "cooks_distances <- cooks.distance(restored_model)\n",
    "threshold <- 4 / nrow(data)\n",
    "\n",
    "# Flag high-influence points\n",
    "influential_points <- which(cooks_distances > threshold)\n",
    "\n",
    "# Create a cleaned dataset excluding influential points\n",
    "cleaned_data <- data[-influential_points, ]"
   ]
  },
  {
   "cell_type": "code",
   "execution_count": 32,
   "metadata": {
    "vscode": {
     "languageId": "r"
    }
   },
   "outputs": [],
   "source": [
    "cleaned_model <- lm(\n",
    "  Total_Renewable_Energy ~ Solar_Energy * EPAct_Time +\n",
    "    Wind_Energy * EPAct_Time +\n",
    "    Geothermal_Energy * EPAct_Time +\n",
    "    Hydroelectric_Power * EPAct_Time +\n",
    "    Biomass_Energy_Consumption * EPAct_Time +\n",
    "    Other_Biofuels * EPAct_Time,\n",
    "  data = cleaned_data\n",
    ")"
   ]
  },
  {
   "cell_type": "markdown",
   "metadata": {},
   "source": [
    "##### Summary"
   ]
  },
  {
   "cell_type": "code",
   "execution_count": 33,
   "metadata": {
    "vscode": {
     "languageId": "r"
    }
   },
   "outputs": [
    {
     "data": {
      "text/plain": [
       "\n",
       "Call:\n",
       "lm(formula = Total_Renewable_Energy ~ Solar_Energy * EPAct_Time + \n",
       "    Wind_Energy * EPAct_Time + Geothermal_Energy * EPAct_Time + \n",
       "    Hydroelectric_Power * EPAct_Time + Biomass_Energy_Consumption * \n",
       "    EPAct_Time + Other_Biofuels * EPAct_Time, data = cleaned_data)\n",
       "\n",
       "Residuals:\n",
       "    Min      1Q  Median      3Q     Max \n",
       "-64.505  -9.452  -0.608   7.649  72.585 \n",
       "\n",
       "Coefficients:\n",
       "                                        Estimate Std. Error t value Pr(>|t|)\n",
       "(Intercept)                           -2.394e+01  1.117e+00 -21.433  < 2e-16\n",
       "Solar_Energy                           5.692e+00  2.102e-01  27.082  < 2e-16\n",
       "EPAct_Time                            -1.594e-01  4.624e-03 -34.466  < 2e-16\n",
       "Wind_Energy                            1.489e+00  1.431e-01  10.401  < 2e-16\n",
       "Geothermal_Energy                      2.297e+01  4.969e-01  46.228  < 2e-16\n",
       "Hydroelectric_Power                    2.217e+01  2.376e+00   9.333  < 2e-16\n",
       "Biomass_Energy_Consumption             9.900e-01  1.330e-02  74.455  < 2e-16\n",
       "Other_Biofuels                        -9.277e+02  3.725e+01 -24.907  < 2e-16\n",
       "Solar_Energy:EPAct_Time               -1.796e-02  1.086e-03 -16.534  < 2e-16\n",
       "EPAct_Time:Wind_Energy                -3.022e-03  8.570e-04  -3.526 0.000428\n",
       "EPAct_Time:Geothermal_Energy          -6.974e-03  2.978e-03  -2.342 0.019249\n",
       "EPAct_Time:Hydroelectric_Power         5.616e-02  1.395e-02   4.027 5.78e-05\n",
       "EPAct_Time:Biomass_Energy_Consumption  7.930e-04  7.798e-05  10.170  < 2e-16\n",
       "EPAct_Time:Other_Biofuels              4.196e+00  1.881e-01  22.303  < 2e-16\n",
       "                                         \n",
       "(Intercept)                           ***\n",
       "Solar_Energy                          ***\n",
       "EPAct_Time                            ***\n",
       "Wind_Energy                           ***\n",
       "Geothermal_Energy                     ***\n",
       "Hydroelectric_Power                   ***\n",
       "Biomass_Energy_Consumption            ***\n",
       "Other_Biofuels                        ***\n",
       "Solar_Energy:EPAct_Time               ***\n",
       "EPAct_Time:Wind_Energy                ***\n",
       "EPAct_Time:Geothermal_Energy          *  \n",
       "EPAct_Time:Hydroelectric_Power        ***\n",
       "EPAct_Time:Biomass_Energy_Consumption ***\n",
       "EPAct_Time:Other_Biofuels             ***\n",
       "---\n",
       "Signif. codes:  0 '***' 0.001 '**' 0.01 '*' 0.05 '.' 0.1 ' ' 1\n",
       "\n",
       "Residual standard error: 20.17 on 2967 degrees of freedom\n",
       "Multiple R-squared:  0.9191,\tAdjusted R-squared:  0.9188 \n",
       "F-statistic:  2594 on 13 and 2967 DF,  p-value: < 2.2e-16\n"
      ]
     },
     "metadata": {},
     "output_type": "display_data"
    }
   ],
   "source": [
    "summary(cleaned_model)"
   ]
  },
  {
   "cell_type": "markdown",
   "metadata": {},
   "source": [
    "##### Residual Plot"
   ]
  },
  {
   "cell_type": "code",
   "execution_count": 34,
   "metadata": {
    "vscode": {
     "languageId": "r"
    }
   },
   "outputs": [
    {
     "name": "stderr",
     "output_type": "stream",
     "text": [
      "\u001b[1m\u001b[22m`geom_smooth()` using formula = 'y ~ x'\n"
     ]
    },
    {
     "data": {
      "image/png": "[encoded data removed]",
      "text/plain": [
       "plot without title"
      ]
     },
     "metadata": {
      "image/png": {
       "height": 420,
       "width": 420
      }
     },
     "output_type": "display_data"
    }
   ],
   "source": [
    "ggplot(data.frame(Fitted = fitted(cleaned_model), Residuals = residuals(cleaned_model)), aes(x = Fitted, y = Residuals)) +\n",
    "  geom_point() +\n",
    "  geom_smooth(method = \"loess\", se = FALSE, color = \"red\") +\n",
    "  labs(x = \"Fitted Values\", y = \"Residuals\", title = \"Residuals vs Fitted Values\") +\n",
    "  theme_minimal()"
   ]
  },
  {
   "cell_type": "markdown",
   "metadata": {},
   "source": [
    "##### Q-Q Plot"
   ]
  },
  {
   "cell_type": "code",
   "execution_count": 35,
   "metadata": {
    "vscode": {
     "languageId": "r"
    }
   },
   "outputs": [
    {
     "data": {
      "image/png": "[encoded data removed]",
      "text/plain": [
       "Plot with title \"Normal Q-Q Plot\""
      ]
     },
     "metadata": {
      "image/png": {
       "height": 420,
       "width": 420
      }
     },
     "output_type": "display_data"
    }
   ],
   "source": [
    "qqnorm(residuals(cleaned_model))\n",
    "qqline(residuals(cleaned_model), col = \"red\")"
   ]
  },
  {
   "cell_type": "markdown",
   "metadata": {},
   "source": [
    "##### Cook's Distance Plot"
   ]
  },
  {
   "cell_type": "code",
   "execution_count": 36,
   "metadata": {
    "vscode": {
     "languageId": "r"
    }
   },
   "outputs": [
    {
     "data": {
      "image/png": "[encoded data removed]",
      "text/plain": [
       "Plot with title \"Cook's Distance\""
      ]
     },
     "metadata": {
      "image/png": {
       "height": 420,
       "width": 420
      }
     },
     "output_type": "display_data"
    }
   ],
   "source": [
    "cooksd <- cooks.distance(cleaned_model)\n",
    "plot(cooksd, type = \"h\", main = \"Cook's Distance\", ylab = \"Cook's Distance\")\n",
    "abline(h = 4 / length(cooksd), col = \"red\")  # threshold for influential points"
   ]
  },
  {
   "cell_type": "markdown",
   "metadata": {},
   "source": [
    ">***Discussion of Impact:***\n",
    "The removal of outliers clearly improved the plot, as the residuals are better centered around zero, the Cook's distance graph is improved, and the R^2 value is increased slightly. "
   ]
  },
  {
   "cell_type": "markdown",
   "metadata": {},
   "source": [
    "#### 3. Addressing Multicollinearity"
   ]
  },
  {
   "cell_type": "code",
   "execution_count": 37,
   "metadata": {
    "vscode": {
     "languageId": "r"
    }
   },
   "outputs": [
    {
     "name": "stderr",
     "output_type": "stream",
     "text": [
      "there are higher-order terms (interactions) in this model\n",
      "consider setting type = 'predictor'; see ?vif\n",
      "\n"
     ]
    },
    {
     "name": "stdout",
     "output_type": "stream",
     "text": [
      "\n",
      "VIF for Cleaned Model:\n",
      "                         Solar_Energy                            EPAct_Time \n",
      "                                10.38                                  4.76 \n",
      "                          Wind_Energy                     Geothermal_Energy \n",
      "                                46.11                                  4.29 \n",
      "                  Hydroelectric_Power            Biomass_Energy_Consumption \n",
      "                                 5.70                                  5.31 \n",
      "                       Other_Biofuels               Solar_Energy:EPAct_Time \n",
      "                                70.45                                 10.43 \n",
      "               EPAct_Time:Wind_Energy          EPAct_Time:Geothermal_Energy \n",
      "                                50.65                                  4.40 \n",
      "       EPAct_Time:Hydroelectric_Power EPAct_Time:Biomass_Energy_Consumption \n",
      "                                 7.80                                  7.37 \n",
      "            EPAct_Time:Other_Biofuels \n",
      "                                67.18 \n"
     ]
    }
   ],
   "source": [
    "# Calculate VIF\n",
    "vif_cleaned <- vif(cleaned_model)\n",
    "cat(\"\\nVIF for Cleaned Model:\\n\")\n",
    "print(round(vif_cleaned,2))"
   ]
  },
  {
   "cell_type": "markdown",
   "metadata": {},
   "source": [
    "> The cleaned model clearly shows some multicollinearity problems, to address these, the model will be iteratively reduced and reassesed."
   ]
  },
  {
   "cell_type": "markdown",
   "metadata": {},
   "source": [
    "##### Other_Biofuels"
   ]
  },
  {
   "cell_type": "code",
   "execution_count": 38,
   "metadata": {
    "vscode": {
     "languageId": "r"
    }
   },
   "outputs": [
    {
     "name": "stderr",
     "output_type": "stream",
     "text": [
      "there are higher-order terms (interactions) in this model\n",
      "consider setting type = 'predictor'; see ?vif\n",
      "\n"
     ]
    },
    {
     "name": "stdout",
     "output_type": "stream",
     "text": [
      "\n",
      "VIF for Cleaned Model without Other_Biofuels:\n",
      "                         Solar_Energy                            EPAct_Time \n",
      "                                10.35                                  4.40 \n",
      "                          Wind_Energy                     Geothermal_Energy \n",
      "                                45.92                                  4.08 \n",
      "                  Hydroelectric_Power            Biomass_Energy_Consumption \n",
      "                                 5.24                                  5.27 \n",
      "              Solar_Energy:EPAct_Time                EPAct_Time:Wind_Energy \n",
      "                                10.36                                 50.53 \n",
      "         EPAct_Time:Geothermal_Energy        EPAct_Time:Hydroelectric_Power \n",
      "                                 4.23                                  6.90 \n",
      "EPAct_Time:Biomass_Energy_Consumption \n",
      "                                 7.04 \n"
     ]
    }
   ],
   "source": [
    "# Remove Other_Biofuels and its interaction\n",
    "reduced_model <- lm(\n",
    "                    Total_Renewable_Energy ~ Solar_Energy * EPAct_Time + \n",
    "                    Wind_Energy * EPAct_Time + \n",
    "                    Geothermal_Energy * EPAct_Time +\n",
    "                    Hydroelectric_Power * EPAct_Time + \n",
    "                    Biomass_Energy_Consumption * EPAct_Time,\n",
    "                    data = cleaned_data)\n",
    "\n",
    "\n",
    "vif_reduced <- vif(reduced_model)\n",
    "cat(\"\\nVIF for Cleaned Model without Other_Biofuels:\\n\")\n",
    "print(round(vif_reduced,2))\n"
   ]
  },
  {
   "cell_type": "code",
   "execution_count": 39,
   "metadata": {
    "vscode": {
     "languageId": "r"
    }
   },
   "outputs": [
    {
     "name": "stdout",
     "output_type": "stream",
     "text": [
      "\n",
      "R² with Other_Biofuels:"
     ]
    },
    {
     "data": {
      "text/html": [
       "0.919118926235761"
      ],
      "text/latex": [
       "0.919118926235761"
      ],
      "text/markdown": [
       "0.919118926235761"
      ],
      "text/plain": [
       "[1] 0.9191189"
      ]
     },
     "metadata": {},
     "output_type": "display_data"
    },
    {
     "name": "stdout",
     "output_type": "stream",
     "text": [
      "\n",
      "R² without Other_Biofuels:"
     ]
    },
    {
     "data": {
      "text/html": [
       "0.893437571721425"
      ],
      "text/latex": [
       "0.893437571721425"
      ],
      "text/markdown": [
       "0.893437571721425"
      ],
      "text/plain": [
       "[1] 0.8934376"
      ]
     },
     "metadata": {},
     "output_type": "display_data"
    },
    {
     "data": {
      "image/png": "[encoded data removed]",
      "text/plain": [
       "Plot with title \"\""
      ]
     },
     "metadata": {
      "image/png": {
       "height": 420,
       "width": 420
      }
     },
     "output_type": "display_data"
    }
   ],
   "source": [
    "# Model diagnostics\n",
    "par(mfrow = c(2, 2))  # Arrange plots\n",
    "plot(reduced_model)\n",
    "\n",
    "# Compare R-squared values\n",
    "cat(\"\\nR² with Other_Biofuels:\")\n",
    "summary(cleaned_model)$r.squared  # Before removal\n",
    "cat(\"\\nR² without Other_Biofuels:\")\n",
    "summary(reduced_model)$r.squared  # After removal"
   ]
  },
  {
   "cell_type": "markdown",
   "metadata": {},
   "source": [
    "##### Wind"
   ]
  },
  {
   "cell_type": "code",
   "execution_count": 40,
   "metadata": {
    "vscode": {
     "languageId": "r"
    }
   },
   "outputs": [
    {
     "name": "stderr",
     "output_type": "stream",
     "text": [
      "there are higher-order terms (interactions) in this model\n",
      "consider setting type = 'predictor'; see ?vif\n",
      "\n"
     ]
    },
    {
     "name": "stdout",
     "output_type": "stream",
     "text": [
      "\n",
      "VIF for Cleaned Model without Other_Biofuels & Wind:\n",
      "                         Solar_Energy                            EPAct_Time \n",
      "                                 9.44                                  3.57 \n",
      "                    Geothermal_Energy                   Hydroelectric_Power \n",
      "                                 1.99                                  5.15 \n",
      "           Biomass_Energy_Consumption               Solar_Energy:EPAct_Time \n",
      "                                 4.88                                  8.58 \n",
      "         EPAct_Time:Geothermal_Energy        EPAct_Time:Hydroelectric_Power \n",
      "                                 2.67                                  6.88 \n",
      "EPAct_Time:Biomass_Energy_Consumption \n",
      "                                 6.89 \n"
     ]
    }
   ],
   "source": [
    "# Remove Wind and its interaction\n",
    "reduced_model_2 <- lm(\n",
    "                    Total_Renewable_Energy ~ Solar_Energy * EPAct_Time + \n",
    "                    Geothermal_Energy * EPAct_Time +\n",
    "                    Hydroelectric_Power * EPAct_Time + \n",
    "                    Biomass_Energy_Consumption * EPAct_Time,\n",
    "                    data = cleaned_data)\n",
    "\n",
    "\n",
    "vif_reduced_2 <- vif(reduced_model_2)\n",
    "cat(\"\\nVIF for Cleaned Model without Other_Biofuels & Wind:\\n\")\n",
    "print(round(vif_reduced_2,2))"
   ]
  },
  {
   "cell_type": "code",
   "execution_count": 41,
   "metadata": {
    "vscode": {
     "languageId": "r"
    }
   },
   "outputs": [
    {
     "name": "stdout",
     "output_type": "stream",
     "text": [
      "\n",
      "R² with Wind:"
     ]
    },
    {
     "data": {
      "text/html": [
       "0.893437571721425"
      ],
      "text/latex": [
       "0.893437571721425"
      ],
      "text/markdown": [
       "0.893437571721425"
      ],
      "text/plain": [
       "[1] 0.8934376"
      ]
     },
     "metadata": {},
     "output_type": "display_data"
    },
    {
     "name": "stdout",
     "output_type": "stream",
     "text": [
      "\n",
      "R² without Wind:"
     ]
    },
    {
     "data": {
      "text/html": [
       "0.876249207034139"
      ],
      "text/latex": [
       "0.876249207034139"
      ],
      "text/markdown": [
       "0.876249207034139"
      ],
      "text/plain": [
       "[1] 0.8762492"
      ]
     },
     "metadata": {},
     "output_type": "display_data"
    },
    {
     "data": {
      "image/png": "[encoded data removed]",
      "text/plain": [
       "Plot with title \"\""
      ]
     },
     "metadata": {
      "image/png": {
       "height": 420,
       "width": 420
      }
     },
     "output_type": "display_data"
    }
   ],
   "source": [
    "# Model diagnostics\n",
    "par(mfrow = c(2, 2))  # Arrange plots\n",
    "plot(reduced_model_2)\n",
    "\n",
    "# Compare R-squared values\n",
    "cat(\"\\nR² with Wind:\")\n",
    "summary(reduced_model)$r.squared  # Before removal\n",
    "cat(\"\\nR² without Wind:\")\n",
    "summary(reduced_model_2)$r.squared  # After removal"
   ]
  },
  {
   "cell_type": "code",
   "execution_count": 42,
   "metadata": {
    "vscode": {
     "languageId": "r"
    }
   },
   "outputs": [
    {
     "name": "stdout",
     "output_type": "stream",
     "text": [
      "\u001b[90m# A tibble: 14 × 4\u001b[39m\n",
      "   term                              cleaned_model reduced_model reduced_model_2\n",
      "   \u001b[3m\u001b[90m<chr>\u001b[39m\u001b[23m                                     \u001b[3m\u001b[90m<dbl>\u001b[39m\u001b[23m         \u001b[3m\u001b[90m<dbl>\u001b[39m\u001b[23m           \u001b[3m\u001b[90m<dbl>\u001b[39m\u001b[23m\n",
      "\u001b[90m 1\u001b[39m (Intercept)                          -\u001b[31m23\u001b[39m\u001b[31m.\u001b[39m\u001b[31m9\u001b[39m         -\u001b[31m33\u001b[39m\u001b[31m.\u001b[39m\u001b[31m2\u001b[39m           -\u001b[31m44\u001b[39m\u001b[31m.\u001b[39m\u001b[31m4\u001b[39m     \n",
      "\u001b[90m 2\u001b[39m Biomass_Energy_Consumption             0.990         0.959           1.04    \n",
      "\u001b[90m 3\u001b[39m EPAct_Time                            -\u001b[31m0\u001b[39m\u001b[31m.\u001b[39m\u001b[31m159\u001b[39m        -\u001b[31m0\u001b[39m\u001b[31m.\u001b[39m\u001b[31m198\u001b[39m          -\u001b[31m0\u001b[39m\u001b[31m.\u001b[39m\u001b[31m242\u001b[39m   \n",
      "\u001b[90m 4\u001b[39m EPAct_Time:Biomass_Energy_Consum…      0.000\u001b[4m7\u001b[24m\u001b[4m9\u001b[24m\u001b[4m3\u001b[24m      0.000\u001b[4m3\u001b[24m\u001b[4m2\u001b[24m\u001b[4m1\u001b[24m        0.000\u001b[4m5\u001b[24m\u001b[4m6\u001b[24m\u001b[4m6\u001b[24m\n",
      "\u001b[90m 5\u001b[39m EPAct_Time:Geothermal_Energy          -\u001b[31m0\u001b[39m\u001b[31m.\u001b[39m\u001b[31m00\u001b[39m\u001b[31m6\u001b[4m9\u001b[24m\u001b[4m7\u001b[24m\u001b[39m       0.011\u001b[4m1\u001b[24m          0.037\u001b[4m7\u001b[24m  \n",
      "\u001b[90m 6\u001b[39m EPAct_Time:Hydroelectric_Power         0.056\u001b[4m2\u001b[24m        0.199           0.183   \n",
      "\u001b[90m 7\u001b[39m EPAct_Time:Other_Biofuels              4.20         \u001b[31mNA\u001b[39m              \u001b[31mNA\u001b[39m       \n",
      "\u001b[90m 8\u001b[39m EPAct_Time:Wind_Energy                -\u001b[31m0\u001b[39m\u001b[31m.\u001b[39m\u001b[31m00\u001b[39m\u001b[31m3\u001b[4m0\u001b[24m\u001b[4m2\u001b[24m\u001b[39m      -\u001b[31m0\u001b[39m\u001b[31m.\u001b[39m\u001b[31m00\u001b[39m\u001b[31m1\u001b[4m7\u001b[24m\u001b[4m4\u001b[24m\u001b[39m        \u001b[31mNA\u001b[39m       \n",
      "\u001b[90m 9\u001b[39m Geothermal_Energy                     23.0          26.3            31.4     \n",
      "\u001b[90m10\u001b[39m Hydroelectric_Power                   22.2          42.9            36.5     \n",
      "\u001b[90m11\u001b[39m Other_Biofuels                      -\u001b[31m928\u001b[39m\u001b[31m.\u001b[39m           \u001b[31mNA\u001b[39m              \u001b[31mNA\u001b[39m       \n",
      "\u001b[90m12\u001b[39m Solar_Energy                           5.69          6.06            7.05    \n",
      "\u001b[90m13\u001b[39m Solar_Energy:EPAct_Time               -\u001b[31m0\u001b[39m\u001b[31m.\u001b[39m\u001b[31m0\u001b[39m\u001b[31m18\u001b[4m0\u001b[24m\u001b[39m       -\u001b[31m0\u001b[39m\u001b[31m.\u001b[39m\u001b[31m0\u001b[39m\u001b[31m20\u001b[4m7\u001b[24m\u001b[39m         -\u001b[31m0\u001b[39m\u001b[31m.\u001b[39m\u001b[31m0\u001b[39m\u001b[31m19\u001b[4m9\u001b[24m\u001b[39m  \n",
      "\u001b[90m14\u001b[39m Wind_Energy                            1.49          1.20           \u001b[31mNA\u001b[39m       \n"
     ]
    }
   ],
   "source": [
    "# Extract coefficients from each model\n",
    "cleaned_model_coefs <- tidy(cleaned_model) %>% \n",
    "  dplyr::select(term, estimate) %>% \n",
    "  rename(cleaned_model = estimate)\n",
    "\n",
    "reduced_model_coefs <- tidy(reduced_model) %>% \n",
    "  dplyr::select(term, estimate) %>% \n",
    "  rename(reduced_model = estimate)\n",
    "\n",
    "reduced_model_2_coefs <- tidy(reduced_model_2) %>% \n",
    "  dplyr::select(term, estimate) %>% \n",
    "  rename(reduced_model_2 = estimate)\n",
    "\n",
    "# Combine the coefficients into one table for comparison\n",
    "coef_comparison <- cleaned_model_coefs %>%\n",
    "  full_join(reduced_model_coefs, by = \"term\") %>%\n",
    "  full_join(reduced_model_2_coefs, by = \"term\") %>%\n",
    "  arrange(term)\n",
    "\n",
    "# Print the coefficient comparison table\n",
    "print(coef_comparison)\n"
   ]
  },
  {
   "cell_type": "markdown",
   "metadata": {},
   "source": [
    "> Removing ```Other_Biofuels``` and ```Wind``` from the cleaned plot significantly improved multicollinearity and had a small negative impact on the R^2 value. This indicates that significant outliers were 'masking' some of the multicollinearity in earlier models. \n",
    ">Although removing predictors entirely can cause large shifts in the coefficients, these removals helped with collinearity without dramaticlly changing the coefficients or significance of other variables, thus they will be kept. \n",
    ">For this reason, the analysis will move forward with these factors removed. "
   ]
  },
  {
   "cell_type": "markdown",
   "metadata": {},
   "source": [
    "#### 4. Addressing Residual Distribution\n",
    "##### Baseline Metrics: "
   ]
  },
  {
   "cell_type": "code",
   "execution_count": 43,
   "metadata": {
    "vscode": {
     "languageId": "r"
    }
   },
   "outputs": [
    {
     "data": {
      "text/plain": [
       "\n",
       "Call:\n",
       "lm(formula = Total_Renewable_Energy ~ Solar_Energy * EPAct_Time + \n",
       "    Geothermal_Energy * EPAct_Time + Hydroelectric_Power * EPAct_Time + \n",
       "    Biomass_Energy_Consumption * EPAct_Time, data = cleaned_data)\n",
       "\n",
       "Residuals:\n",
       "    Min      1Q  Median      3Q     Max \n",
       "-71.522 -15.659   2.859  12.334  77.799 \n",
       "\n",
       "Coefficients:\n",
       "                                        Estimate Std. Error t value Pr(>|t|)\n",
       "(Intercept)                           -4.437e+01  1.184e+00 -37.483  < 2e-16\n",
       "Solar_Energy                           7.048e+00  2.477e-01  28.455  < 2e-16\n",
       "EPAct_Time                            -2.423e-01  4.952e-03 -48.937  < 2e-16\n",
       "Geothermal_Energy                      3.144e+01  4.184e-01  75.147  < 2e-16\n",
       "Hydroelectric_Power                    3.646e+01  2.792e+00  13.057  < 2e-16\n",
       "Biomass_Energy_Consumption             1.043e+00  1.575e-02  66.233  < 2e-16\n",
       "Solar_Energy:EPAct_Time               -1.989e-02  1.218e-03 -16.335  < 2e-16\n",
       "EPAct_Time:Geothermal_Energy           3.769e-02  2.864e-03  13.158  < 2e-16\n",
       "EPAct_Time:Hydroelectric_Power         1.830e-01  1.618e-02  11.312  < 2e-16\n",
       "EPAct_Time:Biomass_Energy_Consumption  5.660e-04  9.321e-05   6.073 1.42e-09\n",
       "                                         \n",
       "(Intercept)                           ***\n",
       "Solar_Energy                          ***\n",
       "EPAct_Time                            ***\n",
       "Geothermal_Energy                     ***\n",
       "Hydroelectric_Power                   ***\n",
       "Biomass_Energy_Consumption            ***\n",
       "Solar_Energy:EPAct_Time               ***\n",
       "EPAct_Time:Geothermal_Energy          ***\n",
       "EPAct_Time:Hydroelectric_Power        ***\n",
       "EPAct_Time:Biomass_Energy_Consumption ***\n",
       "---\n",
       "Signif. codes:  0 '***' 0.001 '**' 0.01 '*' 0.05 '.' 0.1 ' ' 1\n",
       "\n",
       "Residual standard error: 24.93 on 2971 degrees of freedom\n",
       "Multiple R-squared:  0.8762,\tAdjusted R-squared:  0.8759 \n",
       "F-statistic:  2337 on 9 and 2971 DF,  p-value: < 2.2e-16\n"
      ]
     },
     "metadata": {},
     "output_type": "display_data"
    },
    {
     "name": "stdout",
     "output_type": "stream",
     "text": [
      "Baseline Adjusted R²: 0.8758743 \n",
      "Baseline RSE: 24.93474 \n",
      "Baseline AIC: 27647.05 \n"
     ]
    }
   ],
   "source": [
    "# Summary and baseline metrics\n",
    "summary(reduced_model_2)\n",
    "\n",
    "# Extract Adjusted R² and Residual Standard Error\n",
    "adj_r2_baseline <- summary(reduced_model_2)$adj.r.squared\n",
    "rse_baseline <- summary(reduced_model_2)$sigma\n",
    "\n",
    "# AIC\n",
    "aic_baseline <- AIC(reduced_model_2)\n",
    "\n",
    "# Print baseline metrics\n",
    "cat(\"Baseline Adjusted R²:\", adj_r2_baseline, \"\\n\")\n",
    "cat(\"Baseline RSE:\", rse_baseline, \"\\n\")\n",
    "cat(\"Baseline AIC:\", aic_baseline, \"\\n\")"
   ]
  },
  {
   "cell_type": "code",
   "execution_count": 44,
   "metadata": {
    "vscode": {
     "languageId": "r"
    }
   },
   "outputs": [
    {
     "data": {
      "image/png": "[encoded data removed]",
      "text/plain": [
       "Plot with title \"\""
      ]
     },
     "metadata": {
      "image/png": {
       "height": 420,
       "width": 420
      }
     },
     "output_type": "display_data"
    }
   ],
   "source": [
    "# Diagnostic plots\n",
    "par(mfrow = c(2, 2))\n",
    "plot(reduced_model_2)"
   ]
  },
  {
   "cell_type": "code",
   "execution_count": 45,
   "metadata": {
    "vscode": {
     "languageId": "r"
    }
   },
   "outputs": [
    {
     "name": "stdout",
     "output_type": "stream",
     "text": [
      "Shapiro-Wilk p-value: 3.549679e-20 \n"
     ]
    },
    {
     "data": {
      "image/png": "[encoded data removed]",
      "text/plain": [
       "Plot with title \"Histogram of Residuals\""
      ]
     },
     "metadata": {
      "image/png": {
       "height": 420,
       "width": 420
      }
     },
     "output_type": "display_data"
    }
   ],
   "source": [
    "# Shapiro-Wilk test for normality\n",
    "shapiro_test <- shapiro.test(residuals(reduced_model_2))\n",
    "cat(\"Shapiro-Wilk p-value:\", shapiro_test$p.value, \"\\n\")\n",
    "\n",
    "# Histogram and density plot of residuals\n",
    "hist(residuals(reduced_model_2), breaks = 30, main = \"Histogram of Residuals\", xlab = \"Residuals\")\n",
    "lines(density(residuals(reduced_model_2)), col = \"blue\")"
   ]
  },
  {
   "cell_type": "code",
   "execution_count": 46,
   "metadata": {
    "vscode": {
     "languageId": "r"
    }
   },
   "outputs": [
    {
     "data": {
      "text/plain": [
       "\n",
       "\tstudentized Breusch-Pagan test\n",
       "\n",
       "data:  reduced_model_2\n",
       "BP = 518.31, df = 9, p-value < 2.2e-16\n"
      ]
     },
     "metadata": {},
     "output_type": "display_data"
    }
   ],
   "source": [
    "# Run the Breusch-Pagan test\n",
    "bp_test <- bptest(reduced_model_2)\n",
    "bp_test"
   ]
  },
  {
   "cell_type": "markdown",
   "metadata": {},
   "source": [
    "> While some of the initial metrics are promising, the Residual Plot, skewed Histogram of residuals, Shapiro Test, B-P test all point to a non-standard residual distribution. While many transformations were used to attempt to address this, WLS proved to be the most effective method. Thus this transformation process is shown below. "
   ]
  },
  {
   "cell_type": "markdown",
   "metadata": {},
   "source": [
    "#### Initial WLS Model"
   ]
  },
  {
   "cell_type": "code",
   "execution_count": 47,
   "metadata": {
    "vscode": {
     "languageId": "r"
    }
   },
   "outputs": [
    {
     "data": {
      "text/plain": [
       "\n",
       "Call:\n",
       "lm(formula = Total_Renewable_Energy ~ Solar_Energy * EPAct_Time + \n",
       "    Geothermal_Energy * EPAct_Time + Hydroelectric_Power * EPAct_Time + \n",
       "    Biomass_Energy_Consumption * EPAct_Time, data = cleaned_data, \n",
       "    weights = weights)\n",
       "\n",
       "Weighted Residuals:\n",
       "     Min       1Q   Median       3Q      Max \n",
       "-14.5223  -0.5255  -0.2103   0.3998  23.8207 \n",
       "\n",
       "Coefficients:\n",
       "                                        Estimate Std. Error t value Pr(>|t|)\n",
       "(Intercept)                           -14.484271   1.607222  -9.012  < 2e-16\n",
       "Solar_Energy                           13.808694   0.591532  23.344  < 2e-16\n",
       "EPAct_Time                             -0.086197   0.008455 -10.195  < 2e-16\n",
       "Geothermal_Energy                      18.402027   1.145386  16.066  < 2e-16\n",
       "Hydroelectric_Power                    42.899408   2.087277  20.553  < 2e-16\n",
       "Biomass_Energy_Consumption              0.338019   0.039448   8.569  < 2e-16\n",
       "Solar_Energy:EPAct_Time                -0.024108   0.002654  -9.083  < 2e-16\n",
       "EPAct_Time:Geothermal_Energy           -0.054795   0.002337 -23.449  < 2e-16\n",
       "EPAct_Time:Hydroelectric_Power         -0.837227   0.051946 -16.117  < 2e-16\n",
       "EPAct_Time:Biomass_Energy_Consumption   0.001489   0.000284   5.244 1.68e-07\n",
       "                                         \n",
       "(Intercept)                           ***\n",
       "Solar_Energy                          ***\n",
       "EPAct_Time                            ***\n",
       "Geothermal_Energy                     ***\n",
       "Hydroelectric_Power                   ***\n",
       "Biomass_Energy_Consumption            ***\n",
       "Solar_Energy:EPAct_Time               ***\n",
       "EPAct_Time:Geothermal_Energy          ***\n",
       "EPAct_Time:Hydroelectric_Power        ***\n",
       "EPAct_Time:Biomass_Energy_Consumption ***\n",
       "---\n",
       "Signif. codes:  0 '***' 0.001 '**' 0.01 '*' 0.05 '.' 0.1 ' ' 1\n",
       "\n",
       "Residual standard error: 1.754 on 2971 degrees of freedom\n",
       "Multiple R-squared:  0.9971,\tAdjusted R-squared:  0.9971 \n",
       "F-statistic: 1.153e+05 on 9 and 2971 DF,  p-value: < 2.2e-16\n"
      ]
     },
     "metadata": {},
     "output_type": "display_data"
    }
   ],
   "source": [
    "# Calculate weights based on residuals or fitted values\n",
    "weights <- 1 / (fitted(reduced_model_2))^2  # or based on other variables\n",
    "\n",
    "# Fit the model with weights\n",
    "wls_model <- lm(Total_Renewable_Energy ~ Solar_Energy * EPAct_Time + \n",
    "                Geothermal_Energy * EPAct_Time +\n",
    "                Hydroelectric_Power * EPAct_Time + \n",
    "                Biomass_Energy_Consumption * EPAct_Time,\n",
    "                data = cleaned_data, weights = weights)\n",
    "summary(wls_model)\n"
   ]
  },
  {
   "cell_type": "code",
   "execution_count": 48,
   "metadata": {
    "vscode": {
     "languageId": "r"
    }
   },
   "outputs": [
    {
     "name": "stdout",
     "output_type": "stream",
     "text": [
      "\n",
      "\tShapiro-Wilk normality test\n",
      "\n",
      "data:  wls_residuals\n",
      "W = 0.91899, p-value < 2.2e-16\n",
      "\n",
      "\n",
      "\tstudentized Breusch-Pagan test\n",
      "\n",
      "data:  model\n",
      "BP = 0.56219, df = 9, p-value = 0.9999\n",
      "\n"
     ]
    },
    {
     "data": {
      "image/png": "[encoded data removed]",
      "text/plain": [
       "Plot with title \"Scale-Location Plot\""
      ]
     },
     "metadata": {
      "image/png": {
       "height": 420,
       "width": 420
      }
     },
     "output_type": "display_data"
    }
   ],
   "source": [
    "# Residual Diagnostics on WLS Model\n",
    "model <- wls_model\n",
    "wls_residuals <- residuals(model)\n",
    "\n",
    "# Plotting Residuals\n",
    "par(mfrow = c(2, 2))  # 2x2 layout for multiple plots\n",
    "# 1. Residuals vs Fitted Values (check for homoscedasticity)\n",
    "plot(fitted(model), wls_residuals, \n",
    "     main = \"Residuals vs Fitted\", \n",
    "     xlab = \"Fitted Values\", \n",
    "     ylab = \"Residuals\")\n",
    "abline(h = 0, col = \"red\")\n",
    "\n",
    "# 2. Normal Q-Q plot (check for normality)\n",
    "qqnorm(wls_residuals, main = \"Q-Q Plot of Residuals\")\n",
    "qqline(wls_residuals, col = \"red\")\n",
    "\n",
    "# 3. Histogram of Residuals (check for distribution)\n",
    "hist(wls_residuals, main = \"Histogram of Residuals\", \n",
    "     xlab = \"Residuals\", col = \"lightblue\", border = \"black\")\n",
    "\n",
    "# 4. Scale-Location Plot (check for homoscedasticity)\n",
    "plot(fitted(model), sqrt(abs(wls_residuals)), \n",
    "     main = \"Scale-Location Plot\", \n",
    "     xlab = \"Fitted Values\", \n",
    "     ylab = \"Sqrt(|Residuals|)\")\n",
    "abline(h = 0, col = \"red\")\n",
    "\n",
    "# Shapiro-Wilk Test on residuals\n",
    "shapiro_test_wls <- shapiro.test(wls_residuals)\n",
    "print(shapiro_test_wls)\n",
    "\n",
    "# Breusch-Pagan test for heteroscedasticity\n",
    "bp_test_wls <- bptest(model)\n",
    "print(bp_test_wls)"
   ]
  },
  {
   "cell_type": "markdown",
   "metadata": {},
   "source": [
    "> The model has improved in its ability to explain variance, as the R² has gone up considerably. Furthermore, the transformation clearly addressed some of the residual problems as indicated by the high B-P test value. However, the residual plot now shows a clear downward trend, the Q-Q plot deviates more from the line, and the histogram shows a clear skew. Thus, another transformation to address these new residual errors is clearly needed. "
   ]
  },
  {
   "cell_type": "markdown",
   "metadata": {},
   "source": [
    "##### Adjusted WLS Model"
   ]
  },
  {
   "cell_type": "code",
   "execution_count": 49,
   "metadata": {
    "vscode": {
     "languageId": "r"
    }
   },
   "outputs": [
    {
     "data": {
      "text/plain": [
       "\n",
       "Call:\n",
       "lm(formula = Total_Renewable_Energy ~ Solar_Energy * EPAct_Time + \n",
       "    Geothermal_Energy * EPAct_Time + Hydroelectric_Power * EPAct_Time + \n",
       "    Biomass_Energy_Consumption * EPAct_Time, data = cleaned_data, \n",
       "    weights = weights)\n",
       "\n",
       "Weighted Residuals:\n",
       "   Min     1Q Median     3Q    Max \n",
       "-9.465 -3.822  1.316  3.142 15.702 \n",
       "\n",
       "Coefficients:\n",
       "                                        Estimate Std. Error t value Pr(>|t|)\n",
       "(Intercept)                           -4.319e+01  2.936e-01 -147.08   <2e-16\n",
       "Solar_Energy                           7.035e+00  6.105e-02  115.23   <2e-16\n",
       "EPAct_Time                            -2.347e-01  1.588e-03 -147.83   <2e-16\n",
       "Geothermal_Energy                      3.096e+01  1.370e-01  225.99   <2e-16\n",
       "Hydroelectric_Power                    2.722e+01  1.321e+00   20.60   <2e-16\n",
       "Biomass_Energy_Consumption             1.083e+00  6.616e-03  163.77   <2e-16\n",
       "Solar_Energy:EPAct_Time               -2.008e-02  3.380e-04  -59.40   <2e-16\n",
       "EPAct_Time:Geothermal_Energy           3.528e-02  1.044e-03   33.79   <2e-16\n",
       "EPAct_Time:Hydroelectric_Power         1.568e-01  5.293e-03   29.61   <2e-16\n",
       "EPAct_Time:Biomass_Energy_Consumption  6.119e-04  3.620e-05   16.90   <2e-16\n",
       "                                         \n",
       "(Intercept)                           ***\n",
       "Solar_Energy                          ***\n",
       "EPAct_Time                            ***\n",
       "Geothermal_Energy                     ***\n",
       "Hydroelectric_Power                   ***\n",
       "Biomass_Energy_Consumption            ***\n",
       "Solar_Energy:EPAct_Time               ***\n",
       "EPAct_Time:Geothermal_Energy          ***\n",
       "EPAct_Time:Hydroelectric_Power        ***\n",
       "EPAct_Time:Biomass_Energy_Consumption ***\n",
       "---\n",
       "Signif. codes:  0 '***' 0.001 '**' 0.01 '*' 0.05 '.' 0.1 ' ' 1\n",
       "\n",
       "Residual standard error: 4.282 on 2971 degrees of freedom\n",
       "Multiple R-squared:  0.991,\tAdjusted R-squared:  0.991 \n",
       "F-statistic: 3.648e+04 on 9 and 2971 DF,  p-value: < 2.2e-16\n"
      ]
     },
     "metadata": {},
     "output_type": "display_data"
    }
   ],
   "source": [
    "# Calculate weights based on the residuals from the original model (e.g., reduced_model_2)\n",
    "weights <- 1 / abs(residuals(reduced_model_2))  # or any other function of residuals\n",
    "\n",
    "# Refit the model with new weights\n",
    "wls_model_weighted <- lm(Total_Renewable_Energy ~ Solar_Energy * EPAct_Time + \n",
    "                         Geothermal_Energy * EPAct_Time +\n",
    "                         Hydroelectric_Power * EPAct_Time + \n",
    "                         Biomass_Energy_Consumption * EPAct_Time,\n",
    "                         data = cleaned_data, weights = weights)\n",
    "\n",
    "# Check the summary of the new model\n",
    "summary(wls_model_weighted)\n"
   ]
  },
  {
   "cell_type": "code",
   "execution_count": 50,
   "metadata": {
    "vscode": {
     "languageId": "r"
    }
   },
   "outputs": [
    {
     "name": "stdout",
     "output_type": "stream",
     "text": [
      "\n",
      "\tShapiro-Wilk normality test\n",
      "\n",
      "data:  wls_residuals\n",
      "W = 0.97086, p-value < 2.2e-16\n",
      "\n",
      "\n",
      "\tstudentized Breusch-Pagan test\n",
      "\n",
      "data:  model\n",
      "BP = 2.9439, df = 9, p-value = 0.9665\n",
      "\n"
     ]
    },
    {
     "data": {
      "image/png": "[encoded data removed]",
      "text/plain": [
       "Plot with title \"Scale-Location Plot\""
      ]
     },
     "metadata": {
      "image/png": {
       "height": 420,
       "width": 420
      }
     },
     "output_type": "display_data"
    }
   ],
   "source": [
    "# Residual Diagnostics on WLS Model\n",
    "model <- wls_model_weighted\n",
    "wls_residuals <- residuals(model)\n",
    "\n",
    "# Plotting Residuals\n",
    "par(mfrow = c(2, 2))  # 2x2 layout for multiple plots\n",
    "# 1. Residuals vs Fitted Values (check for homoscedasticity)\n",
    "plot(fitted(model), wls_residuals, \n",
    "     main = \"Residuals vs Fitted\", \n",
    "     xlab = \"Fitted Values\", \n",
    "     ylab = \"Residuals\")\n",
    "abline(h = 0, col = \"red\")\n",
    "\n",
    "# 2. Normal Q-Q plot (check for normality)\n",
    "qqnorm(wls_residuals, main = \"Q-Q Plot of Residuals\")\n",
    "qqline(wls_residuals, col = \"red\")\n",
    "\n",
    "# 3. Histogram of Residuals (check for distribution)\n",
    "hist(wls_residuals, main = \"Histogram of Residuals\", \n",
    "     xlab = \"Residuals\", col = \"lightblue\", border = \"black\")\n",
    "\n",
    "# 4. Scale-Location Plot (check for homoscedasticity)\n",
    "plot(fitted(model), sqrt(abs(wls_residuals)), \n",
    "     main = \"Scale-Location Plot\", \n",
    "     xlab = \"Fitted Values\", \n",
    "     ylab = \"Sqrt(|Residuals|)\")\n",
    "abline(h = 0, col = \"red\")\n",
    "\n",
    "# Shapiro-Wilk Test on residuals\n",
    "shapiro_test_wls <- shapiro.test(wls_residuals)\n",
    "print(shapiro_test_wls)\n",
    "\n",
    "# Breusch-Pagan test for heteroscedasticity\n",
    "bp_test_wls <- bptest(model)\n",
    "print(bp_test_wls)"
   ]
  },
  {
   "cell_type": "markdown",
   "metadata": {},
   "source": [
    "> This model has more evenly distributed residuals while maintaining a relatively high R². The Shapiro p-value is still too low, however, this may be due to the larger dataset size. "
   ]
  },
  {
   "cell_type": "markdown",
   "metadata": {},
   "source": [
    "#### 5. Summary of Process:\n",
    "1. Examined the significance of ```EPAct_Time:Geothermal_Energy``` in the model and chose to keep this model due to model deterioration upon removal. \n",
    "2. Identified and removed outlier terms. \n",
    "3. Addressed the collinearity in the cleaned model by removing ```Other_Biofuels``` and ```Wind```, examing the impact of the model at each stage. \n",
    "4. Addressed the non-standard residual distribution by examining the baseline, and deploying WLS in two stages. \n",
    "\n",
    "(Not show...tried many many many other methods that did not work)\n",
    "\n",
    "#### 6. Final Model Equation\n",
    "\n",
    "##### Equation: \n",
    "$$Y = \\beta_0 + \\beta_1 X_1 + \\beta_2 X_3 + \\beta_3 X_4 + \\beta_4 X_5 + \\beta_5 (X_1 \\times X_8) + \\beta_6 (X_3 \\times X_8) + \\beta_7 (X_4 \\times X_8) + \\beta_8 (X_5 \\times X_8)\\\\\n",
    "\\\\\n",
    "\\text{Where: }\\\\\n",
    "X_1 = \\text{Solar Energy} \\\\\n",
    "X_3 = \\text{Geothermal Energy} \\\\\n",
    "X_4 = \\text{Hydroelectric Power} \\\\\n",
    "X_5 = \\text{Biomass Energy Consumption} \\\\\n",
    "X_8 = \\text{EPAct Time}\\\\\n",
    "\\text(And: )\\\\\n",
    "\\beta_0 = \\text{Intercept} \\\\\n",
    "\\beta_1 = \\text{Coefficient for Solar Energy} \\\\\n",
    "\\beta_2 = \\text{Coefficient for Geothermal Energy} \\\\\n",
    "\\beta_3 = \\text{Coefficient for Hydroelectric Power} \\\\\n",
    "\\beta_4 = \\text{Coefficient for Biomass Energy Consumption} \\\\\n",
    "\\beta_5 = \\text{Coefficient for Solar Energy * EPAct Time interaction} \\\\\n",
    "\\beta_6 = \\text{Coefficient for Geothermal Energy * EPAct Time interaction} \\\\\n",
    "\\beta_7 = \\text{Coefficient for Hydroelectric Power * EPAct Time interaction} \\\\\n",
    "\\beta_8 = \\text{Coefficient for Biomass Energy Consumption * EPAct Time interaction}\n",
    "\n",
    "\n"
   ]
  },
  {
   "cell_type": "markdown",
   "metadata": {},
   "source": [
    "##### Coefficients: "
   ]
  },
  {
   "cell_type": "code",
   "execution_count": 51,
   "metadata": {
    "vscode": {
     "languageId": "r"
    }
   },
   "outputs": [
    {
     "name": "stdout",
     "output_type": "stream",
     "text": [
      "\u001b[90m# A tibble: 10 × 2\u001b[39m\n",
      "   Feature                               Coefficient\n",
      "   \u001b[3m\u001b[90m<chr>\u001b[39m\u001b[23m                                       \u001b[3m\u001b[90m<dbl>\u001b[39m\u001b[23m\n",
      "\u001b[90m 1\u001b[39m (Intercept)                              -\u001b[31m43\u001b[39m\u001b[31m.\u001b[39m\u001b[31m2\u001b[39m   \n",
      "\u001b[90m 2\u001b[39m Solar_Energy                               7.03  \n",
      "\u001b[90m 3\u001b[39m EPAct_Time                                -\u001b[31m0\u001b[39m\u001b[31m.\u001b[39m\u001b[31m235\u001b[39m \n",
      "\u001b[90m 4\u001b[39m Geothermal_Energy                         31.0   \n",
      "\u001b[90m 5\u001b[39m Hydroelectric_Power                       27.2   \n",
      "\u001b[90m 6\u001b[39m Biomass_Energy_Consumption                 1.08  \n",
      "\u001b[90m 7\u001b[39m Solar_Energy:EPAct_Time                   -\u001b[31m0\u001b[39m\u001b[31m.\u001b[39m\u001b[31m0\u001b[39m\u001b[31m20\u001b[4m1\u001b[24m\u001b[39m\n",
      "\u001b[90m 8\u001b[39m EPAct_Time:Geothermal_Energy               0.035\u001b[4m3\u001b[24m\n",
      "\u001b[90m 9\u001b[39m EPAct_Time:Hydroelectric_Power             0.157 \n",
      "\u001b[90m10\u001b[39m EPAct_Time:Biomass_Energy_Consumption      0.000\u001b[4m6\u001b[24m\n"
     ]
    },
    {
     "data": {
      "text/html": [
       "<span style=white-space:pre-wrap>'Total Renewable Energy =  -43.1888  +  7.0345 * Solar Energy +  -0.2347 * EPAct Time +  30.9625 * Geothermal Energy +  27.2196 * Hydroelectric Power +  1.0835 * Biomass Energy Consumption +  -0.0201 * Solar Energy:EPAct Time +  0.0353 * EPAct Time:Geothermal Energy +  0.1568 * EPAct Time:Hydroelectric Power +  6e-04 * EPAct Time:Biomass Energy Consumption'</span>"
      ],
      "text/latex": [
       "'Total Renewable Energy =  -43.1888  +  7.0345 * Solar Energy +  -0.2347 * EPAct Time +  30.9625 * Geothermal Energy +  27.2196 * Hydroelectric Power +  1.0835 * Biomass Energy Consumption +  -0.0201 * Solar Energy:EPAct Time +  0.0353 * EPAct Time:Geothermal Energy +  0.1568 * EPAct Time:Hydroelectric Power +  6e-04 * EPAct Time:Biomass Energy Consumption'"
      ],
      "text/markdown": [
       "<span style=white-space:pre-wrap>'Total Renewable Energy =  -43.1888  +  7.0345 * Solar Energy +  -0.2347 * EPAct Time +  30.9625 * Geothermal Energy +  27.2196 * Hydroelectric Power +  1.0835 * Biomass Energy Consumption +  -0.0201 * Solar Energy:EPAct Time +  0.0353 * EPAct Time:Geothermal Energy +  0.1568 * EPAct Time:Hydroelectric Power +  6e-04 * EPAct Time:Biomass Energy Consumption'</span>"
      ],
      "text/plain": [
       "[1] \"Total Renewable Energy =  -43.1888  +  7.0345 * Solar Energy +  -0.2347 * EPAct Time +  30.9625 * Geothermal Energy +  27.2196 * Hydroelectric Power +  1.0835 * Biomass Energy Consumption +  -0.0201 * Solar Energy:EPAct Time +  0.0353 * EPAct Time:Geothermal Energy +  0.1568 * EPAct Time:Hydroelectric Power +  6e-04 * EPAct Time:Biomass Energy Consumption\""
      ]
     },
     "metadata": {},
     "output_type": "display_data"
    }
   ],
   "source": [
    "# Extracting the coefficients of the final model\n",
    "coefficients <- coef(wls_model_weighted)\n",
    "\n",
    "# Create a neat tibble to display the coefficients\n",
    "coeff_table <- tibble(\n",
    "  Feature = names(coefficients),\n",
    "  Coefficient = round(coefficients, 4)\n",
    ")\n",
    "\n",
    "# Print the cleaned coefficient table\n",
    "print(coeff_table)\n",
    "\n",
    "# Constructing the equation\n",
    "equation <- paste(\"Total Renewable Energy = \",\n",
    "                  round(coefficients[\"(Intercept)\"], 4),\n",
    "                  \" + \",\n",
    "                  round(coefficients[\"Solar_Energy\"], 4), \"* Solar Energy + \",\n",
    "                  round(coefficients[\"EPAct_Time\"], 4), \"* EPAct Time + \",\n",
    "                  round(coefficients[\"Geothermal_Energy\"], 4), \"* Geothermal Energy + \",\n",
    "                  round(coefficients[\"Hydroelectric_Power\"], 4), \"* Hydroelectric Power + \",\n",
    "                  round(coefficients[\"Biomass_Energy_Consumption\"], 4), \"* Biomass Energy Consumption + \",\n",
    "                  round(coefficients[\"Solar_Energy:EPAct_Time\"], 4), \"* Solar Energy:EPAct Time + \",\n",
    "                  round(coefficients[\"EPAct_Time:Geothermal_Energy\"], 4), \"* EPAct Time:Geothermal Energy + \",\n",
    "                  round(coefficients[\"EPAct_Time:Hydroelectric_Power\"], 4), \"* EPAct Time:Hydroelectric Power + \",\n",
    "                  round(coefficients[\"EPAct_Time:Biomass_Energy_Consumption\"], 4), \"* EPAct Time:Biomass Energy Consumption\")\n",
    "equation\n"
   ]
  },
  {
   "cell_type": "markdown",
   "metadata": {},
   "source": [
    "### Model Evaluation\n",
    "\n",
    "**Evaluations:**\n",
    "1. Significance Test\n",
    "2. Model Performance Metrics\n",
    "3. Model Validation (k-folds)\n",
    "\n",
    "#### 1. Significance Tests\n",
    "\n",
    "**Null Hypothesis (H0):**  \n",
    "The coefficients of the interaction terms (EPAct_Time:Energy_Type) are equal to 0.  \n",
    "$\n",
    "H_0: \\beta_{\\text{EPAct\\_Time:Energy\\_Type}} = 0 \\quad \\text{for all interaction terms}\n",
    "$\n",
    "\n",
    "**Alternative Hypothesis (H1):**  \n",
    "At least one of the interaction terms' coefficients is significantly different from 0.  \n",
    "$\n",
    "H_1: \\exists \\, \\beta_{\\text{EPAct\\_Time:Energy\\_Type}} \\neq 0\n",
    "$\n"
   ]
  },
  {
   "cell_type": "code",
   "execution_count": 52,
   "metadata": {
    "vscode": {
     "languageId": "r"
    }
   },
   "outputs": [
    {
     "data": {
      "text/plain": [
       "\n",
       "Call:\n",
       "lm(formula = Total_Renewable_Energy ~ Solar_Energy * EPAct_Time + \n",
       "    Geothermal_Energy * EPAct_Time + Hydroelectric_Power * EPAct_Time + \n",
       "    Biomass_Energy_Consumption * EPAct_Time, data = cleaned_data, \n",
       "    weights = weights)\n",
       "\n",
       "Weighted Residuals:\n",
       "   Min     1Q Median     3Q    Max \n",
       "-9.465 -3.822  1.316  3.142 15.702 \n",
       "\n",
       "Coefficients:\n",
       "                                        Estimate Std. Error t value Pr(>|t|)\n",
       "(Intercept)                           -4.319e+01  2.936e-01 -147.08   <2e-16\n",
       "Solar_Energy                           7.035e+00  6.105e-02  115.23   <2e-16\n",
       "EPAct_Time                            -2.347e-01  1.588e-03 -147.83   <2e-16\n",
       "Geothermal_Energy                      3.096e+01  1.370e-01  225.99   <2e-16\n",
       "Hydroelectric_Power                    2.722e+01  1.321e+00   20.60   <2e-16\n",
       "Biomass_Energy_Consumption             1.083e+00  6.616e-03  163.77   <2e-16\n",
       "Solar_Energy:EPAct_Time               -2.008e-02  3.380e-04  -59.40   <2e-16\n",
       "EPAct_Time:Geothermal_Energy           3.528e-02  1.044e-03   33.79   <2e-16\n",
       "EPAct_Time:Hydroelectric_Power         1.568e-01  5.293e-03   29.61   <2e-16\n",
       "EPAct_Time:Biomass_Energy_Consumption  6.119e-04  3.620e-05   16.90   <2e-16\n",
       "                                         \n",
       "(Intercept)                           ***\n",
       "Solar_Energy                          ***\n",
       "EPAct_Time                            ***\n",
       "Geothermal_Energy                     ***\n",
       "Hydroelectric_Power                   ***\n",
       "Biomass_Energy_Consumption            ***\n",
       "Solar_Energy:EPAct_Time               ***\n",
       "EPAct_Time:Geothermal_Energy          ***\n",
       "EPAct_Time:Hydroelectric_Power        ***\n",
       "EPAct_Time:Biomass_Energy_Consumption ***\n",
       "---\n",
       "Signif. codes:  0 '***' 0.001 '**' 0.01 '*' 0.05 '.' 0.1 ' ' 1\n",
       "\n",
       "Residual standard error: 4.282 on 2971 degrees of freedom\n",
       "Multiple R-squared:  0.991,\tAdjusted R-squared:  0.991 \n",
       "F-statistic: 3.648e+04 on 9 and 2971 DF,  p-value: < 2.2e-16\n"
      ]
     },
     "metadata": {},
     "output_type": "display_data"
    }
   ],
   "source": [
    "# Perform significance tests on the interaction terms\n",
    "summary(wls_model_weighted)\n",
    "\n",
    "# Extract p-values for the interaction terms\n",
    "interaction_terms <- c(\"Solar_Energy:EPAct_Time\", \"Geothermal_Energy:EPAct_Time\", \n",
    "                       \"Hydroelectric_Power:EPAct_Time\", \"Biomass_Energy_Consumption:EPAct_Time\")\n"
   ]
  },
  {
   "cell_type": "markdown",
   "metadata": {},
   "source": [
    "##### Conclusion\n",
    "\n",
    "The model results indicate that the independent variables, including both individual energy sources and their interactions with the implementation of the Energy Policy Act (EPAct), have a significant impact on total renewable energy consumption. The key findings are:\n",
    "\n",
    "- **Solar Energy** and **EPAct Time** both have significant positive and negative coefficients, respectively, with p-values well below 0.05, suggesting that they play important roles in explaining the variation in renewable energy consumption.\n",
    "  \n",
    "- **Geothermal Energy** and **Hydroelectric Power** show large positive effects, with coefficients of 30.96 and 27.22, respectively, indicating that these energy sources contribute significantly to renewable energy consumption.\n",
    "\n",
    "- **Biomass Energy Consumption** also has a positive effect, though less pronounced, with a coefficient of 1.08.\n",
    "\n",
    "- The **interaction terms** (e.g., Solar Energy:EPAct Time and EPAct Time with Geothermal, Hydroelectric, and Biomass Energy) are highly significant, with p-values close to 0, suggesting that the effect of EPAct on renewable energy consumption depends on the specific energy source. \n",
    "\n",
    "In summary, the results support the hypothesis that EPAct has a significant influence on renewable energy consumption, and this effect varies depending on the type of energy being considered.\n"
   ]
  },
  {
   "cell_type": "markdown",
   "metadata": {},
   "source": [
    "#### 2. Model Performance Metrics"
   ]
  },
  {
   "cell_type": "code",
   "execution_count": 53,
   "metadata": {
    "vscode": {
     "languageId": "r"
    }
   },
   "outputs": [
    {
     "data": {
      "text/html": [
       "<dl>\n",
       "\t<dt>$R_squared</dt>\n",
       "\t\t<dd>0.99103096069536</dd>\n",
       "\t<dt>$Adjusted_R_squared</dt>\n",
       "\t\t<dd>0.991003790936443</dd>\n",
       "\t<dt>$Residual_Standard_Error</dt>\n",
       "\t\t<dd>4.28215503573088</dd>\n",
       "\t<dt>$F_statistic</dt>\n",
       "\t\t<dd><strong>value:</strong> 36475.5154335656</dd>\n",
       "\t<dt>$p_value_F</dt>\n",
       "\t\t<dd><strong>value:</strong> 0</dd>\n",
       "</dl>\n"
      ],
      "text/latex": [
       "\\begin{description}\n",
       "\\item[\\$R\\_squared] 0.99103096069536\n",
       "\\item[\\$Adjusted\\_R\\_squared] 0.991003790936443\n",
       "\\item[\\$Residual\\_Standard\\_Error] 4.28215503573088\n",
       "\\item[\\$F\\_statistic] \\textbf{value:} 36475.5154335656\n",
       "\\item[\\$p\\_value\\_F] \\textbf{value:} 0\n",
       "\\end{description}\n"
      ],
      "text/markdown": [
       "$R_squared\n",
       ":   0.99103096069536\n",
       "$Adjusted_R_squared\n",
       ":   0.991003790936443\n",
       "$Residual_Standard_Error\n",
       ":   4.28215503573088\n",
       "$F_statistic\n",
       ":   **value:** 36475.5154335656\n",
       "$p_value_F\n",
       ":   **value:** 0\n",
       "\n",
       "\n"
      ],
      "text/plain": [
       "$R_squared\n",
       "[1] 0.991031\n",
       "\n",
       "$Adjusted_R_squared\n",
       "[1] 0.9910038\n",
       "\n",
       "$Residual_Standard_Error\n",
       "[1] 4.282155\n",
       "\n",
       "$F_statistic\n",
       "   value \n",
       "36475.52 \n",
       "\n",
       "$p_value_F\n",
       "value \n",
       "    0 \n"
      ]
     },
     "metadata": {},
     "output_type": "display_data"
    },
    {
     "data": {
      "text/html": [
       "<dl>\n",
       "\t<dt>$RMSE</dt>\n",
       "\t\t<dd>25.01649329239</dd>\n",
       "\t<dt>$MAE</dt>\n",
       "\t\t<dd>18.2953684791419</dd>\n",
       "</dl>\n"
      ],
      "text/latex": [
       "\\begin{description}\n",
       "\\item[\\$RMSE] 25.01649329239\n",
       "\\item[\\$MAE] 18.2953684791419\n",
       "\\end{description}\n"
      ],
      "text/markdown": [
       "$RMSE\n",
       ":   25.01649329239\n",
       "$MAE\n",
       ":   18.2953684791419\n",
       "\n",
       "\n"
      ],
      "text/plain": [
       "$RMSE\n",
       "[1] 25.01649\n",
       "\n",
       "$MAE\n",
       "[1] 18.29537\n"
      ]
     },
     "metadata": {},
     "output_type": "display_data"
    }
   ],
   "source": [
    "# Model Performance Metrics\n",
    "performance_metrics <- list(\n",
    "  R_squared = summary(wls_model_weighted)$r.squared,\n",
    "  Adjusted_R_squared = summary(wls_model_weighted)$adj.r.squared,\n",
    "  Residual_Standard_Error = summary(wls_model_weighted)$sigma,\n",
    "  F_statistic = summary(wls_model_weighted)$fstatistic[1],\n",
    "  p_value_F = pf(summary(wls_model_weighted)$fstatistic[1],\n",
    "                 summary(wls_model_weighted)$fstatistic[2],\n",
    "                 summary(wls_model_weighted)$fstatistic[3],\n",
    "                 lower.tail = FALSE)\n",
    ")\n",
    "\n",
    "# Calculate RMSE and MAE\n",
    "predictions <- predict(wls_model_weighted)\n",
    "residuals <- cleaned_data$Total_Renewable_Energy - predictions\n",
    "\n",
    "RMSE <- sqrt(mean(residuals^2))\n",
    "MAE <- mean(abs(residuals))\n",
    "\n",
    "# Print performance metrics\n",
    "performance_metrics\n",
    "# Print RMSE and MAE\n",
    "list(RMSE = RMSE, MAE = MAE)\n"
   ]
  },
  {
   "cell_type": "markdown",
   "metadata": {},
   "source": [
    "> Observations: The model demonstrates excellent fit and predictive accuracy:\n",
    "\n",
    "- **R-squared** of 0.991 indicates that approximately 99.1% of the variability in renewable energy consumption is explained by the model.\n",
    "- The **Adjusted R-squared** (0.991) confirms that the model remains robust even after accounting for the number of predictors.\n",
    "- The **Residual Standard Error** (4.28) is relatively low, suggesting that the model's predictions are close to the actual values.\n",
    "- The **F-statistic** is very high (36475.52), and the corresponding **p-value** is 0, indicating that the model is statistically significant.\n",
    "- **RMSE** (25.02) and **MAE** (18.30) are reasonably low, demonstrating good model accuracy and predictive performance."
   ]
  },
  {
   "cell_type": "markdown",
   "metadata": {},
   "source": [
    "#### 3. Model Validation (k-folds)"
   ]
  },
  {
   "cell_type": "code",
   "execution_count": 54,
   "metadata": {
    "vscode": {
     "languageId": "r"
    }
   },
   "outputs": [
    {
     "name": "stdout",
     "output_type": "stream",
     "text": [
      "Linear Regression \n",
      "\n",
      "2981 samples\n",
      "   5 predictor\n",
      "\n",
      "No pre-processing\n",
      "Resampling: Cross-Validated (10 fold) \n",
      "Summary of sample sizes: 2682, 2682, 2684, 2685, 2683, 2683, ... \n",
      "Resampling results:\n",
      "\n",
      "  RMSE      Rsquared   MAE    \n",
      "  24.93519  0.8756194  18.8875\n",
      "\n",
      "Tuning parameter 'intercept' was held constant at a value of TRUE\n",
      "  intercept     RMSE  Rsquared     MAE   RMSESD RsquaredSD     MAESD\n",
      "1      TRUE 24.93519 0.8756194 18.8875 1.199327 0.01503167 0.8684698\n"
     ]
    }
   ],
   "source": [
    "# Set the number of folds for cross-validation\n",
    "k <- 10  # Number of folds\n",
    "\n",
    "# Create a trainControl object for k-fold cross-validation\n",
    "train_control <- trainControl(method = \"cv\", number = k)\n",
    "\n",
    "# Define the formula for the model\n",
    "formula <- Total_Renewable_Energy ~ Solar_Energy * EPAct_Time + \n",
    "           Geothermal_Energy * EPAct_Time +\n",
    "           Hydroelectric_Power * EPAct_Time + \n",
    "           Biomass_Energy_Consumption * EPAct_Time\n",
    "\n",
    "# Fit the model using k-fold cross-validation\n",
    "cv_model <- train(formula, \n",
    "                  data = cleaned_data, \n",
    "                  method = \"lm\", \n",
    "                  trControl = train_control)\n",
    "\n",
    "# Display the results of cross-validation\n",
    "print(cv_model)\n",
    "\n",
    "# Extract model performance metrics from cross-validation\n",
    "cv_results <- cv_model$results\n",
    "print(cv_results)"
   ]
  },
  {
   "cell_type": "markdown",
   "metadata": {},
   "source": [
    "> Observations: The results from 10-fold cross-validation validate the model’s predictive accuracy and generalizability:\n",
    "\n",
    "- **RMSE** of 24.96 indicates that, on average, the model’s predictions are off by about 25 units, which is reasonable for this context.\n",
    "- **R-squared** of 0.876 suggests that 87.6% of the variance in renewable energy consumption is explained by the model, demonstrating strong explanatory power.\n",
    "- **MAE** of 18.90 shows that the model's predictions are within an average of 19 units of the actual values, reinforcing its predictive reliability.\n",
    "\n",
    "The consistent performance across folds, as shown by the small **RMSESD** (1.02), **RsquaredSD** (0.013), and **MAESD** (0.82), highlights the model's stability and robustness in predicting renewable energy consumption. Overall, the model is well-validated, with solid accuracy and low variability.\n",
    "\n"
   ]
  },
  {
   "cell_type": "markdown",
   "metadata": {},
   "source": [
    "### Summary of Findings\n",
    "\n",
    "The research set out to answer the question: \n",
    "> The Energy Policy Act of 2005 (EPAct) included legislation intended to promote the use of solar, wind, geothermal, hydroelectric, biomass, and biofuel energy consumption. Can the changes in renewable energy consumption after the implementation of EPAct be explained by the individual contributions of solar, wind, geothermal, hydroelectric, biomass, and biofuel consumption?\n",
    "\n",
    "To answer the question, a model was built and the following hypothesis test was conducted:  \n",
    "$\n",
    "H_0: \\beta_{\\text{EPAct\\_Time:Energy\\_Type}} = 0 \\quad \\text{for all interaction terms} \\newline\n",
    "$ \n",
    "$\n",
    "H_1: \\exists \\, \\beta_{\\text{EPAct\\_Time:Energy\\_Type}} \\neq 0\n",
    "$\n",
    "\n",
    "The final model sufficiently explained the variance with an R^2 of 0.991. Furthermore, the high Breusch-Pagan p-value indicates that the variance of the error trm is consistent. Althouh the RMSE and MAE values are higer, the range of data is fairly wide [0,308.175] and the variance is explained, as indicate by the R^2. Thus this is appropriate at least for an exploratory study. \n",
    "\n",
    "Given the output of the hypthesis test, the null hypothesis can be rejected as the interaction terms between the EPAct_Time variable and Solar_Energy, Geothermal_Energy,Hydroelectric_Power, and Biomass_Energy_Consumption were found to be significant. Thus their is significant evidence that teh introduction of EPAct increased renewable energy consumpion. "
   ]
  }
 ],
 "metadata": {
  "kernelspec": {
   "display_name": "R",
   "language": "R",
   "name": "ir"
  },
  "language_info": {
   "codemirror_mode": "r",
   "file_extension": ".r",
   "mimetype": "text/x-r-source",
   "name": "R",
   "pygments_lexer": "r",
   "version": "4.4.1"
  }
 },
 "nbformat": 4,
 "nbformat_minor": 2
}
