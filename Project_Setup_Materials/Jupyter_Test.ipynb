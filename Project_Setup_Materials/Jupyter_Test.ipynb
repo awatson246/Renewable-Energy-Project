{
 "cells": [
  {
   "cell_type": "markdown",
   "metadata": {},
   "source": [
    "# Quick Little Test\n",
    "\n",
    "Hi there! This is a little test to make sure that your notebook is good to go and to show you how to use the notebooks. \n",
    "\n",
    "If your new to Jupyter they're basically little notebooks that can run code or markdown so it's a nice little super functional journal! \n",
    "\n",
    "The nice thing for this project is that you can make notes in markdown and run your code chunk by chunk and save it in a nice little space. Plus we can share them pretty easily and run the same output. "
   ]
  },
  {
   "cell_type": "code",
   "execution_count": null,
   "metadata": {
    "vscode": {
     "languageId": "r"
    }
   },
   "outputs": [],
   "source": [
    "# Quick Kernal Test (press the little run button on the right)\n",
    "print(\"Hello, R in Jupyter!\")"
   ]
  },
  {
   "cell_type": "markdown",
   "metadata": {},
   "source": [
    "Note: If you get an error that looks like this:\n",
    "\n",
    "```\n",
    "Failed to start the Kernel. \n",
    "The kernel 'R' was not started as it is located in an insecure location 'c:\\ProgramData\\jupyter\\kernels\\ir\\kernel.json'.  \n",
    "Click here for further details, optionally update the setting jupyter.kernels.trusted to trust the kernel.\n",
    "```\n",
    "Follow these instructions: \n",
    "1. Open Command Palette: Press Ctrl+Shift+P (Windows/Linux) or Cmd+Shift+P (macOS).\n",
    "2. Search for \"Preferences: Open User Settings (JSON)\" and select it.\n",
    "3. In the settings JSON file, add or update the following line to allow kernels in \"insecure\" locations (use the file path the error message gave you):\n",
    "```\n",
    "\"jupyter.kernels.trusted\": [\n",
    "    \"c:\\ProgramData\\jupyter\\kernels\\ir\\kernel.json\"\n",
    "]\n",
    "```\n",
    "\n",
    "Note: My file had some C code that was messing with it that I had to remove, you'll also have to add a slash in front of each slash. Your settings.json file look something like this: \n",
    "```\n",
    "{\n",
    "    \"jupyter.kernels.trusted\": [\n",
    "    \"c:\\\\ProgramData\\\\jupyter\\\\kernels\\\\ir\\\\kernel.json\"\n",
    "    ]\n",
    "}\n",
    "```\n",
    "4. Save the file and restart VSCode\n"
   ]
  },
  {
   "cell_type": "markdown",
   "metadata": {},
   "source": [
    "## Loading Data"
   ]
  },
  {
   "cell_type": "code",
   "execution_count": null,
   "metadata": {
    "vscode": {
     "languageId": "r"
    }
   },
   "outputs": [],
   "source": [
    "# Load the single CSV file\n",
    "renewable_data <- read.csv(\"USRenewableEnergyConsumption.csv\")\n",
    "head(renewable_data)  # Display the first few rows to check the data"
   ]
  },
  {
   "cell_type": "code",
   "execution_count": null,
   "metadata": {
    "vscode": {
     "languageId": "r"
    }
   },
   "outputs": [],
   "source": [
    "# Load a single CSV file from the Consumption_Data folder\n",
    "coal_data <- read.csv(\"Consumption_Data/Consumption_Coal.csv\")\n",
    "head(coal_data)  # Display the first few rows to check the data"
   ]
  },
  {
   "cell_type": "markdown",
   "metadata": {},
   "source": [
    "## A Basic R Demo"
   ]
  },
  {
   "cell_type": "code",
   "execution_count": null,
   "metadata": {
    "vscode": {
     "languageId": "r"
    }
   },
   "outputs": [],
   "source": [
    "# Inspect the first few rows to verify data loading \n",
    "# (I'm using the dataset I loaded earlier! This is why we love jupyter)\n",
    "head(renewable_data)\n",
    "\n",
    "# Fit a simple linear regression model: Hydroelectric Power ~ Year\n",
    "slr_model <- lm(Hydroelectric.Power ~ Year, data = renewable_data)\n",
    "\n",
    "# Print the model summary to understand model coefficients and statistics\n",
    "summary(slr_model)\n",
    "\n",
    "# Plotting the data and the regression line\n",
    "plot(renewable_data$Year, renewable_data$Hydroelectric.Power, \n",
    "     main = \"Hydroelectric Power Consumption Over Years\",\n",
    "     xlab = \"Year\", \n",
    "     ylab = \"Hydroelectric Power\",\n",
    "     pch = 19, \n",
    "     col = \"blue\")\n",
    "\n",
    "# Add the regression line to the plot\n",
    "abline(slr_model, col = \"red\", lwd = 2)\n"
   ]
  }
 ],
 "metadata": {
  "kernelspec": {
   "display_name": "R",
   "language": "R",
   "name": "ir"
  },
  "language_info": {
   "codemirror_mode": "r",
   "file_extension": ".r",
   "mimetype": "text/x-r-source",
   "name": "R",
   "pygments_lexer": "r",
   "version": "4.4.1"
  }
 },
 "nbformat": 4,
 "nbformat_minor": 2
}
