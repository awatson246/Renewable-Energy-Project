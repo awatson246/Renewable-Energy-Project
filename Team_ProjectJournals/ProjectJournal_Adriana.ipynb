{
 "cells": [
  {
   "cell_type": "markdown",
   "metadata": {},
   "source": [
    "# Project Journal"
   ]
  },
  {
   "cell_type": "markdown",
   "metadata": {
    "vscode": {
     "languageId": "plaintext"
    }
   },
   "source": [
    "**Name:** Adriana Watson\n",
    "\n",
    "**Research Question:** The Energy Policy Act of 2005 (EPAct) included legislation intended to promote the use of solar, wind, geothermal, hydroelectric, biomass, and biofuel energy consumption. Can the changes in renewable energy consumption after the implementation of EPAct be explained by the individual contributions of solar, wind, geothermal, hydroelectric, biomass, and biofuel consumption?\n",
    "\n",
    "**Variables:**\n",
    "$$Y: Total Renewable Energy \\newline\n",
    "X_1: Solar Energy \\newline\n",
    "X_2: Wind Energy \\newline\n",
    "X_3: Geothermal Energy \\newline\n",
    "X_4: Hydroelectric Power \\newline\n",
    "X_5: Biomass Energy Consumption \\newline\n",
    "X_6: Other Biofuels \\newline\n",
    "X_7: After\\_EPAct \\newline\n",
    "X_8: EPAct\\_Time "
   ]
  },
  {
   "cell_type": "markdown",
   "metadata": {},
   "source": [
    "## Data Prep & EDA\n",
    "**Dates:** November 1 - November 7\n",
    "\n",
    "**Meeting Date:** November 7"
   ]
  },
  {
   "cell_type": "markdown",
   "metadata": {},
   "source": [
    "### Data Cleaning Summary\n",
    "\n",
    "**Summary of data cleaning process:**\n",
    "1. Load libraries\n",
    "2. Import the dataset\n",
    "3. Check for and fill missing values\n",
    "4. Create new variables (```After_EPAct``` and ```EPAct_Time```)\n",
    "5. Remove unnecessary columns\n",
    "\n",
    "**Issues Encountered and Resolutions:**\n",
    "Only minor syntax issues and forgetting to install libraries. \n"
   ]
  },
  {
   "cell_type": "code",
   "execution_count": 22,
   "metadata": {
    "vscode": {
     "languageId": "r"
    }
   },
   "outputs": [],
   "source": [
    "# Step 1: Load the Necessary Libraries\n",
    "#install.packages(\"lubridate\")\n",
    "library(dplyr)      # For data manipulation\n",
    "library(ggplot2)    # For data visualization\n",
    "library(lubridate)  # For date handling"
   ]
  },
  {
   "cell_type": "code",
   "execution_count": 23,
   "metadata": {
    "vscode": {
     "languageId": "r"
    }
   },
   "outputs": [],
   "source": [
    "# Step 2: Import the Dataset\n",
    "data <- read.csv(\"../USRenewableEnergyConsumption.csv\")"
   ]
  },
  {
   "cell_type": "code",
   "execution_count": 24,
   "metadata": {
    "vscode": {
     "languageId": "r"
    }
   },
   "outputs": [
    {
     "name": "stdout",
     "output_type": "stream",
     "text": [
      "                              Year                              Month \n",
      "                                 0                                  0 \n",
      "                            Sector                Hydroelectric.Power \n",
      "                                 0                                  0 \n",
      "                 Geothermal.Energy                       Solar.Energy \n",
      "                                 0                                  0 \n",
      "                       Wind.Energy                        Wood.Energy \n",
      "                                 0                                  0 \n",
      "                      Waste.Energy Fuel.Ethanol..Excluding.Denaturant \n",
      "                                 0                                  0 \n",
      "    Biomass.Losses.and.Co.products                     Biomass.Energy \n",
      "                                 0                                  0 \n",
      "            Total.Renewable.Energy              Renewable.Diesel.Fuel \n",
      "                                 0                                  0 \n",
      "                    Other.Biofuels   Conventional.Hydroelectric.Power \n",
      "                                 0                                  0 \n",
      "                         Biodiesel \n",
      "                                 0 \n"
     ]
    }
   ],
   "source": [
    "# Step 3: Check for and Fill Missing Values\n",
    "# Check for missing values\n",
    "missing_values <- colSums(is.na(data))\n",
    "print(missing_values)  # Print the count of missing values in each column"
   ]
  },
  {
   "cell_type": "code",
   "execution_count": 25,
   "metadata": {
    "vscode": {
     "languageId": "r"
    }
   },
   "outputs": [],
   "source": [
    "data <- data %>%\n",
    "  mutate(After_EPAct = ifelse((Year > 2005) | (Year == 2005 & Month >= 8), 1, 0),  # Binary variable\n",
    "         EPAct_Time = ifelse(Year < 2005, NA, \n",
    "                             (Year - 2005) * 12 + (Month - 8)))  # Time since EPAct, in months"
   ]
  },
  {
   "cell_type": "code",
   "execution_count": 27,
   "metadata": {
    "vscode": {
     "languageId": "r"
    }
   },
   "outputs": [],
   "source": [
    "# Step 5: Remove Unnecessary Columns and Select Relevant Columns\n",
    "data <- data %>%\n",
    "  select(Total_Renewable_Energy = Total.Renewable.Energy,  # Y\n",
    "         Solar_Energy = Solar.Energy,                      # X_1\n",
    "         Wind_Energy = Wind.Energy,                        # X_2\n",
    "         Geothermal_Energy = Geothermal.Energy,            # X_3\n",
    "         Hydroelectric_Power = Hydroelectric.Power,        # X_4\n",
    "         Biomass_Energy_Consumption = Biomass.Energy,      # X_5\n",
    "         Other_Biofuels = Other.Biofuels,                  # X_6\n",
    "         After_EPAct,                                      # X_7\n",
    "         EPAct_Time)                                       # X_8"
   ]
  },
  {
   "cell_type": "code",
   "execution_count": 28,
   "metadata": {
    "vscode": {
     "languageId": "r"
    }
   },
   "outputs": [
    {
     "data": {
      "text/html": [
       "<table class=\"dataframe\">\n",
       "<caption>A data.frame: 6 × 9</caption>\n",
       "<thead>\n",
       "\t<tr><th></th><th scope=col>Total_Renewable_Energy</th><th scope=col>Solar_Energy</th><th scope=col>Wind_Energy</th><th scope=col>Geothermal_Energy</th><th scope=col>Hydroelectric_Power</th><th scope=col>Biomass_Energy_Consumption</th><th scope=col>Other_Biofuels</th><th scope=col>After_EPAct</th><th scope=col>EPAct_Time</th></tr>\n",
       "\t<tr><th></th><th scope=col>&lt;dbl&gt;</th><th scope=col>&lt;dbl&gt;</th><th scope=col>&lt;dbl&gt;</th><th scope=col>&lt;dbl&gt;</th><th scope=col>&lt;dbl&gt;</th><th scope=col>&lt;dbl&gt;</th><th scope=col>&lt;dbl&gt;</th><th scope=col>&lt;dbl&gt;</th><th scope=col>&lt;dbl&gt;</th></tr>\n",
       "</thead>\n",
       "<tbody>\n",
       "\t<tr><th scope=row>1</th><td> 0.570</td><td>0</td><td>0</td><td>0.00</td><td>0.00</td><td> 0.570</td><td>0</td><td>0</td><td>NA</td></tr>\n",
       "\t<tr><th scope=row>2</th><td>89.223</td><td>0</td><td>0</td><td>0.49</td><td>0.00</td><td> 0.211</td><td>0</td><td>0</td><td>NA</td></tr>\n",
       "\t<tr><th scope=row>3</th><td>99.973</td><td>0</td><td>0</td><td>0.00</td><td>1.04</td><td>98.933</td><td>0</td><td>0</td><td>NA</td></tr>\n",
       "\t<tr><th scope=row>4</th><td>30.074</td><td>0</td><td>0</td><td>0.00</td><td>0.00</td><td> 0.000</td><td>0</td><td>0</td><td>NA</td></tr>\n",
       "\t<tr><th scope=row>5</th><td> 0.000</td><td>0</td><td>0</td><td>0.00</td><td>0.00</td><td> 0.000</td><td>0</td><td>0</td><td>NA</td></tr>\n",
       "\t<tr><th scope=row>6</th><td> 0.515</td><td>0</td><td>0</td><td>0.00</td><td>0.00</td><td> 0.515</td><td>0</td><td>0</td><td>NA</td></tr>\n",
       "</tbody>\n",
       "</table>\n"
      ],
      "text/latex": [
       "A data.frame: 6 × 9\n",
       "\\begin{tabular}{r|lllllllll}\n",
       "  & Total\\_Renewable\\_Energy & Solar\\_Energy & Wind\\_Energy & Geothermal\\_Energy & Hydroelectric\\_Power & Biomass\\_Energy\\_Consumption & Other\\_Biofuels & After\\_EPAct & EPAct\\_Time\\\\\n",
       "  & <dbl> & <dbl> & <dbl> & <dbl> & <dbl> & <dbl> & <dbl> & <dbl> & <dbl>\\\\\n",
       "\\hline\n",
       "\t1 &  0.570 & 0 & 0 & 0.00 & 0.00 &  0.570 & 0 & 0 & NA\\\\\n",
       "\t2 & 89.223 & 0 & 0 & 0.49 & 0.00 &  0.211 & 0 & 0 & NA\\\\\n",
       "\t3 & 99.973 & 0 & 0 & 0.00 & 1.04 & 98.933 & 0 & 0 & NA\\\\\n",
       "\t4 & 30.074 & 0 & 0 & 0.00 & 0.00 &  0.000 & 0 & 0 & NA\\\\\n",
       "\t5 &  0.000 & 0 & 0 & 0.00 & 0.00 &  0.000 & 0 & 0 & NA\\\\\n",
       "\t6 &  0.515 & 0 & 0 & 0.00 & 0.00 &  0.515 & 0 & 0 & NA\\\\\n",
       "\\end{tabular}\n"
      ],
      "text/markdown": [
       "\n",
       "A data.frame: 6 × 9\n",
       "\n",
       "| <!--/--> | Total_Renewable_Energy &lt;dbl&gt; | Solar_Energy &lt;dbl&gt; | Wind_Energy &lt;dbl&gt; | Geothermal_Energy &lt;dbl&gt; | Hydroelectric_Power &lt;dbl&gt; | Biomass_Energy_Consumption &lt;dbl&gt; | Other_Biofuels &lt;dbl&gt; | After_EPAct &lt;dbl&gt; | EPAct_Time &lt;dbl&gt; |\n",
       "|---|---|---|---|---|---|---|---|---|---|\n",
       "| 1 |  0.570 | 0 | 0 | 0.00 | 0.00 |  0.570 | 0 | 0 | NA |\n",
       "| 2 | 89.223 | 0 | 0 | 0.49 | 0.00 |  0.211 | 0 | 0 | NA |\n",
       "| 3 | 99.973 | 0 | 0 | 0.00 | 1.04 | 98.933 | 0 | 0 | NA |\n",
       "| 4 | 30.074 | 0 | 0 | 0.00 | 0.00 |  0.000 | 0 | 0 | NA |\n",
       "| 5 |  0.000 | 0 | 0 | 0.00 | 0.00 |  0.000 | 0 | 0 | NA |\n",
       "| 6 |  0.515 | 0 | 0 | 0.00 | 0.00 |  0.515 | 0 | 0 | NA |\n",
       "\n"
      ],
      "text/plain": [
       "  Total_Renewable_Energy Solar_Energy Wind_Energy Geothermal_Energy\n",
       "1  0.570                 0            0           0.00             \n",
       "2 89.223                 0            0           0.49             \n",
       "3 99.973                 0            0           0.00             \n",
       "4 30.074                 0            0           0.00             \n",
       "5  0.000                 0            0           0.00             \n",
       "6  0.515                 0            0           0.00             \n",
       "  Hydroelectric_Power Biomass_Energy_Consumption Other_Biofuels After_EPAct\n",
       "1 0.00                 0.570                     0              0          \n",
       "2 0.00                 0.211                     0              0          \n",
       "3 1.04                98.933                     0              0          \n",
       "4 0.00                 0.000                     0              0          \n",
       "5 0.00                 0.000                     0              0          \n",
       "6 0.00                 0.515                     0              0          \n",
       "  EPAct_Time\n",
       "1 NA        \n",
       "2 NA        \n",
       "3 NA        \n",
       "4 NA        \n",
       "5 NA        \n",
       "6 NA        "
      ]
     },
     "metadata": {},
     "output_type": "display_data"
    }
   ],
   "source": [
    "head(data)"
   ]
  },
  {
   "cell_type": "markdown",
   "metadata": {},
   "source": [
    "### Exploratory Data Analysis Findings\n",
    "**Key Visualizations:** "
   ]
  },
  {
   "cell_type": "code",
   "execution_count": null,
   "metadata": {
    "vscode": {
     "languageId": "r"
    }
   },
   "outputs": [],
   "source": [
    "# Add any data visualizations you made here!\n",
    "# Feel free to add in as many code blocks as you need."
   ]
  },
  {
   "cell_type": "markdown",
   "metadata": {},
   "source": [
    "### Summary Statistics"
   ]
  },
  {
   "cell_type": "code",
   "execution_count": null,
   "metadata": {
    "vscode": {
     "languageId": "r"
    }
   },
   "outputs": [],
   "source": [
    "# Add your summary statisics here"
   ]
  },
  {
   "cell_type": "markdown",
   "metadata": {},
   "source": [
    "***\n",
    "## Model Building\n",
    "**Dates:** November 8 - November 14\n",
    "\n",
    "**Meeting Date:** November 14"
   ]
  },
  {
   "cell_type": "markdown",
   "metadata": {},
   "source": [
    "### Model Equation\n",
    "\n",
    "**Equation:** \n",
    "[Write out the model equation here based on your selected predictors]\n",
    "\n",
    "Note: you can write equations as follows: \n",
    "$$Y = \\beta_0 +  \\beta_1X_1 + \\beta_2X_2 + \\epsilon"
   ]
  },
  {
   "cell_type": "markdown",
   "metadata": {},
   "source": [
    "### Model Fitting"
   ]
  },
  {
   "cell_type": "code",
   "execution_count": null,
   "metadata": {
    "vscode": {
     "languageId": "r"
    }
   },
   "outputs": [],
   "source": [
    "# Model fitting code (e.g., lm() function)"
   ]
  },
  {
   "cell_type": "markdown",
   "metadata": {},
   "source": [
    "### Interaction Terms\n",
    "**Explanation of Interaction Terms:**\n",
    "[Briefly describe any interaction terms included in the model]\n"
   ]
  },
  {
   "cell_type": "code",
   "execution_count": null,
   "metadata": {
    "vscode": {
     "languageId": "r"
    }
   },
   "outputs": [],
   "source": [
    "# Add any interaction plots here"
   ]
  },
  {
   "cell_type": "markdown",
   "metadata": {},
   "source": [
    "### Model Summary and Diagonostics"
   ]
  },
  {
   "cell_type": "code",
   "execution_count": null,
   "metadata": {
    "vscode": {
     "languageId": "r"
    }
   },
   "outputs": [],
   "source": [
    "# Model summary\n",
    "summary(model)\n",
    "\n",
    "# ANOVA table\n",
    "anova(model)\n",
    "\n",
    "# Diagnostics: Residual Plots, Normality, etc."
   ]
  },
  {
   "cell_type": "markdown",
   "metadata": {},
   "source": [
    "### Feature Selection Plan\n",
    "Describe strategies for reducing the model (if necessary) and rationale."
   ]
  },
  {
   "cell_type": "markdown",
   "metadata": {},
   "source": [
    "***\n",
    "## Model Evaluation & Validation\n",
    "**Dates:** November 15 - November 21\n",
    "\n",
    "**Meeting Date:** November 21"
   ]
  },
  {
   "cell_type": "markdown",
   "metadata": {},
   "source": [
    "### Documentation of Model Adjustments"
   ]
  },
  {
   "cell_type": "code",
   "execution_count": null,
   "metadata": {
    "vscode": {
     "languageId": "r"
    }
   },
   "outputs": [],
   "source": [
    "# Model adjustments made based on your feature selection plan\n",
    "# You can add as many code/markdown blocks as you need to show \n",
    "# the iterative thought process here as you go. "
   ]
  },
  {
   "cell_type": "markdown",
   "metadata": {},
   "source": [
    "Summary of iterative process:\n",
    "1. First I did this\n",
    "2. Then I did this because...\n",
    "3. Then I did this because...\n",
    "\n",
    "Final Model Equation: "
   ]
  },
  {
   "cell_type": "markdown",
   "metadata": {},
   "source": [
    "### Model Evaluation\n",
    "#### Significance Tests"
   ]
  },
  {
   "cell_type": "code",
   "execution_count": null,
   "metadata": {
    "vscode": {
     "languageId": "r"
    }
   },
   "outputs": [],
   "source": [
    "# Add your significance test code with outputs here"
   ]
  },
  {
   "cell_type": "markdown",
   "metadata": {},
   "source": [
    "#### Model Performance Metrics"
   ]
  },
  {
   "cell_type": "code",
   "execution_count": null,
   "metadata": {
    "vscode": {
     "languageId": "r"
    }
   },
   "outputs": [],
   "source": [
    "# Add your model performance code with outputs here"
   ]
  },
  {
   "cell_type": "markdown",
   "metadata": {},
   "source": [
    "### Validation Findings"
   ]
  },
  {
   "cell_type": "code",
   "execution_count": null,
   "metadata": {
    "vscode": {
     "languageId": "r"
    }
   },
   "outputs": [],
   "source": [
    "# Add any validation code here"
   ]
  },
  {
   "cell_type": "markdown",
   "metadata": {},
   "source": [
    "### Summary of Findings\n",
    "\n",
    "[Summarize your findings from the model evaluation and validation here. Don't forget to bring it back to your hypothesis and include your final model!]"
   ]
  },
  {
   "cell_type": "markdown",
   "metadata": {},
   "source": [
    "***\n",
    "Team Reminder: After this meeting, agree on a report/presentation format and make all of the needed documentation."
   ]
  },
  {
   "cell_type": "markdown",
   "metadata": {},
   "source": [
    "***\n",
    "## Report and Presentation\n",
    "**Dates:** November 22 - December 1\n",
    "\n",
    "**Meeting Date:** November 28\n",
    "\n",
    "No code neccesary here (yay)! Use the space below to brainstorm which graphs you want to include in the report and how you want to tell the story of your model!"
   ]
  }
 ],
 "metadata": {
  "kernelspec": {
   "display_name": "R",
   "language": "R",
   "name": "ir"
  },
  "language_info": {
   "codemirror_mode": "r",
   "file_extension": ".r",
   "mimetype": "text/x-r-source",
   "name": "R",
   "pygments_lexer": "r",
   "version": "4.4.1"
  }
 },
 "nbformat": 4,
 "nbformat_minor": 2
}
