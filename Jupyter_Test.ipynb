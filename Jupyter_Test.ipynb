{
 "cells": [
  {
   "cell_type": "markdown",
   "metadata": {},
   "source": [
    "# Quick Little Test\n",
    "\n",
    "Hi there! This is a little test to make sure that your notebook is good to go and to show you how to use the notebooks. \n",
    "\n",
    "If your new to Jupyter they're basically little notebooks that can run code or markdown so it's a nice little super functional journal! \n",
    "\n",
    "The nice thing for this project is that you can make notes in markdown and run your code chunk by chunk and save it in a nice little space. Plus we can share them pretty easily and run the same output. "
   ]
  },
  {
   "cell_type": "code",
   "execution_count": null,
   "metadata": {
    "vscode": {
     "languageId": "r"
    }
   },
   "outputs": [
    {
     "name": "stdout",
     "output_type": "stream",
     "text": [
      "[1] \"Hello, R in Jupyter!\"\n"
     ]
    }
   ],
   "source": [
    "# Quick Kernal Test (press the little run button on the right)\n",
    "print(\"Hello, R in Jupyter!\")"
   ]
  },
  {
   "cell_type": "markdown",
   "metadata": {},
   "source": [
    "Note: If you get an error that looks like this:\n",
    "\n",
    "```\n",
    "Failed to start the Kernel. \n",
    "The kernel 'R' was not started as it is located in an insecure location 'c:\\ProgramData\\jupyter\\kernels\\ir\\kernel.json'.  \n",
    "Click here for further details, optionally update the setting jupyter.kernels.trusted to trust the kernel.\n",
    "```\n",
    "Follow these instructions: \n",
    "1. Open Command Palette: Press Ctrl+Shift+P (Windows/Linux) or Cmd+Shift+P (macOS).\n",
    "2. Search for \"Preferences: Open User Settings (JSON)\" and select it.\n",
    "3. In the settings JSON file, add or update the following line to allow kernels in \"insecure\" locations (use the file path the error message gave you):\n",
    "```\n",
    "\"jupyter.kernels.trusted\": [\n",
    "    \"c:\\ProgramData\\jupyter\\kernels\\ir\\kernel.json\"\n",
    "]\n",
    "```\n",
    "\n",
    "Note: My file had some C code that was messing with it that I had to remove, you'll also have to add a slash in front of each slash. Your settings.json file look something like this: \n",
    "```\n",
    "{\n",
    "    \"jupyter.kernels.trusted\": [\n",
    "    \"c:\\\\ProgramData\\\\jupyter\\\\kernels\\\\ir\\\\kernel.json\"\n",
    "    ]\n",
    "}\n",
    "```\n",
    "4. Save the file and restart VSCode\n"
   ]
  },
  {
   "cell_type": "markdown",
   "metadata": {},
   "source": [
    "## Loading Data"
   ]
  },
  {
   "cell_type": "code",
   "execution_count": 1,
   "metadata": {
    "vscode": {
     "languageId": "r"
    }
   },
   "outputs": [
    {
     "data": {
      "text/html": [
       "<table class=\"dataframe\">\n",
       "<caption>A data.frame: 6 × 17</caption>\n",
       "<thead>\n",
       "\t<tr><th></th><th scope=col>Year</th><th scope=col>Month</th><th scope=col>Sector</th><th scope=col>Hydroelectric.Power</th><th scope=col>Geothermal.Energy</th><th scope=col>Solar.Energy</th><th scope=col>Wind.Energy</th><th scope=col>Wood.Energy</th><th scope=col>Waste.Energy</th><th scope=col>Fuel.Ethanol..Excluding.Denaturant</th><th scope=col>Biomass.Losses.and.Co.products</th><th scope=col>Biomass.Energy</th><th scope=col>Total.Renewable.Energy</th><th scope=col>Renewable.Diesel.Fuel</th><th scope=col>Other.Biofuels</th><th scope=col>Conventional.Hydroelectric.Power</th><th scope=col>Biodiesel</th></tr>\n",
       "\t<tr><th></th><th scope=col>&lt;int&gt;</th><th scope=col>&lt;int&gt;</th><th scope=col>&lt;chr&gt;</th><th scope=col>&lt;dbl&gt;</th><th scope=col>&lt;dbl&gt;</th><th scope=col>&lt;dbl&gt;</th><th scope=col>&lt;dbl&gt;</th><th scope=col>&lt;dbl&gt;</th><th scope=col>&lt;dbl&gt;</th><th scope=col>&lt;dbl&gt;</th><th scope=col>&lt;dbl&gt;</th><th scope=col>&lt;dbl&gt;</th><th scope=col>&lt;dbl&gt;</th><th scope=col>&lt;dbl&gt;</th><th scope=col>&lt;dbl&gt;</th><th scope=col>&lt;dbl&gt;</th><th scope=col>&lt;dbl&gt;</th></tr>\n",
       "</thead>\n",
       "<tbody>\n",
       "\t<tr><th scope=row>1</th><td>1973</td><td>1</td><td>Commerical    </td><td>0.00</td><td>0.00</td><td>0</td><td>0</td><td> 0.570</td><td>0.000</td><td>0</td><td>0</td><td> 0.570</td><td> 0.570</td><td>0</td><td>0</td><td> 0.000</td><td>0</td></tr>\n",
       "\t<tr><th scope=row>2</th><td>1973</td><td>1</td><td>Electric Power</td><td>0.00</td><td>0.49</td><td>0</td><td>0</td><td> 0.054</td><td>0.157</td><td>0</td><td>0</td><td> 0.211</td><td>89.223</td><td>0</td><td>0</td><td>88.522</td><td>0</td></tr>\n",
       "\t<tr><th scope=row>3</th><td>1973</td><td>1</td><td>Industrial    </td><td>1.04</td><td>0.00</td><td>0</td><td>0</td><td>98.933</td><td>0.000</td><td>0</td><td>0</td><td>98.933</td><td>99.973</td><td>0</td><td>0</td><td> 0.000</td><td>0</td></tr>\n",
       "\t<tr><th scope=row>4</th><td>1973</td><td>1</td><td>Residential   </td><td>0.00</td><td>0.00</td><td>0</td><td>0</td><td>30.074</td><td>0.000</td><td>0</td><td>0</td><td> 0.000</td><td>30.074</td><td>0</td><td>0</td><td> 0.000</td><td>0</td></tr>\n",
       "\t<tr><th scope=row>5</th><td>1973</td><td>1</td><td>Transportation</td><td>0.00</td><td>0.00</td><td>0</td><td>0</td><td> 0.000</td><td>0.000</td><td>0</td><td>0</td><td> 0.000</td><td> 0.000</td><td>0</td><td>0</td><td> 0.000</td><td>0</td></tr>\n",
       "\t<tr><th scope=row>6</th><td>1973</td><td>2</td><td>Commerical    </td><td>0.00</td><td>0.00</td><td>0</td><td>0</td><td> 0.515</td><td>0.000</td><td>0</td><td>0</td><td> 0.515</td><td> 0.515</td><td>0</td><td>0</td><td> 0.000</td><td>0</td></tr>\n",
       "</tbody>\n",
       "</table>\n"
      ],
      "text/latex": [
       "A data.frame: 6 × 17\n",
       "\\begin{tabular}{r|lllllllllllllllll}\n",
       "  & Year & Month & Sector & Hydroelectric.Power & Geothermal.Energy & Solar.Energy & Wind.Energy & Wood.Energy & Waste.Energy & Fuel.Ethanol..Excluding.Denaturant & Biomass.Losses.and.Co.products & Biomass.Energy & Total.Renewable.Energy & Renewable.Diesel.Fuel & Other.Biofuels & Conventional.Hydroelectric.Power & Biodiesel\\\\\n",
       "  & <int> & <int> & <chr> & <dbl> & <dbl> & <dbl> & <dbl> & <dbl> & <dbl> & <dbl> & <dbl> & <dbl> & <dbl> & <dbl> & <dbl> & <dbl> & <dbl>\\\\\n",
       "\\hline\n",
       "\t1 & 1973 & 1 & Commerical     & 0.00 & 0.00 & 0 & 0 &  0.570 & 0.000 & 0 & 0 &  0.570 &  0.570 & 0 & 0 &  0.000 & 0\\\\\n",
       "\t2 & 1973 & 1 & Electric Power & 0.00 & 0.49 & 0 & 0 &  0.054 & 0.157 & 0 & 0 &  0.211 & 89.223 & 0 & 0 & 88.522 & 0\\\\\n",
       "\t3 & 1973 & 1 & Industrial     & 1.04 & 0.00 & 0 & 0 & 98.933 & 0.000 & 0 & 0 & 98.933 & 99.973 & 0 & 0 &  0.000 & 0\\\\\n",
       "\t4 & 1973 & 1 & Residential    & 0.00 & 0.00 & 0 & 0 & 30.074 & 0.000 & 0 & 0 &  0.000 & 30.074 & 0 & 0 &  0.000 & 0\\\\\n",
       "\t5 & 1973 & 1 & Transportation & 0.00 & 0.00 & 0 & 0 &  0.000 & 0.000 & 0 & 0 &  0.000 &  0.000 & 0 & 0 &  0.000 & 0\\\\\n",
       "\t6 & 1973 & 2 & Commerical     & 0.00 & 0.00 & 0 & 0 &  0.515 & 0.000 & 0 & 0 &  0.515 &  0.515 & 0 & 0 &  0.000 & 0\\\\\n",
       "\\end{tabular}\n"
      ],
      "text/markdown": [
       "\n",
       "A data.frame: 6 × 17\n",
       "\n",
       "| <!--/--> | Year &lt;int&gt; | Month &lt;int&gt; | Sector &lt;chr&gt; | Hydroelectric.Power &lt;dbl&gt; | Geothermal.Energy &lt;dbl&gt; | Solar.Energy &lt;dbl&gt; | Wind.Energy &lt;dbl&gt; | Wood.Energy &lt;dbl&gt; | Waste.Energy &lt;dbl&gt; | Fuel.Ethanol..Excluding.Denaturant &lt;dbl&gt; | Biomass.Losses.and.Co.products &lt;dbl&gt; | Biomass.Energy &lt;dbl&gt; | Total.Renewable.Energy &lt;dbl&gt; | Renewable.Diesel.Fuel &lt;dbl&gt; | Other.Biofuels &lt;dbl&gt; | Conventional.Hydroelectric.Power &lt;dbl&gt; | Biodiesel &lt;dbl&gt; |\n",
       "|---|---|---|---|---|---|---|---|---|---|---|---|---|---|---|---|---|---|\n",
       "| 1 | 1973 | 1 | Commerical     | 0.00 | 0.00 | 0 | 0 |  0.570 | 0.000 | 0 | 0 |  0.570 |  0.570 | 0 | 0 |  0.000 | 0 |\n",
       "| 2 | 1973 | 1 | Electric Power | 0.00 | 0.49 | 0 | 0 |  0.054 | 0.157 | 0 | 0 |  0.211 | 89.223 | 0 | 0 | 88.522 | 0 |\n",
       "| 3 | 1973 | 1 | Industrial     | 1.04 | 0.00 | 0 | 0 | 98.933 | 0.000 | 0 | 0 | 98.933 | 99.973 | 0 | 0 |  0.000 | 0 |\n",
       "| 4 | 1973 | 1 | Residential    | 0.00 | 0.00 | 0 | 0 | 30.074 | 0.000 | 0 | 0 |  0.000 | 30.074 | 0 | 0 |  0.000 | 0 |\n",
       "| 5 | 1973 | 1 | Transportation | 0.00 | 0.00 | 0 | 0 |  0.000 | 0.000 | 0 | 0 |  0.000 |  0.000 | 0 | 0 |  0.000 | 0 |\n",
       "| 6 | 1973 | 2 | Commerical     | 0.00 | 0.00 | 0 | 0 |  0.515 | 0.000 | 0 | 0 |  0.515 |  0.515 | 0 | 0 |  0.000 | 0 |\n",
       "\n"
      ],
      "text/plain": [
       "  Year Month Sector         Hydroelectric.Power Geothermal.Energy Solar.Energy\n",
       "1 1973 1     Commerical     0.00                0.00              0           \n",
       "2 1973 1     Electric Power 0.00                0.49              0           \n",
       "3 1973 1     Industrial     1.04                0.00              0           \n",
       "4 1973 1     Residential    0.00                0.00              0           \n",
       "5 1973 1     Transportation 0.00                0.00              0           \n",
       "6 1973 2     Commerical     0.00                0.00              0           \n",
       "  Wind.Energy Wood.Energy Waste.Energy Fuel.Ethanol..Excluding.Denaturant\n",
       "1 0            0.570      0.000        0                                 \n",
       "2 0            0.054      0.157        0                                 \n",
       "3 0           98.933      0.000        0                                 \n",
       "4 0           30.074      0.000        0                                 \n",
       "5 0            0.000      0.000        0                                 \n",
       "6 0            0.515      0.000        0                                 \n",
       "  Biomass.Losses.and.Co.products Biomass.Energy Total.Renewable.Energy\n",
       "1 0                               0.570          0.570                \n",
       "2 0                               0.211         89.223                \n",
       "3 0                              98.933         99.973                \n",
       "4 0                               0.000         30.074                \n",
       "5 0                               0.000          0.000                \n",
       "6 0                               0.515          0.515                \n",
       "  Renewable.Diesel.Fuel Other.Biofuels Conventional.Hydroelectric.Power\n",
       "1 0                     0               0.000                          \n",
       "2 0                     0              88.522                          \n",
       "3 0                     0               0.000                          \n",
       "4 0                     0               0.000                          \n",
       "5 0                     0               0.000                          \n",
       "6 0                     0               0.000                          \n",
       "  Biodiesel\n",
       "1 0        \n",
       "2 0        \n",
       "3 0        \n",
       "4 0        \n",
       "5 0        \n",
       "6 0        "
      ]
     },
     "metadata": {},
     "output_type": "display_data"
    }
   ],
   "source": [
    "# Load the single CSV file\n",
    "renewable_data <- read.csv(\"USRenewableEnergyConsumption.csv\")\n",
    "head(renewable_data)  # Display the first few rows to check the data"
   ]
  },
  {
   "cell_type": "code",
   "execution_count": 2,
   "metadata": {
    "vscode": {
     "languageId": "r"
    }
   },
   "outputs": [
    {
     "data": {
      "text/html": [
       "<table class=\"dataframe\">\n",
       "<caption>A data.frame: 6 × 45</caption>\n",
       "<thead>\n",
       "\t<tr><th></th><th scope=col>Continent</th><th scope=col>Country</th><th scope=col>X1980</th><th scope=col>X1981</th><th scope=col>X1982</th><th scope=col>X1983</th><th scope=col>X1984</th><th scope=col>X1985</th><th scope=col>X1986</th><th scope=col>X1987</th><th scope=col>⋯</th><th scope=col>X2013</th><th scope=col>X2014</th><th scope=col>X2015</th><th scope=col>X2016</th><th scope=col>X2017</th><th scope=col>X2018</th><th scope=col>X2019</th><th scope=col>X2020</th><th scope=col>X2021</th><th scope=col>Consumption_Coal</th></tr>\n",
       "\t<tr><th></th><th scope=col>&lt;chr&gt;</th><th scope=col>&lt;chr&gt;</th><th scope=col>&lt;chr&gt;</th><th scope=col>&lt;chr&gt;</th><th scope=col>&lt;chr&gt;</th><th scope=col>&lt;chr&gt;</th><th scope=col>&lt;chr&gt;</th><th scope=col>&lt;chr&gt;</th><th scope=col>&lt;chr&gt;</th><th scope=col>&lt;chr&gt;</th><th scope=col>⋯</th><th scope=col>&lt;chr&gt;</th><th scope=col>&lt;chr&gt;</th><th scope=col>&lt;chr&gt;</th><th scope=col>&lt;chr&gt;</th><th scope=col>&lt;chr&gt;</th><th scope=col>&lt;chr&gt;</th><th scope=col>&lt;chr&gt;</th><th scope=col>&lt;chr&gt;</th><th scope=col>&lt;chr&gt;</th><th scope=col>&lt;dbl&gt;</th></tr>\n",
       "</thead>\n",
       "<tbody>\n",
       "\t<tr><th scope=row>1</th><td>Africa</td><td>        Algeria     </td><td>0.002547398</td><td>0.007655064</td><td>0.020475801</td><td>0.033213824</td><td>0.034235723</td><td>0.034242132</td><td>0.034610211</td><td>0.035079318</td><td>⋯</td><td>0.001259621</td><td>0.000835328</td><td>0.000576922</td><td>0.000575219</td><td>0.000924225</td><td>0.000410418</td><td>0.000405436</td><td>0.000658437</td><td>0.00094109 </td><td>0.59481847</td></tr>\n",
       "\t<tr><th scope=row>2</th><td>Africa</td><td>        Angola      </td><td>0          </td><td>0          </td><td>0          </td><td>0          </td><td>0          </td><td>0          </td><td>0          </td><td>0          </td><td>⋯</td><td>0          </td><td>0          </td><td>0          </td><td>0          </td><td>0          </td><td>0          </td><td>0          </td><td>0          </td><td>0          </td><td>0.00000000</td></tr>\n",
       "\t<tr><th scope=row>3</th><td>Africa</td><td>        Benin       </td><td>0          </td><td>0          </td><td>0          </td><td>0          </td><td>0          </td><td>0          </td><td>0          </td><td>0          </td><td>⋯</td><td>3.17E-05   </td><td>0.000961001</td><td>0.001037911</td><td>0.001985751</td><td>0.002992505</td><td>0.002987991</td><td>0.002938642</td><td>0.001951128</td><td>0.003932631</td><td>0.01904649</td></tr>\n",
       "\t<tr><th scope=row>4</th><td>Africa</td><td>        Botswana    </td><td>0.008660526</td><td>0.009356617</td><td>0.010099701</td><td>0.00986717 </td><td>0.009751175</td><td>0.010819193</td><td>0.01211937 </td><td>0.012351123</td><td>⋯</td><td>0.014232074</td><td>0.016837001</td><td>0.027546501</td><td>0.038035577</td><td>0.035819574</td><td>0.033554487</td><td>0.031321952</td><td>0.029050749</td><td>0.032820821</td><td>0.80860308</td></tr>\n",
       "\t<tr><th scope=row>5</th><td>Africa</td><td>        Burkina Faso</td><td>0          </td><td>0          </td><td>0          </td><td>0          </td><td>0          </td><td>0          </td><td>0          </td><td>0          </td><td>⋯</td><td>0          </td><td>0          </td><td>0          </td><td>0          </td><td>0          </td><td>0          </td><td>0          </td><td>0          </td><td>0          </td><td>0.00000000</td></tr>\n",
       "\t<tr><th scope=row>6</th><td>Africa</td><td>        Burundi     </td><td>0          </td><td>0          </td><td>0          </td><td>0          </td><td>0          </td><td>0          </td><td>0          </td><td>0          </td><td>⋯</td><td>0          </td><td>0          </td><td>0          </td><td>0          </td><td>0          </td><td>0          </td><td>0          </td><td>0          </td><td>0          </td><td>0.00000000</td></tr>\n",
       "</tbody>\n",
       "</table>\n"
      ],
      "text/latex": [
       "A data.frame: 6 × 45\n",
       "\\begin{tabular}{r|lllllllllllllllllllll}\n",
       "  & Continent & Country & X1980 & X1981 & X1982 & X1983 & X1984 & X1985 & X1986 & X1987 & ⋯ & X2013 & X2014 & X2015 & X2016 & X2017 & X2018 & X2019 & X2020 & X2021 & Consumption\\_Coal\\\\\n",
       "  & <chr> & <chr> & <chr> & <chr> & <chr> & <chr> & <chr> & <chr> & <chr> & <chr> & ⋯ & <chr> & <chr> & <chr> & <chr> & <chr> & <chr> & <chr> & <chr> & <chr> & <dbl>\\\\\n",
       "\\hline\n",
       "\t1 & Africa &         Algeria      & 0.002547398 & 0.007655064 & 0.020475801 & 0.033213824 & 0.034235723 & 0.034242132 & 0.034610211 & 0.035079318 & ⋯ & 0.001259621 & 0.000835328 & 0.000576922 & 0.000575219 & 0.000924225 & 0.000410418 & 0.000405436 & 0.000658437 & 0.00094109  & 0.59481847\\\\\n",
       "\t2 & Africa &         Angola       & 0           & 0           & 0           & 0           & 0           & 0           & 0           & 0           & ⋯ & 0           & 0           & 0           & 0           & 0           & 0           & 0           & 0           & 0           & 0.00000000\\\\\n",
       "\t3 & Africa &         Benin        & 0           & 0           & 0           & 0           & 0           & 0           & 0           & 0           & ⋯ & 3.17E-05    & 0.000961001 & 0.001037911 & 0.001985751 & 0.002992505 & 0.002987991 & 0.002938642 & 0.001951128 & 0.003932631 & 0.01904649\\\\\n",
       "\t4 & Africa &         Botswana     & 0.008660526 & 0.009356617 & 0.010099701 & 0.00986717  & 0.009751175 & 0.010819193 & 0.01211937  & 0.012351123 & ⋯ & 0.014232074 & 0.016837001 & 0.027546501 & 0.038035577 & 0.035819574 & 0.033554487 & 0.031321952 & 0.029050749 & 0.032820821 & 0.80860308\\\\\n",
       "\t5 & Africa &         Burkina Faso & 0           & 0           & 0           & 0           & 0           & 0           & 0           & 0           & ⋯ & 0           & 0           & 0           & 0           & 0           & 0           & 0           & 0           & 0           & 0.00000000\\\\\n",
       "\t6 & Africa &         Burundi      & 0           & 0           & 0           & 0           & 0           & 0           & 0           & 0           & ⋯ & 0           & 0           & 0           & 0           & 0           & 0           & 0           & 0           & 0           & 0.00000000\\\\\n",
       "\\end{tabular}\n"
      ],
      "text/markdown": [
       "\n",
       "A data.frame: 6 × 45\n",
       "\n",
       "| <!--/--> | Continent &lt;chr&gt; | Country &lt;chr&gt; | X1980 &lt;chr&gt; | X1981 &lt;chr&gt; | X1982 &lt;chr&gt; | X1983 &lt;chr&gt; | X1984 &lt;chr&gt; | X1985 &lt;chr&gt; | X1986 &lt;chr&gt; | X1987 &lt;chr&gt; | ⋯ ⋯ | X2013 &lt;chr&gt; | X2014 &lt;chr&gt; | X2015 &lt;chr&gt; | X2016 &lt;chr&gt; | X2017 &lt;chr&gt; | X2018 &lt;chr&gt; | X2019 &lt;chr&gt; | X2020 &lt;chr&gt; | X2021 &lt;chr&gt; | Consumption_Coal &lt;dbl&gt; |\n",
       "|---|---|---|---|---|---|---|---|---|---|---|---|---|---|---|---|---|---|---|---|---|---|\n",
       "| 1 | Africa |         Algeria      | 0.002547398 | 0.007655064 | 0.020475801 | 0.033213824 | 0.034235723 | 0.034242132 | 0.034610211 | 0.035079318 | ⋯ | 0.001259621 | 0.000835328 | 0.000576922 | 0.000575219 | 0.000924225 | 0.000410418 | 0.000405436 | 0.000658437 | 0.00094109  | 0.59481847 |\n",
       "| 2 | Africa |         Angola       | 0           | 0           | 0           | 0           | 0           | 0           | 0           | 0           | ⋯ | 0           | 0           | 0           | 0           | 0           | 0           | 0           | 0           | 0           | 0.00000000 |\n",
       "| 3 | Africa |         Benin        | 0           | 0           | 0           | 0           | 0           | 0           | 0           | 0           | ⋯ | 3.17E-05    | 0.000961001 | 0.001037911 | 0.001985751 | 0.002992505 | 0.002987991 | 0.002938642 | 0.001951128 | 0.003932631 | 0.01904649 |\n",
       "| 4 | Africa |         Botswana     | 0.008660526 | 0.009356617 | 0.010099701 | 0.00986717  | 0.009751175 | 0.010819193 | 0.01211937  | 0.012351123 | ⋯ | 0.014232074 | 0.016837001 | 0.027546501 | 0.038035577 | 0.035819574 | 0.033554487 | 0.031321952 | 0.029050749 | 0.032820821 | 0.80860308 |\n",
       "| 5 | Africa |         Burkina Faso | 0           | 0           | 0           | 0           | 0           | 0           | 0           | 0           | ⋯ | 0           | 0           | 0           | 0           | 0           | 0           | 0           | 0           | 0           | 0.00000000 |\n",
       "| 6 | Africa |         Burundi      | 0           | 0           | 0           | 0           | 0           | 0           | 0           | 0           | ⋯ | 0           | 0           | 0           | 0           | 0           | 0           | 0           | 0           | 0           | 0.00000000 |\n",
       "\n"
      ],
      "text/plain": [
       "  Continent Country              X1980       X1981       X1982      \n",
       "1 Africa            Algeria      0.002547398 0.007655064 0.020475801\n",
       "2 Africa            Angola       0           0           0          \n",
       "3 Africa            Benin        0           0           0          \n",
       "4 Africa            Botswana     0.008660526 0.009356617 0.010099701\n",
       "5 Africa            Burkina Faso 0           0           0          \n",
       "6 Africa            Burundi      0           0           0          \n",
       "  X1983       X1984       X1985       X1986       X1987       ⋯ X2013      \n",
       "1 0.033213824 0.034235723 0.034242132 0.034610211 0.035079318 ⋯ 0.001259621\n",
       "2 0           0           0           0           0           ⋯ 0          \n",
       "3 0           0           0           0           0           ⋯ 3.17E-05   \n",
       "4 0.00986717  0.009751175 0.010819193 0.01211937  0.012351123 ⋯ 0.014232074\n",
       "5 0           0           0           0           0           ⋯ 0          \n",
       "6 0           0           0           0           0           ⋯ 0          \n",
       "  X2014       X2015       X2016       X2017       X2018       X2019      \n",
       "1 0.000835328 0.000576922 0.000575219 0.000924225 0.000410418 0.000405436\n",
       "2 0           0           0           0           0           0          \n",
       "3 0.000961001 0.001037911 0.001985751 0.002992505 0.002987991 0.002938642\n",
       "4 0.016837001 0.027546501 0.038035577 0.035819574 0.033554487 0.031321952\n",
       "5 0           0           0           0           0           0          \n",
       "6 0           0           0           0           0           0          \n",
       "  X2020       X2021       Consumption_Coal\n",
       "1 0.000658437 0.00094109  0.59481847      \n",
       "2 0           0           0.00000000      \n",
       "3 0.001951128 0.003932631 0.01904649      \n",
       "4 0.029050749 0.032820821 0.80860308      \n",
       "5 0           0           0.00000000      \n",
       "6 0           0           0.00000000      "
      ]
     },
     "metadata": {},
     "output_type": "display_data"
    }
   ],
   "source": [
    "# Load a single CSV file from the Consumption_Data folder\n",
    "coal_data <- read.csv(\"Consumption_Data/Consumption_Coal.csv\")\n",
    "head(coal_data)  # Display the first few rows to check the data"
   ]
  },
  {
   "cell_type": "markdown",
   "metadata": {},
   "source": [
    "## A Basic R Demo"
   ]
  },
  {
   "cell_type": "code",
   "execution_count": null,
   "metadata": {
    "vscode": {
     "languageId": "r"
    }
   },
   "outputs": [
    {
     "data": {
      "text/html": [
       "<table class=\"dataframe\">\n",
       "<caption>A data.frame: 6 × 17</caption>\n",
       "<thead>\n",
       "\t<tr><th></th><th scope=col>Year</th><th scope=col>Month</th><th scope=col>Sector</th><th scope=col>Hydroelectric.Power</th><th scope=col>Geothermal.Energy</th><th scope=col>Solar.Energy</th><th scope=col>Wind.Energy</th><th scope=col>Wood.Energy</th><th scope=col>Waste.Energy</th><th scope=col>Fuel.Ethanol..Excluding.Denaturant</th><th scope=col>Biomass.Losses.and.Co.products</th><th scope=col>Biomass.Energy</th><th scope=col>Total.Renewable.Energy</th><th scope=col>Renewable.Diesel.Fuel</th><th scope=col>Other.Biofuels</th><th scope=col>Conventional.Hydroelectric.Power</th><th scope=col>Biodiesel</th></tr>\n",
       "\t<tr><th></th><th scope=col>&lt;int&gt;</th><th scope=col>&lt;int&gt;</th><th scope=col>&lt;chr&gt;</th><th scope=col>&lt;dbl&gt;</th><th scope=col>&lt;dbl&gt;</th><th scope=col>&lt;dbl&gt;</th><th scope=col>&lt;dbl&gt;</th><th scope=col>&lt;dbl&gt;</th><th scope=col>&lt;dbl&gt;</th><th scope=col>&lt;dbl&gt;</th><th scope=col>&lt;dbl&gt;</th><th scope=col>&lt;dbl&gt;</th><th scope=col>&lt;dbl&gt;</th><th scope=col>&lt;dbl&gt;</th><th scope=col>&lt;dbl&gt;</th><th scope=col>&lt;dbl&gt;</th><th scope=col>&lt;dbl&gt;</th></tr>\n",
       "</thead>\n",
       "<tbody>\n",
       "\t<tr><th scope=row>1</th><td>1973</td><td>1</td><td>Commerical    </td><td>0.00</td><td>0.00</td><td>0</td><td>0</td><td> 0.570</td><td>0.000</td><td>0</td><td>0</td><td> 0.570</td><td> 0.570</td><td>0</td><td>0</td><td> 0.000</td><td>0</td></tr>\n",
       "\t<tr><th scope=row>2</th><td>1973</td><td>1</td><td>Electric Power</td><td>0.00</td><td>0.49</td><td>0</td><td>0</td><td> 0.054</td><td>0.157</td><td>0</td><td>0</td><td> 0.211</td><td>89.223</td><td>0</td><td>0</td><td>88.522</td><td>0</td></tr>\n",
       "\t<tr><th scope=row>3</th><td>1973</td><td>1</td><td>Industrial    </td><td>1.04</td><td>0.00</td><td>0</td><td>0</td><td>98.933</td><td>0.000</td><td>0</td><td>0</td><td>98.933</td><td>99.973</td><td>0</td><td>0</td><td> 0.000</td><td>0</td></tr>\n",
       "\t<tr><th scope=row>4</th><td>1973</td><td>1</td><td>Residential   </td><td>0.00</td><td>0.00</td><td>0</td><td>0</td><td>30.074</td><td>0.000</td><td>0</td><td>0</td><td> 0.000</td><td>30.074</td><td>0</td><td>0</td><td> 0.000</td><td>0</td></tr>\n",
       "\t<tr><th scope=row>5</th><td>1973</td><td>1</td><td>Transportation</td><td>0.00</td><td>0.00</td><td>0</td><td>0</td><td> 0.000</td><td>0.000</td><td>0</td><td>0</td><td> 0.000</td><td> 0.000</td><td>0</td><td>0</td><td> 0.000</td><td>0</td></tr>\n",
       "\t<tr><th scope=row>6</th><td>1973</td><td>2</td><td>Commerical    </td><td>0.00</td><td>0.00</td><td>0</td><td>0</td><td> 0.515</td><td>0.000</td><td>0</td><td>0</td><td> 0.515</td><td> 0.515</td><td>0</td><td>0</td><td> 0.000</td><td>0</td></tr>\n",
       "</tbody>\n",
       "</table>\n"
      ],
      "text/latex": [
       "A data.frame: 6 × 17\n",
       "\\begin{tabular}{r|lllllllllllllllll}\n",
       "  & Year & Month & Sector & Hydroelectric.Power & Geothermal.Energy & Solar.Energy & Wind.Energy & Wood.Energy & Waste.Energy & Fuel.Ethanol..Excluding.Denaturant & Biomass.Losses.and.Co.products & Biomass.Energy & Total.Renewable.Energy & Renewable.Diesel.Fuel & Other.Biofuels & Conventional.Hydroelectric.Power & Biodiesel\\\\\n",
       "  & <int> & <int> & <chr> & <dbl> & <dbl> & <dbl> & <dbl> & <dbl> & <dbl> & <dbl> & <dbl> & <dbl> & <dbl> & <dbl> & <dbl> & <dbl> & <dbl>\\\\\n",
       "\\hline\n",
       "\t1 & 1973 & 1 & Commerical     & 0.00 & 0.00 & 0 & 0 &  0.570 & 0.000 & 0 & 0 &  0.570 &  0.570 & 0 & 0 &  0.000 & 0\\\\\n",
       "\t2 & 1973 & 1 & Electric Power & 0.00 & 0.49 & 0 & 0 &  0.054 & 0.157 & 0 & 0 &  0.211 & 89.223 & 0 & 0 & 88.522 & 0\\\\\n",
       "\t3 & 1973 & 1 & Industrial     & 1.04 & 0.00 & 0 & 0 & 98.933 & 0.000 & 0 & 0 & 98.933 & 99.973 & 0 & 0 &  0.000 & 0\\\\\n",
       "\t4 & 1973 & 1 & Residential    & 0.00 & 0.00 & 0 & 0 & 30.074 & 0.000 & 0 & 0 &  0.000 & 30.074 & 0 & 0 &  0.000 & 0\\\\\n",
       "\t5 & 1973 & 1 & Transportation & 0.00 & 0.00 & 0 & 0 &  0.000 & 0.000 & 0 & 0 &  0.000 &  0.000 & 0 & 0 &  0.000 & 0\\\\\n",
       "\t6 & 1973 & 2 & Commerical     & 0.00 & 0.00 & 0 & 0 &  0.515 & 0.000 & 0 & 0 &  0.515 &  0.515 & 0 & 0 &  0.000 & 0\\\\\n",
       "\\end{tabular}\n"
      ],
      "text/markdown": [
       "\n",
       "A data.frame: 6 × 17\n",
       "\n",
       "| <!--/--> | Year &lt;int&gt; | Month &lt;int&gt; | Sector &lt;chr&gt; | Hydroelectric.Power &lt;dbl&gt; | Geothermal.Energy &lt;dbl&gt; | Solar.Energy &lt;dbl&gt; | Wind.Energy &lt;dbl&gt; | Wood.Energy &lt;dbl&gt; | Waste.Energy &lt;dbl&gt; | Fuel.Ethanol..Excluding.Denaturant &lt;dbl&gt; | Biomass.Losses.and.Co.products &lt;dbl&gt; | Biomass.Energy &lt;dbl&gt; | Total.Renewable.Energy &lt;dbl&gt; | Renewable.Diesel.Fuel &lt;dbl&gt; | Other.Biofuels &lt;dbl&gt; | Conventional.Hydroelectric.Power &lt;dbl&gt; | Biodiesel &lt;dbl&gt; |\n",
       "|---|---|---|---|---|---|---|---|---|---|---|---|---|---|---|---|---|---|\n",
       "| 1 | 1973 | 1 | Commerical     | 0.00 | 0.00 | 0 | 0 |  0.570 | 0.000 | 0 | 0 |  0.570 |  0.570 | 0 | 0 |  0.000 | 0 |\n",
       "| 2 | 1973 | 1 | Electric Power | 0.00 | 0.49 | 0 | 0 |  0.054 | 0.157 | 0 | 0 |  0.211 | 89.223 | 0 | 0 | 88.522 | 0 |\n",
       "| 3 | 1973 | 1 | Industrial     | 1.04 | 0.00 | 0 | 0 | 98.933 | 0.000 | 0 | 0 | 98.933 | 99.973 | 0 | 0 |  0.000 | 0 |\n",
       "| 4 | 1973 | 1 | Residential    | 0.00 | 0.00 | 0 | 0 | 30.074 | 0.000 | 0 | 0 |  0.000 | 30.074 | 0 | 0 |  0.000 | 0 |\n",
       "| 5 | 1973 | 1 | Transportation | 0.00 | 0.00 | 0 | 0 |  0.000 | 0.000 | 0 | 0 |  0.000 |  0.000 | 0 | 0 |  0.000 | 0 |\n",
       "| 6 | 1973 | 2 | Commerical     | 0.00 | 0.00 | 0 | 0 |  0.515 | 0.000 | 0 | 0 |  0.515 |  0.515 | 0 | 0 |  0.000 | 0 |\n",
       "\n"
      ],
      "text/plain": [
       "  Year Month Sector         Hydroelectric.Power Geothermal.Energy Solar.Energy\n",
       "1 1973 1     Commerical     0.00                0.00              0           \n",
       "2 1973 1     Electric Power 0.00                0.49              0           \n",
       "3 1973 1     Industrial     1.04                0.00              0           \n",
       "4 1973 1     Residential    0.00                0.00              0           \n",
       "5 1973 1     Transportation 0.00                0.00              0           \n",
       "6 1973 2     Commerical     0.00                0.00              0           \n",
       "  Wind.Energy Wood.Energy Waste.Energy Fuel.Ethanol..Excluding.Denaturant\n",
       "1 0            0.570      0.000        0                                 \n",
       "2 0            0.054      0.157        0                                 \n",
       "3 0           98.933      0.000        0                                 \n",
       "4 0           30.074      0.000        0                                 \n",
       "5 0            0.000      0.000        0                                 \n",
       "6 0            0.515      0.000        0                                 \n",
       "  Biomass.Losses.and.Co.products Biomass.Energy Total.Renewable.Energy\n",
       "1 0                               0.570          0.570                \n",
       "2 0                               0.211         89.223                \n",
       "3 0                              98.933         99.973                \n",
       "4 0                               0.000         30.074                \n",
       "5 0                               0.000          0.000                \n",
       "6 0                               0.515          0.515                \n",
       "  Renewable.Diesel.Fuel Other.Biofuels Conventional.Hydroelectric.Power\n",
       "1 0                     0               0.000                          \n",
       "2 0                     0              88.522                          \n",
       "3 0                     0               0.000                          \n",
       "4 0                     0               0.000                          \n",
       "5 0                     0               0.000                          \n",
       "6 0                     0               0.000                          \n",
       "  Biodiesel\n",
       "1 0        \n",
       "2 0        \n",
       "3 0        \n",
       "4 0        \n",
       "5 0        \n",
       "6 0        "
      ]
     },
     "metadata": {},
     "output_type": "display_data"
    },
    {
     "data": {
      "text/plain": [
       "\n",
       "Call:\n",
       "lm(formula = Hydroelectric.Power ~ Year, data = renewable_data)\n",
       "\n",
       "Residuals:\n",
       "    Min      1Q  Median      3Q     Max \n",
       "-0.2316 -0.1946 -0.1467 -0.1106  1.8673 \n",
       "\n",
       "Coefficients:\n",
       "              Estimate Std. Error t value Pr(>|t|)    \n",
       "(Intercept)  5.1012707  0.9107969   5.601 2.32e-08 ***\n",
       "Year        -0.0024682  0.0004558  -5.415 6.62e-08 ***\n",
       "---\n",
       "Signif. codes:  0 '***' 0.001 '**' 0.01 '*' 0.05 '.' 0.1 ' ' 1\n",
       "\n",
       "Residual standard error: 0.3721 on 3063 degrees of freedom\n",
       "Multiple R-squared:  0.009481,\tAdjusted R-squared:  0.009158 \n",
       "F-statistic: 29.32 on 1 and 3063 DF,  p-value: 6.615e-08\n"
      ]
     },
     "metadata": {},
     "output_type": "display_data"
    },
    {
     "data": {
      "image/png": "[encoded data removed]",
      "text/plain": [
       "Plot with title \"Hydroelectric Power Consumption Over Years\""
      ]
     },
     "metadata": {
      "image/png": {
       "height": 420,
       "width": 420
      }
     },
     "output_type": "display_data"
    }
   ],
   "source": [
    "# Inspect the first few rows to verify data loading \n",
    "# (I'm using the dataset I loaded earlier! This is why we love jupyter)\n",
    "head(renewable_data)\n",
    "\n",
    "# Fit a simple linear regression model: Hydroelectric Power ~ Year\n",
    "slr_model <- lm(Hydroelectric.Power ~ Year, data = renewable_data)\n",
    "\n",
    "# Print the model summary to understand model coefficients and statistics\n",
    "summary(slr_model)\n",
    "\n",
    "# Plotting the data and the regression line\n",
    "plot(renewable_data$Year, renewable_data$Hydroelectric.Power, \n",
    "     main = \"Hydroelectric Power Consumption Over Years\",\n",
    "     xlab = \"Year\", \n",
    "     ylab = \"Hydroelectric Power\",\n",
    "     pch = 19, \n",
    "     col = \"blue\")\n",
    "\n",
    "# Add the regression line to the plot\n",
    "abline(slr_model, col = \"red\", lwd = 2)\n"
   ]
  }
 ],
 "metadata": {
  "kernelspec": {
   "display_name": "R",
   "language": "R",
   "name": "ir"
  },
  "language_info": {
   "codemirror_mode": "r",
   "file_extension": ".r",
   "mimetype": "text/x-r-source",
   "name": "R",
   "pygments_lexer": "r",
   "version": "4.4.1"
  }
 },
 "nbformat": 4,
 "nbformat_minor": 2
}
